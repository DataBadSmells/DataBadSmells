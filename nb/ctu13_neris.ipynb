{
 "cells": [
  {
   "cell_type": "code",
   "execution_count": 1,
   "metadata": {},
   "outputs": [],
   "source": [
    "import pandas as pd"
   ]
  },
  {
   "cell_type": "markdown",
   "metadata": {},
   "source": [
    "# Neris"
   ]
  },
  {
   "cell_type": "markdown",
   "metadata": {},
   "source": [
    "## Neris Scenario 1"
   ]
  },
  {
   "cell_type": "code",
   "execution_count": 2,
   "metadata": {},
   "outputs": [],
   "source": [
    "root_path = \"\" # Root to CTU-13 dataset"
   ]
  },
  {
   "cell_type": "code",
   "execution_count": 7,
   "metadata": {},
   "outputs": [],
   "source": [
    "neris1 = pd.read_csv(root_path + \"/1/capture20110810.binetflow\")"
   ]
  },
  {
   "cell_type": "code",
   "execution_count": 8,
   "metadata": {},
   "outputs": [
    {
     "data": {
      "text/plain": [
       "Index(['StartTime', 'Dur', 'Proto', 'SrcAddr', 'Sport', 'Dir', 'DstAddr',\n",
       "       'Dport', 'State', 'sTos', 'dTos', 'TotPkts', 'TotBytes', 'SrcBytes',\n",
       "       'Label'],\n",
       "      dtype='object')"
      ]
     },
     "execution_count": 8,
     "metadata": {},
     "output_type": "execute_result"
    }
   ],
   "source": [
    "neris1.columns"
   ]
  },
  {
   "cell_type": "code",
   "execution_count": 9,
   "metadata": {},
   "outputs": [
    {
     "data": {
      "text/plain": [
       "Label\n",
       "flow=Background-UDP-Established           1169677\n",
       "flow=To-Background-UDP-CVUT-DNS-Server     941706\n",
       "flow=Background-TCP-Established            223543\n",
       "flow=Background-Established-cmpgw-CVUT     137257\n",
       "flow=Background-TCP-Attempt                105438\n",
       "flow=Background-UDP-Attempt                 66699\n",
       "flow=Background                             40216\n",
       "flow=Background-Attempt-cmpgw-CVUT          30983\n",
       "flow=To-Background-CVUT-Proxy               19542\n",
       "flow=To-Background-CVUT-WebServer            2587\n",
       "Name: count, dtype: int64"
      ]
     },
     "execution_count": 9,
     "metadata": {},
     "output_type": "execute_result"
    }
   ],
   "source": [
    "neris1[neris1[\"Label\"].str.contains(\"Background\")][\"Label\"].value_counts().head(10)"
   ]
  },
  {
   "cell_type": "code",
   "execution_count": 10,
   "metadata": {},
   "outputs": [
    {
     "data": {
      "text/plain": [
       "Label\n",
       "flow=From-Normal-V42-Stribrek          18438\n",
       "flow=From-Normal-V42-Grill              7654\n",
       "flow=From-Normal-V42-Jist               3808\n",
       "flow=From-Normal-V42-CVUT-WebServer      269\n",
       "flow=To-Normal-V42-UDP-NTP-server        120\n",
       "Name: count, dtype: int64"
      ]
     },
     "execution_count": 10,
     "metadata": {},
     "output_type": "execute_result"
    }
   ],
   "source": [
    "neris1[neris1[\"Label\"].str.contains(\"Normal\")][\"Label\"].value_counts().head(5)"
   ]
  },
  {
   "cell_type": "code",
   "execution_count": 11,
   "metadata": {},
   "outputs": [
    {
     "data": {
      "text/plain": [
       "['flow=From-Botnet-V42-UDP-DNS',\n",
       " 'flow=From-Botnet-V42-TCP-Attempt-SPAM',\n",
       " 'flow=From-Botnet-V42-UDP-Attempt-DNS',\n",
       " 'flow=From-Botnet-V42-TCP-Attempt',\n",
       " 'flow=From-Botnet-V42-TCP-Established-HTTP-Ad-63',\n",
       " 'flow=From-Botnet-V42-TCP-Not-Encrypted-SMTP-Private-Proxy-1',\n",
       " 'flow=From-Botnet-V42-TCP-CC16-HTTP-Not-Encrypted',\n",
       " 'flow=From-Botnet-V42-TCP-WEB-Established',\n",
       " 'flow=From-Botnet-V42-TCP-Established-SPAM',\n",
       " 'flow=From-Botnet-V42-TCP-CC53-HTTP-Not-Encrypted',\n",
       " 'flow=From-Botnet-V42-TCP-WEB-Established-SSL',\n",
       " 'flow=From-Botnet-V42-TCP-Established',\n",
       " 'flow=From-Botnet-V42-TCP-Established-HTTP-Ad-1',\n",
       " 'flow=From-Botnet-V42-TCP-CC1-HTTP-Not-Encrypted',\n",
       " 'flow=From-Botnet-V42-TCP-Established-HTTP-Ad-20',\n",
       " 'flow=From-Botnet-V42-TCP-Established-HTTP-Ad-18',\n",
       " 'flow=From-Botnet-V42-TCP-Established-HTTP-Ad-21',\n",
       " 'flow=From-Botnet-V42-TCP-Established-HTTP-Ad-15',\n",
       " 'flow=From-Botnet-V42-TCP-Established-HTTP-Ad-55',\n",
       " 'flow=From-Botnet-V42-TCP-Established-HTTP-Ad-yieldmanager-9',\n",
       " 'flow=From-Botnet-V42-TCP-Established-HTTP-Ad-44',\n",
       " 'flow=From-Botnet-V42-TCP-Established-HTTP-Ad-37',\n",
       " 'flow=From-Botnet-V42-TCP-Established-HTTP-Ad-30',\n",
       " 'flow=From-Botnet-V42-TCP-Established-HTTP-Ad-16',\n",
       " 'flow=From-Botnet-V42-TCP-Established-HTTP-Ad-40',\n",
       " 'flow=From-Botnet-V42-TCP-Established-HTTP-Ad-32',\n",
       " 'flow=From-Botnet-V42-TCP-Established-HTTP-Ad-3',\n",
       " 'flow=From-Botnet-V42-TCP-Established-HTTP-Ad-61',\n",
       " 'flow=From-Botnet-V42-TCP-Established-HTTP-Ad-10',\n",
       " 'flow=From-Botnet-V42-TCP-Established-SSL-To-Microsoft-4',\n",
       " 'flow=From-Botnet-V42-TCP-CC54-Custom-Encryption',\n",
       " 'flow=From-Botnet-V42-TCP-CC6-Plain-HTTP-Encrypted-Data',\n",
       " 'flow=From-Botnet-V42-TCP-HTTP-Google-Net-Established-6',\n",
       " 'flow=From-Botnet-V42-TCP-Established-HTTP-Ad-41',\n",
       " 'flow=From-Botnet-V42-TCP-CC55-Custom-Encryption',\n",
       " 'flow=From-Botnet-V42-TCP-Established-HTTP-Ad-7',\n",
       " 'flow=From-Botnet-V42-TCP-Established-HTTP-Ad-45',\n",
       " 'flow=From-Botnet-V42-TCP-Established-HTTP-Ad-48',\n",
       " 'flow=From-Botnet-V42-TCP-Established-HTTP-Ad-25',\n",
       " 'flow=From-Botnet-V42-TCP-Established-HTTP-Binary-Download-3',\n",
       " 'flow=From-Botnet-V42-TCP-Established-HTTP-Ad-6',\n",
       " 'flow=From-Botnet-V42-UDP-Established',\n",
       " 'flow=From-Botnet-V42-TCP-Established-Custom-Encryption-2',\n",
       " 'flow=From-Botnet-V42-TCP-Established-Custom-Encryption-3',\n",
       " 'flow=From-Botnet-V42-TCP-Established-HTTP-Ad-51',\n",
       " 'flow=From-Botnet-V42-TCP-Established-HTTP-Ad-12',\n",
       " 'flow=From-Botnet-V42-TCP-Established-HTTP-Ad-50',\n",
       " 'flow=From-Botnet-V42-TCP-Established-HTTP-Ad-52',\n",
       " 'flow=From-Botnet-V42-TCP-Established-HTTP-Ad-59',\n",
       " 'flow=From-Botnet-V42-TCP-Established-HTTP-Binary-Download-1',\n",
       " 'flow=From-Botnet-V42-TCP-Established-HTTP-Ad-42',\n",
       " 'flow=From-Botnet-V42-TCP-Established-HTTP-Ad-33',\n",
       " 'flow=From-Botnet-V42-TCP-Established-HTTP-Ad-57',\n",
       " 'flow=From-Botnet-V42-TCP-Established-HTTP-Ad-53',\n",
       " 'flow=From-Botnet-V42-TCP-Established-HTTP-Ad-47',\n",
       " 'flow=From-Botnet-V42-TCP-Established-HTTP-Ad-5',\n",
       " 'flow=From-Botnet-V42-TCP-Established-HTTP-Ad-28',\n",
       " 'flow=From-Botnet-V42-TCP-Established-HTTP-Binary-Download-9',\n",
       " 'flow=From-Botnet-V42-TCP-Established-HTTP-Binary-Download-Custom-Port-4',\n",
       " 'flow=From-Botnet-V42-TCP-Established-HTTP-Binary-Download-Custom-Port-7',\n",
       " 'flow=From-Botnet-V42-ICMP',\n",
       " 'flow=From-Botnet-V42-TCP-Established-HTTP-Ad-64',\n",
       " 'flow=From-Botnet-V42-TCP-Established-HTTP-Ad-34',\n",
       " 'flow=From-Botnet-V42-TCP-HTTP-Not-Encrypted-Down-2',\n",
       " 'flow=From-Botnet-V42-TCP-Established-HTTP-Binary-Download-Custom-Port-5',\n",
       " 'flow=From-Botnet-V42-TCP-Established-HTTP-Adobe-4',\n",
       " 'flow=From-Botnet-V42-TCP-Established-HTTP-Ad-60',\n",
       " 'flow=From-Botnet-V42-TCP-Established-HTTP-Ad-49']"
      ]
     },
     "execution_count": 11,
     "metadata": {},
     "output_type": "execute_result"
    }
   ],
   "source": [
    "neris1[neris1[\"Label\"].str.contains(\"Botnet\")][\"Label\"].value_counts().index.tolist()"
   ]
  },
  {
   "cell_type": "code",
   "execution_count": 12,
   "metadata": {},
   "outputs": [],
   "source": [
    "neris1[\"Category\"] = \"Other\""
   ]
  },
  {
   "cell_type": "markdown",
   "metadata": {},
   "source": [
    "### flow=From-Botnet-V42-UDP-DNS"
   ]
  },
  {
   "cell_type": "code",
   "execution_count": 13,
   "metadata": {},
   "outputs": [],
   "source": [
    "neris1.loc[neris1[(neris1[\"Label\"] == \"flow=From-Normal-V42-Stribrek\") | (neris1[\"Label\"] == \"flow=From-Normal-V42-Grill\") | (neris1[\"Label\"] == \"flow=From-Normal-V42-Jist\")].index, \"Category\"] = \"Normal_Host_Traffic\""
   ]
  },
  {
   "cell_type": "code",
   "execution_count": 14,
   "metadata": {},
   "outputs": [],
   "source": [
    "neris1.loc[neris1[neris1[\"Label\"] == \"flow=From-Botnet-V42-UDP-DNS\"].index, \"Category\"] = \"MAL_UDP_DNS\""
   ]
  },
  {
   "cell_type": "code",
   "execution_count": 15,
   "metadata": {},
   "outputs": [],
   "source": [
    "neris1.loc[neris1[(neris1[\"Label\"] == \"flow=To-Background-UDP-CVUT-DNS-Server\") & (neris1[\"Dport\"] == \"53\")].index, \"Category\"] = \"BG_UDP_DNS\""
   ]
  },
  {
   "cell_type": "code",
   "execution_count": 16,
   "metadata": {},
   "outputs": [
    {
     "data": {
      "text/plain": [
       "Category\n",
       "Other                  1826890\n",
       "BG_UDP_DNS              941706\n",
       "Normal_Host_Traffic      29900\n",
       "MAL_UDP_DNS              26140\n",
       "Name: count, dtype: int64"
      ]
     },
     "execution_count": 16,
     "metadata": {},
     "output_type": "execute_result"
    }
   ],
   "source": [
    "neris1[\"Category\"].value_counts()"
   ]
  },
  {
   "cell_type": "markdown",
   "metadata": {},
   "source": [
    "### TCP-Attempt"
   ]
  },
  {
   "cell_type": "code",
   "execution_count": 17,
   "metadata": {},
   "outputs": [],
   "source": [
    "neris1.loc[neris1[neris1[\"Label\"].str.contains(\"flow=From-Botnet-V42-TCP-Attempt\")].index, \"Category\"] = \"MAL_TCP_ATTEMPT\""
   ]
  },
  {
   "cell_type": "code",
   "execution_count": 18,
   "metadata": {},
   "outputs": [],
   "source": [
    "neris1.loc[neris1[neris1[\"Label\"] == \"flow=Background-TCP-Attempt\"].index, \"Category\"] = \"BG_TCP_ATTEMPT\""
   ]
  },
  {
   "cell_type": "code",
   "execution_count": 19,
   "metadata": {},
   "outputs": [
    {
     "data": {
      "text/plain": [
       "Category\n",
       "Other                  1711466\n",
       "BG_UDP_DNS              941706\n",
       "BG_TCP_ATTEMPT          105438\n",
       "Normal_Host_Traffic      29900\n",
       "MAL_UDP_DNS              26140\n",
       "MAL_TCP_ATTEMPT           9986\n",
       "Name: count, dtype: int64"
      ]
     },
     "execution_count": 19,
     "metadata": {},
     "output_type": "execute_result"
    }
   ],
   "source": [
    "neris1[\"Category\"].value_counts()"
   ]
  },
  {
   "cell_type": "markdown",
   "metadata": {},
   "source": [
    "### UDP DNS Attempt"
   ]
  },
  {
   "cell_type": "code",
   "execution_count": 20,
   "metadata": {},
   "outputs": [],
   "source": [
    "neris1.loc[neris1[neris1[\"Label\"] == \"flow=From-Botnet-V42-UDP-Attempt-DNS\"].index, \"Category\"] = \"MAL_UDP_ATTEMPT_DNS\""
   ]
  },
  {
   "cell_type": "code",
   "execution_count": 21,
   "metadata": {},
   "outputs": [],
   "source": [
    "neris1.loc[neris1[neris1[\"Label\"] == \"flow=Background-UDP-Attempt\"].index, \"Category\"] = \"BG_UDP_ATTEMPT_DNS\""
   ]
  },
  {
   "cell_type": "code",
   "execution_count": 22,
   "metadata": {},
   "outputs": [
    {
     "data": {
      "text/plain": [
       "Category\n",
       "Other                  1641710\n",
       "BG_UDP_DNS              941706\n",
       "BG_TCP_ATTEMPT          105438\n",
       "BG_UDP_ATTEMPT_DNS       66699\n",
       "Normal_Host_Traffic      29900\n",
       "MAL_UDP_DNS              26140\n",
       "MAL_TCP_ATTEMPT           9986\n",
       "MAL_UDP_ATTEMPT_DNS       3057\n",
       "Name: count, dtype: int64"
      ]
     },
     "execution_count": 22,
     "metadata": {},
     "output_type": "execute_result"
    }
   ],
   "source": [
    "neris1[\"Category\"].value_counts()"
   ]
  },
  {
   "cell_type": "markdown",
   "metadata": {},
   "source": [
    "### TCP ESTABLISHED"
   ]
  },
  {
   "cell_type": "code",
   "execution_count": 23,
   "metadata": {},
   "outputs": [],
   "source": [
    "neris1.loc[neris1[(neris1[\"Label\"].str.contains(\"Botnet\")) & (neris1[\"Label\"].str.contains(\"TCP\")) & (neris1[\"Label\"].str.contains(\"Established\"))].index, \"Category\"] = \"MAL_TCP_ESTABLISHED\""
   ]
  },
  {
   "cell_type": "code",
   "execution_count": 24,
   "metadata": {},
   "outputs": [],
   "source": [
    "neris1.loc[neris1[neris1[\"Label\"] == \"flow=Background-TCP-Established\"].index, \"Category\"] = \"BG_TCP_ESTABLISHED\""
   ]
  },
  {
   "cell_type": "code",
   "execution_count": 25,
   "metadata": {},
   "outputs": [
    {
     "data": {
      "text/plain": [
       "Category\n",
       "Other                  1417059\n",
       "BG_UDP_DNS              941706\n",
       "BG_TCP_ESTABLISHED      223543\n",
       "BG_TCP_ATTEMPT          105438\n",
       "BG_UDP_ATTEMPT_DNS       66699\n",
       "Normal_Host_Traffic      29900\n",
       "MAL_UDP_DNS              26140\n",
       "MAL_TCP_ATTEMPT           9986\n",
       "MAL_UDP_ATTEMPT_DNS       3057\n",
       "MAL_TCP_ESTABLISHED       1108\n",
       "Name: count, dtype: int64"
      ]
     },
     "execution_count": 25,
     "metadata": {},
     "output_type": "execute_result"
    }
   ],
   "source": [
    "neris1[\"Category\"].value_counts()"
   ]
  },
  {
   "cell_type": "code",
   "execution_count": 27,
   "metadata": {},
   "outputs": [
    {
     "ename": "KeyboardInterrupt",
     "evalue": "",
     "output_type": "error",
     "traceback": [
      "\u001b[0;31m---------------------------------------------------------------------------\u001b[0m",
      "\u001b[0;31mKeyboardInterrupt\u001b[0m                         Traceback (most recent call last)",
      "Cell \u001b[0;32mIn[27], line 1\u001b[0m\n\u001b[0;32m----> 1\u001b[0m \u001b[43mneris1\u001b[49m\u001b[38;5;241;43m.\u001b[39;49m\u001b[43mto_csv\u001b[49m\u001b[43m(\u001b[49m\u001b[43mroot_path\u001b[49m\u001b[43m \u001b[49m\u001b[38;5;241;43m+\u001b[39;49m\u001b[43m \u001b[49m\u001b[38;5;124;43m\"\u001b[39;49m\u001b[38;5;124;43m1/neris1_labelled.csv\u001b[39;49m\u001b[38;5;124;43m\"\u001b[39;49m\u001b[43m,\u001b[49m\u001b[43m \u001b[49m\u001b[43mindex\u001b[49m\u001b[38;5;241;43m=\u001b[39;49m\u001b[38;5;28;43;01mFalse\u001b[39;49;00m\u001b[43m)\u001b[49m\n",
      "File \u001b[0;32m~/data-science/lib/python3.9/site-packages/pandas/core/generic.py:3902\u001b[0m, in \u001b[0;36mNDFrame.to_csv\u001b[0;34m(self, path_or_buf, sep, na_rep, float_format, columns, header, index, index_label, mode, encoding, compression, quoting, quotechar, lineterminator, chunksize, date_format, doublequote, escapechar, decimal, errors, storage_options)\u001b[0m\n\u001b[1;32m   3891\u001b[0m df \u001b[38;5;241m=\u001b[39m \u001b[38;5;28mself\u001b[39m \u001b[38;5;28;01mif\u001b[39;00m \u001b[38;5;28misinstance\u001b[39m(\u001b[38;5;28mself\u001b[39m, ABCDataFrame) \u001b[38;5;28;01melse\u001b[39;00m \u001b[38;5;28mself\u001b[39m\u001b[38;5;241m.\u001b[39mto_frame()\n\u001b[1;32m   3893\u001b[0m formatter \u001b[38;5;241m=\u001b[39m DataFrameFormatter(\n\u001b[1;32m   3894\u001b[0m     frame\u001b[38;5;241m=\u001b[39mdf,\n\u001b[1;32m   3895\u001b[0m     header\u001b[38;5;241m=\u001b[39mheader,\n\u001b[0;32m   (...)\u001b[0m\n\u001b[1;32m   3899\u001b[0m     decimal\u001b[38;5;241m=\u001b[39mdecimal,\n\u001b[1;32m   3900\u001b[0m )\n\u001b[0;32m-> 3902\u001b[0m \u001b[38;5;28;01mreturn\u001b[39;00m \u001b[43mDataFrameRenderer\u001b[49m\u001b[43m(\u001b[49m\u001b[43mformatter\u001b[49m\u001b[43m)\u001b[49m\u001b[38;5;241;43m.\u001b[39;49m\u001b[43mto_csv\u001b[49m\u001b[43m(\u001b[49m\n\u001b[1;32m   3903\u001b[0m \u001b[43m    \u001b[49m\u001b[43mpath_or_buf\u001b[49m\u001b[43m,\u001b[49m\n\u001b[1;32m   3904\u001b[0m \u001b[43m    \u001b[49m\u001b[43mlineterminator\u001b[49m\u001b[38;5;241;43m=\u001b[39;49m\u001b[43mlineterminator\u001b[49m\u001b[43m,\u001b[49m\n\u001b[1;32m   3905\u001b[0m \u001b[43m    \u001b[49m\u001b[43msep\u001b[49m\u001b[38;5;241;43m=\u001b[39;49m\u001b[43msep\u001b[49m\u001b[43m,\u001b[49m\n\u001b[1;32m   3906\u001b[0m \u001b[43m    \u001b[49m\u001b[43mencoding\u001b[49m\u001b[38;5;241;43m=\u001b[39;49m\u001b[43mencoding\u001b[49m\u001b[43m,\u001b[49m\n\u001b[1;32m   3907\u001b[0m \u001b[43m    \u001b[49m\u001b[43merrors\u001b[49m\u001b[38;5;241;43m=\u001b[39;49m\u001b[43merrors\u001b[49m\u001b[43m,\u001b[49m\n\u001b[1;32m   3908\u001b[0m \u001b[43m    \u001b[49m\u001b[43mcompression\u001b[49m\u001b[38;5;241;43m=\u001b[39;49m\u001b[43mcompression\u001b[49m\u001b[43m,\u001b[49m\n\u001b[1;32m   3909\u001b[0m \u001b[43m    \u001b[49m\u001b[43mquoting\u001b[49m\u001b[38;5;241;43m=\u001b[39;49m\u001b[43mquoting\u001b[49m\u001b[43m,\u001b[49m\n\u001b[1;32m   3910\u001b[0m \u001b[43m    \u001b[49m\u001b[43mcolumns\u001b[49m\u001b[38;5;241;43m=\u001b[39;49m\u001b[43mcolumns\u001b[49m\u001b[43m,\u001b[49m\n\u001b[1;32m   3911\u001b[0m \u001b[43m    \u001b[49m\u001b[43mindex_label\u001b[49m\u001b[38;5;241;43m=\u001b[39;49m\u001b[43mindex_label\u001b[49m\u001b[43m,\u001b[49m\n\u001b[1;32m   3912\u001b[0m \u001b[43m    \u001b[49m\u001b[43mmode\u001b[49m\u001b[38;5;241;43m=\u001b[39;49m\u001b[43mmode\u001b[49m\u001b[43m,\u001b[49m\n\u001b[1;32m   3913\u001b[0m \u001b[43m    \u001b[49m\u001b[43mchunksize\u001b[49m\u001b[38;5;241;43m=\u001b[39;49m\u001b[43mchunksize\u001b[49m\u001b[43m,\u001b[49m\n\u001b[1;32m   3914\u001b[0m \u001b[43m    \u001b[49m\u001b[43mquotechar\u001b[49m\u001b[38;5;241;43m=\u001b[39;49m\u001b[43mquotechar\u001b[49m\u001b[43m,\u001b[49m\n\u001b[1;32m   3915\u001b[0m \u001b[43m    \u001b[49m\u001b[43mdate_format\u001b[49m\u001b[38;5;241;43m=\u001b[39;49m\u001b[43mdate_format\u001b[49m\u001b[43m,\u001b[49m\n\u001b[1;32m   3916\u001b[0m \u001b[43m    \u001b[49m\u001b[43mdoublequote\u001b[49m\u001b[38;5;241;43m=\u001b[39;49m\u001b[43mdoublequote\u001b[49m\u001b[43m,\u001b[49m\n\u001b[1;32m   3917\u001b[0m \u001b[43m    \u001b[49m\u001b[43mescapechar\u001b[49m\u001b[38;5;241;43m=\u001b[39;49m\u001b[43mescapechar\u001b[49m\u001b[43m,\u001b[49m\n\u001b[1;32m   3918\u001b[0m \u001b[43m    \u001b[49m\u001b[43mstorage_options\u001b[49m\u001b[38;5;241;43m=\u001b[39;49m\u001b[43mstorage_options\u001b[49m\u001b[43m,\u001b[49m\n\u001b[1;32m   3919\u001b[0m \u001b[43m\u001b[49m\u001b[43m)\u001b[49m\n",
      "File \u001b[0;32m~/data-science/lib/python3.9/site-packages/pandas/io/formats/format.py:1152\u001b[0m, in \u001b[0;36mDataFrameRenderer.to_csv\u001b[0;34m(self, path_or_buf, encoding, sep, columns, index_label, mode, compression, quoting, quotechar, lineterminator, chunksize, date_format, doublequote, escapechar, errors, storage_options)\u001b[0m\n\u001b[1;32m   1131\u001b[0m     created_buffer \u001b[38;5;241m=\u001b[39m \u001b[38;5;28;01mFalse\u001b[39;00m\n\u001b[1;32m   1133\u001b[0m csv_formatter \u001b[38;5;241m=\u001b[39m CSVFormatter(\n\u001b[1;32m   1134\u001b[0m     path_or_buf\u001b[38;5;241m=\u001b[39mpath_or_buf,\n\u001b[1;32m   1135\u001b[0m     lineterminator\u001b[38;5;241m=\u001b[39mlineterminator,\n\u001b[0;32m   (...)\u001b[0m\n\u001b[1;32m   1150\u001b[0m     formatter\u001b[38;5;241m=\u001b[39m\u001b[38;5;28mself\u001b[39m\u001b[38;5;241m.\u001b[39mfmt,\n\u001b[1;32m   1151\u001b[0m )\n\u001b[0;32m-> 1152\u001b[0m \u001b[43mcsv_formatter\u001b[49m\u001b[38;5;241;43m.\u001b[39;49m\u001b[43msave\u001b[49m\u001b[43m(\u001b[49m\u001b[43m)\u001b[49m\n\u001b[1;32m   1154\u001b[0m \u001b[38;5;28;01mif\u001b[39;00m created_buffer:\n\u001b[1;32m   1155\u001b[0m     \u001b[38;5;28;01massert\u001b[39;00m \u001b[38;5;28misinstance\u001b[39m(path_or_buf, StringIO)\n",
      "File \u001b[0;32m~/data-science/lib/python3.9/site-packages/pandas/io/formats/csvs.py:266\u001b[0m, in \u001b[0;36mCSVFormatter.save\u001b[0;34m(self)\u001b[0m\n\u001b[1;32m    247\u001b[0m \u001b[38;5;28;01mwith\u001b[39;00m get_handle(\n\u001b[1;32m    248\u001b[0m     \u001b[38;5;28mself\u001b[39m\u001b[38;5;241m.\u001b[39mfilepath_or_buffer,\n\u001b[1;32m    249\u001b[0m     \u001b[38;5;28mself\u001b[39m\u001b[38;5;241m.\u001b[39mmode,\n\u001b[0;32m   (...)\u001b[0m\n\u001b[1;32m    254\u001b[0m ) \u001b[38;5;28;01mas\u001b[39;00m handles:\n\u001b[1;32m    255\u001b[0m     \u001b[38;5;66;03m# Note: self.encoding is irrelevant here\u001b[39;00m\n\u001b[1;32m    256\u001b[0m     \u001b[38;5;28mself\u001b[39m\u001b[38;5;241m.\u001b[39mwriter \u001b[38;5;241m=\u001b[39m csvlib\u001b[38;5;241m.\u001b[39mwriter(\n\u001b[1;32m    257\u001b[0m         handles\u001b[38;5;241m.\u001b[39mhandle,\n\u001b[1;32m    258\u001b[0m         lineterminator\u001b[38;5;241m=\u001b[39m\u001b[38;5;28mself\u001b[39m\u001b[38;5;241m.\u001b[39mlineterminator,\n\u001b[0;32m   (...)\u001b[0m\n\u001b[1;32m    263\u001b[0m         quotechar\u001b[38;5;241m=\u001b[39m\u001b[38;5;28mself\u001b[39m\u001b[38;5;241m.\u001b[39mquotechar,\n\u001b[1;32m    264\u001b[0m     )\n\u001b[0;32m--> 266\u001b[0m     \u001b[38;5;28;43mself\u001b[39;49m\u001b[38;5;241;43m.\u001b[39;49m\u001b[43m_save\u001b[49m\u001b[43m(\u001b[49m\u001b[43m)\u001b[49m\n",
      "File \u001b[0;32m~/data-science/lib/python3.9/site-packages/pandas/io/formats/csvs.py:271\u001b[0m, in \u001b[0;36mCSVFormatter._save\u001b[0;34m(self)\u001b[0m\n\u001b[1;32m    269\u001b[0m \u001b[38;5;28;01mif\u001b[39;00m \u001b[38;5;28mself\u001b[39m\u001b[38;5;241m.\u001b[39m_need_to_save_header:\n\u001b[1;32m    270\u001b[0m     \u001b[38;5;28mself\u001b[39m\u001b[38;5;241m.\u001b[39m_save_header()\n\u001b[0;32m--> 271\u001b[0m \u001b[38;5;28;43mself\u001b[39;49m\u001b[38;5;241;43m.\u001b[39;49m\u001b[43m_save_body\u001b[49m\u001b[43m(\u001b[49m\u001b[43m)\u001b[49m\n",
      "File \u001b[0;32m~/data-science/lib/python3.9/site-packages/pandas/io/formats/csvs.py:309\u001b[0m, in \u001b[0;36mCSVFormatter._save_body\u001b[0;34m(self)\u001b[0m\n\u001b[1;32m    307\u001b[0m \u001b[38;5;28;01mif\u001b[39;00m start_i \u001b[38;5;241m>\u001b[39m\u001b[38;5;241m=\u001b[39m end_i:\n\u001b[1;32m    308\u001b[0m     \u001b[38;5;28;01mbreak\u001b[39;00m\n\u001b[0;32m--> 309\u001b[0m \u001b[38;5;28;43mself\u001b[39;49m\u001b[38;5;241;43m.\u001b[39;49m\u001b[43m_save_chunk\u001b[49m\u001b[43m(\u001b[49m\u001b[43mstart_i\u001b[49m\u001b[43m,\u001b[49m\u001b[43m \u001b[49m\u001b[43mend_i\u001b[49m\u001b[43m)\u001b[49m\n",
      "File \u001b[0;32m~/data-science/lib/python3.9/site-packages/pandas/io/formats/csvs.py:320\u001b[0m, in \u001b[0;36mCSVFormatter._save_chunk\u001b[0;34m(self, start_i, end_i)\u001b[0m\n\u001b[1;32m    317\u001b[0m data \u001b[38;5;241m=\u001b[39m [res\u001b[38;5;241m.\u001b[39miget_values(i) \u001b[38;5;28;01mfor\u001b[39;00m i \u001b[38;5;129;01min\u001b[39;00m \u001b[38;5;28mrange\u001b[39m(\u001b[38;5;28mlen\u001b[39m(res\u001b[38;5;241m.\u001b[39mitems))]\n\u001b[1;32m    319\u001b[0m ix \u001b[38;5;241m=\u001b[39m \u001b[38;5;28mself\u001b[39m\u001b[38;5;241m.\u001b[39mdata_index[slicer]\u001b[38;5;241m.\u001b[39m_format_native_types(\u001b[38;5;241m*\u001b[39m\u001b[38;5;241m*\u001b[39m\u001b[38;5;28mself\u001b[39m\u001b[38;5;241m.\u001b[39m_number_format)\n\u001b[0;32m--> 320\u001b[0m \u001b[43mlibwriters\u001b[49m\u001b[38;5;241;43m.\u001b[39;49m\u001b[43mwrite_csv_rows\u001b[49m\u001b[43m(\u001b[49m\n\u001b[1;32m    321\u001b[0m \u001b[43m    \u001b[49m\u001b[43mdata\u001b[49m\u001b[43m,\u001b[49m\n\u001b[1;32m    322\u001b[0m \u001b[43m    \u001b[49m\u001b[43mix\u001b[49m\u001b[43m,\u001b[49m\n\u001b[1;32m    323\u001b[0m \u001b[43m    \u001b[49m\u001b[38;5;28;43mself\u001b[39;49m\u001b[38;5;241;43m.\u001b[39;49m\u001b[43mnlevels\u001b[49m\u001b[43m,\u001b[49m\n\u001b[1;32m    324\u001b[0m \u001b[43m    \u001b[49m\u001b[38;5;28;43mself\u001b[39;49m\u001b[38;5;241;43m.\u001b[39;49m\u001b[43mcols\u001b[49m\u001b[43m,\u001b[49m\n\u001b[1;32m    325\u001b[0m \u001b[43m    \u001b[49m\u001b[38;5;28;43mself\u001b[39;49m\u001b[38;5;241;43m.\u001b[39;49m\u001b[43mwriter\u001b[49m\u001b[43m,\u001b[49m\n\u001b[1;32m    326\u001b[0m \u001b[43m\u001b[49m\u001b[43m)\u001b[49m\n",
      "File \u001b[0;32mwriters.pyx:72\u001b[0m, in \u001b[0;36mpandas._libs.writers.write_csv_rows\u001b[0;34m()\u001b[0m\n",
      "\u001b[0;31mKeyboardInterrupt\u001b[0m: "
     ]
    }
   ],
   "source": [
    "neris1.to_csv(root_path + \"/1/neris1_labelled.csv\", index=False)"
   ]
  },
  {
   "cell_type": "markdown",
   "metadata": {},
   "source": [
    "## Neris Scenario 2"
   ]
  },
  {
   "cell_type": "code",
   "execution_count": 29,
   "metadata": {},
   "outputs": [],
   "source": [
    "neris2 = pd.read_csv(root_path + \"/2/capture20110811.binetflow\")"
   ]
  },
  {
   "cell_type": "code",
   "execution_count": 121,
   "metadata": {},
   "outputs": [
    {
     "data": {
      "text/plain": [
       "Index(['StartTime', 'Dur', 'Proto', 'SrcAddr', 'Sport', 'Dir', 'DstAddr',\n",
       "       'Dport', 'State', 'sTos', 'dTos', 'TotPkts', 'TotBytes', 'SrcBytes',\n",
       "       'Label'],\n",
       "      dtype='object')"
      ]
     },
     "execution_count": 121,
     "metadata": {},
     "output_type": "execute_result"
    }
   ],
   "source": [
    "neris2.columns"
   ]
  },
  {
   "cell_type": "code",
   "execution_count": 122,
   "metadata": {},
   "outputs": [
    {
     "data": {
      "text/plain": [
       "Label\n",
       "flow=To-Background-UDP-CVUT-DNS-Server    660177\n",
       "flow=Background-UDP-Established           602264\n",
       "flow=Background-UDP-Attempt               201380\n",
       "flow=Background-TCP-Established           149962\n",
       "flow=Background-Established-cmpgw-CVUT     78133\n",
       "flow=Background                            29162\n",
       "flow=Background-TCP-Attempt                25929\n",
       "flow=To-Background-CVUT-Proxy              12950\n",
       "flow=Background-Attempt-cmpgw-CVUT          6096\n",
       "flow=Background-UDP-NTP-Established-1       1601\n",
       "Name: count, dtype: int64"
      ]
     },
     "execution_count": 122,
     "metadata": {},
     "output_type": "execute_result"
    }
   ],
   "source": [
    "neris2[neris2[\"Label\"].str.contains(\"Background\")][\"Label\"].value_counts().head(10)"
   ]
  },
  {
   "cell_type": "code",
   "execution_count": 123,
   "metadata": {},
   "outputs": [
    {
     "data": {
      "text/plain": [
       "Label\n",
       "flow=From-Normal-V43-Stribrek               8960\n",
       "flow=From-Normal-V43-CVUT-WebServer           71\n",
       "flow=To-Normal-V43-UDP-NTP-server             36\n",
       "flow=From-Normal-V43-Grill                    25\n",
       "flow=From-Normal-V43-UDP-CVUT-DNS-Server      23\n",
       "flow=From-Normal-V43-MatLab-Server             3\n",
       "flow=Normal-V43-HTTP-windowsupdate             2\n",
       "Name: count, dtype: int64"
      ]
     },
     "execution_count": 123,
     "metadata": {},
     "output_type": "execute_result"
    }
   ],
   "source": [
    "neris2[neris2[\"Label\"].str.contains(\"Normal\")][\"Label\"].value_counts().head(10)"
   ]
  },
  {
   "cell_type": "code",
   "execution_count": 124,
   "metadata": {},
   "outputs": [
    {
     "data": {
      "text/plain": [
       "Label\n",
       "flow=From-Botnet-V43-TCP-Attempt                      9759\n",
       "flow=From-Botnet-V43-TCP-Attempt-SPAM                 5477\n",
       "flow=From-Botnet-V43-TCP-HTTP-Persistent-Down-1       1210\n",
       "flow=From-Botnet-V43-UDP-DNS                           788\n",
       "flow=From-Botnet-V43-TCP-WEB-Established               366\n",
       "                                                      ... \n",
       "flow=From-Botnet-V43-TCP-HTTP-Not-Encrypted-Down-2       1\n",
       "flow=From-Botnet-V43-TCP-Established-HTTP-Ad-60          1\n",
       "flow=From-Botnet-V43-TCP-Established-HTTP-Ad-5           1\n",
       "flow=From-Botnet-V43-TCP-Established-HTTP-Ad-21          1\n",
       "flow=From-Botnet-V43-TCP-Established-HTTP-Ad-23          1\n",
       "Name: count, Length: 89, dtype: int64"
      ]
     },
     "execution_count": 124,
     "metadata": {},
     "output_type": "execute_result"
    }
   ],
   "source": [
    "neris2[neris2[\"Label\"].str.contains(\"Botnet\")][\"Label\"].value_counts()"
   ]
  },
  {
   "cell_type": "code",
   "execution_count": 30,
   "metadata": {},
   "outputs": [],
   "source": [
    "neris2[\"Category\"] = \"Other\""
   ]
  },
  {
   "cell_type": "code",
   "execution_count": 31,
   "metadata": {},
   "outputs": [],
   "source": [
    "neris2.loc[neris2[(neris2[\"Label\"] == \"flow=From-Normal-V43-Stribrek\") | (neris2[\"Label\"] == \"flow=From-Normal-V43-Grill\") | (neris2[\"Label\"] == \"flow=From-Normal-V43-Jist\")].index, \"Category\"] = \"Normal_Host_Traffic\""
   ]
  },
  {
   "cell_type": "markdown",
   "metadata": {},
   "source": [
    "## TCP-Attempt"
   ]
  },
  {
   "cell_type": "code",
   "execution_count": 32,
   "metadata": {},
   "outputs": [],
   "source": [
    "neris2.loc[neris2[neris2[\"Label\"].str.contains(\"flow=From-Botnet-V43-TCP-Attempt\")].index, \"Category\"] = \"MAL_TCP_ATTEMPT\""
   ]
  },
  {
   "cell_type": "code",
   "execution_count": 33,
   "metadata": {},
   "outputs": [],
   "source": [
    "neris2.loc[neris2[neris2[\"Label\"] == \"flow=Background-TCP-Attempt\"].index, \"Category\"] = \"BG_TCP_ATTEMPT\""
   ]
  },
  {
   "cell_type": "code",
   "execution_count": 129,
   "metadata": {},
   "outputs": [
    {
     "data": {
      "text/plain": [
       "Category\n",
       "Other                  1757972\n",
       "BG_TCP_ATTEMPT           25929\n",
       "MAL_TCP_ATTEMPT          15236\n",
       "Normal_Host_Traffic       8985\n",
       "Name: count, dtype: int64"
      ]
     },
     "execution_count": 129,
     "metadata": {},
     "output_type": "execute_result"
    }
   ],
   "source": [
    "neris2[\"Category\"].value_counts()"
   ]
  },
  {
   "cell_type": "markdown",
   "metadata": {},
   "source": [
    "## Persistent Down"
   ]
  },
  {
   "cell_type": "code",
   "execution_count": 34,
   "metadata": {},
   "outputs": [],
   "source": [
    "neris2.loc[neris2[neris2[\"Label\"] == \"flow=From-Botnet-V43-TCP-HTTP-Persistent-Down-1\"].index, \"Category\"] = \"MAL_TCP_DOWN\""
   ]
  },
  {
   "cell_type": "code",
   "execution_count": 131,
   "metadata": {},
   "outputs": [
    {
     "data": {
      "text/plain": [
       "Category\n",
       "Other                  1756762\n",
       "BG_TCP_ATTEMPT           25929\n",
       "MAL_TCP_ATTEMPT          15236\n",
       "Normal_Host_Traffic       8985\n",
       "MAL_TCP_DOWN              1210\n",
       "Name: count, dtype: int64"
      ]
     },
     "execution_count": 131,
     "metadata": {},
     "output_type": "execute_result"
    }
   ],
   "source": [
    "neris2[\"Category\"].value_counts()"
   ]
  },
  {
   "cell_type": "markdown",
   "metadata": {},
   "source": [
    "## TCP Established"
   ]
  },
  {
   "cell_type": "code",
   "execution_count": 35,
   "metadata": {},
   "outputs": [],
   "source": [
    "neris2.loc[neris2[(neris2[\"Label\"].str.contains(\"Botnet\")) & (neris2[\"Label\"].str.contains(\"TCP\")) & (neris2[\"Label\"].str.contains(\"Established\"))].index, \"Category\"] = \"MAL_TCP_ESTABLISHED\""
   ]
  },
  {
   "cell_type": "code",
   "execution_count": 36,
   "metadata": {},
   "outputs": [],
   "source": [
    "neris2.loc[neris2[neris2[\"Label\"] == \"flow=Background-TCP-Established\"].index, \"Category\"] = \"BG_TCP_ESTABLISHED\""
   ]
  },
  {
   "cell_type": "code",
   "execution_count": 134,
   "metadata": {},
   "outputs": [
    {
     "data": {
      "text/plain": [
       "Category\n",
       "Other                  1603968\n",
       "BG_TCP_ESTABLISHED      149962\n",
       "BG_TCP_ATTEMPT           25929\n",
       "MAL_TCP_ATTEMPT          15236\n",
       "Normal_Host_Traffic       8985\n",
       "MAL_TCP_ESTABLISHED       2832\n",
       "MAL_TCP_DOWN              1210\n",
       "Name: count, dtype: int64"
      ]
     },
     "execution_count": 134,
     "metadata": {},
     "output_type": "execute_result"
    }
   ],
   "source": [
    "neris2[\"Category\"].value_counts()"
   ]
  },
  {
   "cell_type": "markdown",
   "metadata": {},
   "source": [
    "## TCP CC"
   ]
  },
  {
   "cell_type": "code",
   "execution_count": 37,
   "metadata": {},
   "outputs": [],
   "source": [
    "neris2.loc[neris2[(neris2[\"Label\"].str.contains(\"Botnet\")) & (neris2[\"Label\"].str.contains(\"TCP\")) & (neris2[\"Label\"].str.contains(\"CC\"))].index, \"Category\"] = \"MAL_TCP_CC\""
   ]
  },
  {
   "cell_type": "code",
   "execution_count": 136,
   "metadata": {},
   "outputs": [
    {
     "data": {
      "text/plain": [
       "Category\n",
       "Other                  1603295\n",
       "BG_TCP_ESTABLISHED      149962\n",
       "BG_TCP_ATTEMPT           25929\n",
       "MAL_TCP_ATTEMPT          15236\n",
       "Normal_Host_Traffic       8985\n",
       "MAL_TCP_ESTABLISHED       2832\n",
       "MAL_TCP_DOWN              1210\n",
       "MAL_TCP_CC                 673\n",
       "Name: count, dtype: int64"
      ]
     },
     "execution_count": 136,
     "metadata": {},
     "output_type": "execute_result"
    }
   ],
   "source": [
    "neris2[\"Category\"].value_counts()"
   ]
  },
  {
   "cell_type": "markdown",
   "metadata": {},
   "source": [
    "## UDP DNS"
   ]
  },
  {
   "cell_type": "code",
   "execution_count": 38,
   "metadata": {},
   "outputs": [],
   "source": [
    "neris2.loc[neris2[neris2[\"Label\"] == \"flow=To-Background-UDP-CVUT-DNS-Server\"].index, \"Category\"] = \"BG_UDP_DNS\" "
   ]
  },
  {
   "cell_type": "code",
   "execution_count": 39,
   "metadata": {},
   "outputs": [],
   "source": [
    "neris2.loc[neris2[neris2[\"Label\"] == \"flow=From-Botnet-V43-UDP-DNS\"].index, \"Category\"] = \"MAL_UDP_DNS\""
   ]
  },
  {
   "cell_type": "code",
   "execution_count": 139,
   "metadata": {},
   "outputs": [
    {
     "data": {
      "text/plain": [
       "Category\n",
       "Other                  942330\n",
       "BG_UDP_DNS             660177\n",
       "BG_TCP_ESTABLISHED     149962\n",
       "BG_TCP_ATTEMPT          25929\n",
       "MAL_TCP_ATTEMPT         15236\n",
       "Normal_Host_Traffic      8985\n",
       "MAL_TCP_ESTABLISHED      2832\n",
       "MAL_TCP_DOWN             1210\n",
       "MAL_UDP_DNS               788\n",
       "MAL_TCP_CC                673\n",
       "Name: count, dtype: int64"
      ]
     },
     "execution_count": 139,
     "metadata": {},
     "output_type": "execute_result"
    }
   ],
   "source": [
    "neris2[\"Category\"].value_counts()"
   ]
  },
  {
   "cell_type": "code",
   "execution_count": 140,
   "metadata": {},
   "outputs": [],
   "source": [
    "neris2.to_csv(root_path + \"/2/neris2_labelled.csv\", index=False)"
   ]
  },
  {
   "cell_type": "markdown",
   "metadata": {},
   "source": [
    "## Neris Scenario 3"
   ]
  },
  {
   "cell_type": "code",
   "execution_count": 2,
   "metadata": {},
   "outputs": [],
   "source": [
    "neris3 = pd.read_csv(root_path + \"/9/capture20110817.binetflow\")"
   ]
  },
  {
   "cell_type": "code",
   "execution_count": 142,
   "metadata": {},
   "outputs": [
    {
     "data": {
      "text/plain": [
       "Index(['StartTime', 'Dur', 'Proto', 'SrcAddr', 'Sport', 'Dir', 'DstAddr',\n",
       "       'Dport', 'State', 'sTos', 'dTos', 'TotPkts', 'TotBytes', 'SrcBytes',\n",
       "       'Label'],\n",
       "      dtype='object')"
      ]
     },
     "execution_count": 142,
     "metadata": {},
     "output_type": "execute_result"
    }
   ],
   "source": [
    "neris3.columns"
   ]
  },
  {
   "cell_type": "code",
   "execution_count": 143,
   "metadata": {},
   "outputs": [
    {
     "data": {
      "text/plain": [
       "Label\n",
       "flow=To-Background-UDP-CVUT-DNS-Server    781402\n",
       "flow=Background-UDP-Established           615055\n",
       "flow=Background-TCP-Established           175576\n",
       "flow=Background-Established-cmpgw-CVUT    125013\n",
       "flow=Background-UDP-Attempt                79520\n",
       "flow=Background-TCP-Attempt                28937\n",
       "flow=Background                            28018\n",
       "flow=To-Background-CVUT-Proxy              16407\n",
       "flow=Background-Attempt-cmpgw-CVUT          7434\n",
       "flow=To-Background-CVUT-WebServer           2346\n",
       "flow=Background-UDP-NTP-Established-1       1900\n",
       "flow=From-Background-CVUT-Proxy              893\n",
       "flow=To-Background-MatLab-Server             722\n",
       "flow=Background-google-analytics3            648\n",
       "flow=Background-google-analytics16           590\n",
       "Name: count, dtype: int64"
      ]
     },
     "execution_count": 143,
     "metadata": {},
     "output_type": "execute_result"
    }
   ],
   "source": [
    "neris3[neris3[\"Label\"].str.contains(\"Background\")][\"Label\"].value_counts().head(15)"
   ]
  },
  {
   "cell_type": "code",
   "execution_count": 144,
   "metadata": {},
   "outputs": [
    {
     "data": {
      "text/plain": [
       "Label\n",
       "flow=From-Normal-V50-Stribrek               15806\n",
       "flow=From-Normal-V50-Jist                    9419\n",
       "flow=From-Normal-V50-Grill                   4432\n",
       "flow=From-Normal-V50-UDP-CVUT-DNS-Server      119\n",
       "flow=From-Normal-V50-CVUT-WebServer           111\n",
       "flow=To-Normal-V50-UDP-NTP-server              68\n",
       "flow=From-Normal-V50-MatLab-Server              6\n",
       "flow=Normal-V50-HTTP-windowsupdate              6\n",
       "Name: count, dtype: int64"
      ]
     },
     "execution_count": 144,
     "metadata": {},
     "output_type": "execute_result"
    }
   ],
   "source": [
    "neris3[neris3[\"Label\"].str.contains(\"Normal\")][\"Label\"].value_counts().head(10)"
   ]
  },
  {
   "cell_type": "code",
   "execution_count": 145,
   "metadata": {},
   "outputs": [
    {
     "data": {
      "text/plain": [
       "[('flow=From-Botnet-V50-1-UDP-DNS', 15115),\n",
       " ('flow=From-Botnet-V50-7-UDP-DNS', 12588),\n",
       " ('flow=From-Botnet-V50-3-UDP-DNS', 11429),\n",
       " ('flow=From-Botnet-V50-2-UDP-DNS', 10961),\n",
       " ('flow=From-Botnet-V50-4-UDP-DNS', 10707),\n",
       " ('flow=From-Botnet-V50-5-UDP-DNS', 10412),\n",
       " ('flow=From-Botnet-V50-6-UDP-DNS', 10349),\n",
       " ('flow=From-Botnet-V50-9-UDP-DNS', 9965),\n",
       " ('flow=From-Botnet-V50-8-UDP-DNS', 9523),\n",
       " ('flow=From-Botnet-V50-10-UDP-DNS', 6656),\n",
       " ('flow=From-Botnet-V50-1-TCP-Attempt-SPAM', 4951),\n",
       " ('flow=From-Botnet-V50-2-TCP-Attempt-SPAM', 4654),\n",
       " ('flow=From-Botnet-V50-10-TCP-Attempt-SPAM', 4288),\n",
       " ('flow=From-Botnet-V50-3-TCP-Attempt-SPAM', 4246),\n",
       " ('flow=From-Botnet-V50-4-TCP-Attempt-SPAM', 4153),\n",
       " ('flow=From-Botnet-V50-6-TCP-Attempt-SPAM', 4129),\n",
       " ('flow=From-Botnet-V50-5-TCP-Attempt-SPAM', 3964),\n",
       " ('flow=From-Botnet-V50-7-TCP-Attempt-SPAM', 3941),\n",
       " ('flow=From-Botnet-V50-8-TCP-Attempt-SPAM', 3865),\n",
       " ('flow=From-Botnet-V50-9-TCP-Attempt-SPAM', 3709),\n",
       " ('flow=From-Botnet-V50-10-TCP-Attempt', 2800),\n",
       " ('flow=From-Botnet-V50-3-TCP-Attempt', 2651),\n",
       " ('flow=From-Botnet-V50-9-TCP-Attempt', 2469),\n",
       " ('flow=From-Botnet-V50-5-TCP-Attempt', 2430),\n",
       " ('flow=From-Botnet-V50-1-TCP-Attempt', 894),\n",
       " ('flow=From-Botnet-V50-2-TCP-Attempt', 838),\n",
       " ('flow=From-Botnet-V50-4-TCP-Attempt', 807),\n",
       " ('flow=From-Botnet-V50-6-TCP-Attempt', 799),\n",
       " ('flow=From-Botnet-V50-7-TCP-Attempt', 777),\n",
       " ('flow=From-Botnet-V50-8-TCP-Attempt', 776),\n",
       " ('flow=From-Botnet-V50-10-TCP-Not-Encrypted-SMTP-Private-Proxy-6', 658),\n",
       " ('flow=From-Botnet-V50-2-TCP-Not-Encrypted-SMTP-Private-Proxy-2', 521),\n",
       " ('flow=From-Botnet-V50-8-TCP-Not-Encrypted-SMTP-Private-Proxy-6', 496),\n",
       " ('flow=From-Botnet-V50-4-TCP-Not-Encrypted-SMTP-Private-Proxy-4', 469),\n",
       " ('flow=From-Botnet-V50-6-TCP-WEB-Established', 437),\n",
       " ('flow=From-Botnet-V50-9-TCP-Not-Encrypted-SMTP-Private-Proxy-5', 412),\n",
       " ('flow=From-Botnet-V50-3-TCP-Not-Encrypted-SMTP-Private-Proxy-3', 386),\n",
       " ('flow=From-Botnet-V50-6-TCP-Not-Encrypted-SMTP-Private-Proxy-6', 383),\n",
       " ('flow=From-Botnet-V50-5-TCP-WEB-Established', 364),\n",
       " ('flow=From-Botnet-V50-10-TCP-WEB-Established-SSL', 352),\n",
       " ('flow=From-Botnet-V50-5-TCP-Not-Encrypted-SMTP-Private-Proxy-3', 334),\n",
       " ('flow=From-Botnet-V50-2-TCP-WEB-Established', 311),\n",
       " ('flow=From-Botnet-V50-1-TCP-Not-Encrypted-SMTP-Private-Proxy-1', 292),\n",
       " ('flow=From-Botnet-V50-4-TCP-WEB-Established', 284),\n",
       " ('flow=From-Botnet-V50-4-TCP-WEB-Established-SSL', 267),\n",
       " ('flow=From-Botnet-V50-9-TCP-WEB-Established', 258),\n",
       " ('flow=From-Botnet-V50-2-TCP-WEB-Established-SSL', 254),\n",
       " ('flow=From-Botnet-V50-8-TCP-WEB-Established', 241),\n",
       " ('flow=From-Botnet-V50-9-TCP-WEB-Established-SSL', 231),\n",
       " ('flow=From-Botnet-V50-3-TCP-WEB-Established', 225),\n",
       " ('flow=From-Botnet-V50-10-TCP-WEB-Established', 214),\n",
       " ('flow=From-Botnet-V50-8-TCP-WEB-Established-SSL', 211),\n",
       " ('flow=From-Botnet-V50-7-TCP-WEB-Established', 208),\n",
       " ('flow=From-Botnet-V50-6-TCP-WEB-Established-SSL', 205),\n",
       " ('flow=From-Botnet-V50-3-TCP-WEB-Established-SSL', 189),\n",
       " ('flow=From-Botnet-V50-1-TCP-WEB-Established', 181),\n",
       " ('flow=From-Botnet-V50-1-TCP-CC16-HTTP-Not-Encrypted', 156),\n",
       " ('flow=From-Botnet-V50-5-TCP-WEB-Established-SSL', 154),\n",
       " ('flow=From-Botnet-V50-6-TCP-CC16-HTTP-Not-Encrypted', 141),\n",
       " ('flow=From-Botnet-V50-3-TCP-CC16-HTTP-Not-Encrypted', 141),\n",
       " ('flow=From-Botnet-V50-10-TCP-CC12-HTTP-Not-Encrypted', 137),\n",
       " ('flow=From-Botnet-V50-2-TCP-CC16-HTTP-Not-Encrypted', 136),\n",
       " ('flow=From-Botnet-V50-7-TCP-Not-Encrypted-SMTP-Private-Proxy-5', 136),\n",
       " ('flow=From-Botnet-V50-4-TCP-CC16-HTTP-Not-Encrypted', 129),\n",
       " ('flow=From-Botnet-V50-7-TCP-CC16-HTTP-Not-Encrypted', 127),\n",
       " ('flow=From-Botnet-V50-10-TCP-CC16-HTTP-Not-Encrypted', 121),\n",
       " ('flow=From-Botnet-V50-5-TCP-CC16-HTTP-Not-Encrypted', 121),\n",
       " ('flow=From-Botnet-V50-8-TCP-CC16-HTTP-Not-Encrypted', 114),\n",
       " ('flow=From-Botnet-V50-9-TCP-CC16-HTTP-Not-Encrypted', 97),\n",
       " ('flow=From-Botnet-V50-1-TCP-WEB-Established-SSL', 81),\n",
       " ('flow=From-Botnet-V50-10-TCP-Established-HTTP-Ad-21', 79),\n",
       " ('flow=From-Botnet-V50-2-TCP-CC12-HTTP-Not-Encrypted', 79),\n",
       " ('flow=From-Botnet-V50-1-TCP-CC23-Plain-HTTP-Encrypted-Data', 77),\n",
       " ('flow=From-Botnet-V50-1-TCP-Established-HTTP-Ad-2', 68),\n",
       " ('flow=From-Botnet-V50-4-TCP-CC20-Plain-HTTP-Encrypted-Data', 68),\n",
       " ('flow=From-Botnet-V50-3-TCP-CC23-Plain-HTTP-Encrypted-Data', 67),\n",
       " ('flow=From-Botnet-V50-6-TCP-CC20-Plain-HTTP-Encrypted-Data', 66),\n",
       " ('flow=From-Botnet-V50-2-TCP-CC23-Plain-HTTP-Encrypted-Data', 66),\n",
       " ('flow=From-Botnet-V50-5-TCP-CC20-Plain-HTTP-Encrypted-Data', 66),\n",
       " ('flow=From-Botnet-V50-10-TCP-Established-SSL-To-Microsoft-5', 66),\n",
       " ('flow=From-Botnet-V50-6-TCP-Established-HTTP-Ad-2', 65),\n",
       " ('flow=From-Botnet-V50-7-TCP-CC20-Plain-HTTP-Encrypted-Data', 64),\n",
       " ('flow=From-Botnet-V50-3-TCP-Established-HTTP-Ad-21', 64),\n",
       " ('flow=From-Botnet-V50-3-TCP-Established-HTTP-Ad-2', 63),\n",
       " ('flow=From-Botnet-V50-9-TCP-CC20-Plain-HTTP-Encrypted-Data', 62),\n",
       " ('flow=From-Botnet-V50-10-TCP-CC20-Plain-HTTP-Encrypted-Data', 61),\n",
       " ('flow=From-Botnet-V50-4-TCP-Established-HTTP-Ad-2', 60),\n",
       " ('flow=From-Botnet-V50-4-TCP-CC12-HTTP-Not-Encrypted', 59),\n",
       " ('flow=From-Botnet-V50-8-TCP-CC20-Plain-HTTP-Encrypted-Data', 59),\n",
       " ('flow=From-Botnet-V50-7-TCP-Established-HTTP-Ad-2', 58),\n",
       " ('flow=From-Botnet-V50-2-TCP-Established-HTTP-Ad-2', 55),\n",
       " ('flow=From-Botnet-V50-4-TCP-Established-HTTP-Ad-21', 55),\n",
       " ('flow=From-Botnet-V50-5-TCP-Established-HTTP-Ad-2', 54),\n",
       " ('flow=From-Botnet-V50-5-TCP-Established-HTTP-Ad-21', 53),\n",
       " ('flow=From-Botnet-V50-10-TCP-Established-HTTP-Ad-2', 52),\n",
       " ('flow=From-Botnet-V50-3-TCP-CC12-HTTP-Not-Encrypted', 51),\n",
       " ('flow=From-Botnet-V50-10-TCP-Established-SSL-To-Microsoft-3', 51),\n",
       " ('flow=From-Botnet-V50-8-TCP-CC12-HTTP-Not-Encrypted', 51),\n",
       " ('flow=From-Botnet-V50-8-TCP-Established-HTTP-Ad-2', 50),\n",
       " ('flow=From-Botnet-V50-9-TCP-CC12-HTTP-Not-Encrypted', 49),\n",
       " ('flow=From-Botnet-V50-4-TCP-Established-SSL-To-Microsoft-5', 48),\n",
       " ('flow=From-Botnet-V50-2-TCP-Established-SSL-To-Microsoft-3', 47),\n",
       " ('flow=From-Botnet-V50-2-TCP-Established-HTTP-Ad-21', 44),\n",
       " ('flow=From-Botnet-V50-4-TCP-Established-HTTP-Ad-yieldmanager-9', 43),\n",
       " ('flow=From-Botnet-V50-3-TCP-Established-HTTP-Ad-25', 43),\n",
       " ('flow=From-Botnet-V50-6-TCP-CC12-HTTP-Not-Encrypted', 42),\n",
       " ('flow=From-Botnet-V50-6-TCP-Established-HTTP-Ad-yieldmanager-9', 41),\n",
       " ('flow=From-Botnet-V50-9-TCP-Established-HTTP-Ad-2', 41),\n",
       " ('flow=From-Botnet-V50-2-TCP-Established-SSL-To-Microsoft-5', 41),\n",
       " ('flow=From-Botnet-V50-6-TCP-Established-HTTP-Ad-22', 41),\n",
       " ('flow=From-Botnet-V50-10-TCP-Established-SSL-To-Microsoft-2', 41),\n",
       " ('flow=From-Botnet-V50-7-TCP-Established-HTTP-Ad-16', 40),\n",
       " ('flow=From-Botnet-V50-7-TCP-CC1-HTTP-Not-Encrypted', 40),\n",
       " ('flow=From-Botnet-V50-4-TCP-HTTP-Google-Net-Established-6', 40),\n",
       " ('flow=From-Botnet-V50-1-TCP-Established-HTTP-Ad-22', 40),\n",
       " ('flow=From-Botnet-V50-7-TCP-WEB-Established-SSL', 39),\n",
       " ('flow=From-Botnet-V50-6-TCP-Established-HTTP-Ad-41', 39),\n",
       " ('flow=From-Botnet-V50-5-TCP-CC12-HTTP-Not-Encrypted', 39),\n",
       " ('flow=From-Botnet-V50-3-TCP-Established-HTTP-Ad-22', 38),\n",
       " ('flow=From-Botnet-V50-4-TCP-Established-HTTP-Ad-22', 38),\n",
       " ('flow=From-Botnet-V50-2-TCP-Established-HTTP-Ad-yieldmanager-9', 37),\n",
       " ('flow=From-Botnet-V50-3-TCP-Established-SSL-To-Microsoft-3', 37),\n",
       " ('flow=From-Botnet-V50-8-TCP-Established-SSL-To-Microsoft-3', 37),\n",
       " ('flow=From-Botnet-V50-7-TCP-Established-HTTP-Ad-22', 36),\n",
       " ('flow=From-Botnet-V50-1-TCP-Established-HTTP-Ad-21', 36),\n",
       " ('flow=From-Botnet-V50-10-TCP-Established-HTTP-Ad-34', 36),\n",
       " ('flow=From-Botnet-V50-3-TCP-Established-HTTP-Ad-34', 35),\n",
       " ('flow=From-Botnet-V50-6-TCP-Established-HTTP-Ad-44', 35),\n",
       " ('flow=From-Botnet-V50-10-TCP-HTTP-Google-Net-Established-6', 35),\n",
       " ('flow=From-Botnet-V50-6-TCP-Established-HTTP-Ad-12', 35),\n",
       " ('flow=From-Botnet-V50-5-TCP-Established-HTTP-Ad-34', 35),\n",
       " ('flow=From-Botnet-V50-10-TCP-Established-HTTP-Ad-10', 35),\n",
       " ('flow=From-Botnet-V50-9-TCP-Established-SSL-To-Microsoft-3', 35),\n",
       " ('flow=From-Botnet-V50-4-TCP-Established-SSL-To-Microsoft-3', 34),\n",
       " ('flow=From-Botnet-V50-1-TCP-Established-SPAM', 34),\n",
       " ('flow=From-Botnet-V50-4-TCP-Established-HTTP-Ad-61', 34),\n",
       " ('flow=From-Botnet-V50-9-TCP-Established-SSL-To-Microsoft-5', 33),\n",
       " ('flow=From-Botnet-V50-5-TCP-Established-HTTP-Ad-22', 33),\n",
       " ('flow=From-Botnet-V50-6-TCP-Established-HTTP-Ad-20', 33),\n",
       " ('flow=From-Botnet-V50-1-TCP-CC1-HTTP-Not-Encrypted', 33),\n",
       " ('flow=From-Botnet-V50-2-TCP-Established-HTTP-Ad-22', 33),\n",
       " ('flow=From-Botnet-V50-10-TCP-Established-HTTP-Ad-55', 33),\n",
       " ('flow=From-Botnet-V50-3-TCP-Established-SSL-To-Microsoft-5', 33),\n",
       " ('flow=From-Botnet-V50-3-TCP-Established-HTTP-Ad-55', 32),\n",
       " ('flow=From-Botnet-V50-8-TCP-Established-HTTP-Ad-22', 32),\n",
       " ('flow=From-Botnet-V50-5-TCP-Established-HTTP-Adobe-4', 32),\n",
       " ('flow=From-Botnet-V50-10-TCP-Established-HTTP-Ad-22', 31),\n",
       " ('flow=From-Botnet-V50-4-TCP-Established-HTTP-Ad-12', 31),\n",
       " ('flow=From-Botnet-V50-1-TCP-Established-HTTP-Ad-44', 31),\n",
       " ('flow=From-Botnet-V50-2-TCP-Established-HTTP-Ad-41', 31),\n",
       " ('flow=From-Botnet-V50-8-TCP-Established-SSL-To-Microsoft-1', 31),\n",
       " ('flow=From-Botnet-V50-5-TCP-Established-SSL-To-Microsoft-3', 30),\n",
       " ('flow=From-Botnet-V50-1-TCP-Established-HTTP-Ad-1', 30),\n",
       " ('flow=From-Botnet-V50-4-TCP-Established-HTTP-Ad-18', 30),\n",
       " ('flow=From-Botnet-V50-1-TCP-Established-SSL-To-Microsoft-5', 29),\n",
       " ('flow=From-Botnet-V50-4-TCP-Established-HTTP-Ad-45', 29),\n",
       " ('flow=From-Botnet-V50-10-TCP-Established-SSL-To-Microsoft-1', 29),\n",
       " ('flow=From-Botnet-V50-6-TCP-HTTP-Google-Net-Established-6', 29),\n",
       " ('flow=From-Botnet-V50-2-TCP-Established-SSL-To-Microsoft-4', 29),\n",
       " ('flow=From-Botnet-V50-1-TCP-Established-HTTP-Ad-15', 29),\n",
       " ('flow=From-Botnet-V50-10-TCP-Established-HTTP-Ad-3', 29),\n",
       " ('flow=From-Botnet-V50-5-TCP-HTTP-Google-Net-Established-6', 28),\n",
       " ('flow=From-Botnet-V50-10-TCP-Established-SPAM', 28),\n",
       " ('flow=From-Botnet-V50-5-TCP-Established-HTTP-Ad-55', 28),\n",
       " ('flow=From-Botnet-V50-8-TCP-CC1-HTTP-Not-Encrypted', 28),\n",
       " ('flow=From-Botnet-V50-5-TCP-Established-HTTP-Ad-25', 28),\n",
       " ('flow=From-Botnet-V50-8-TCP-Established-SSL-To-Microsoft-5', 28),\n",
       " ('flow=From-Botnet-V50-3-TCP-Established-HTTP-Ad-45', 28),\n",
       " ('flow=From-Botnet-V50-3-TCP-Established-HTTP-Ad-1', 27),\n",
       " ('flow=From-Botnet-V50-10-TCP-CC1-HTTP-Not-Encrypted', 27),\n",
       " ('flow=From-Botnet-V50-3-TCP-Established-HTTP-Ad-yieldmanager-8', 27),\n",
       " ('flow=From-Botnet-V50-10-TCP-Established-SSL-To-Microsoft-4', 27),\n",
       " ('flow=From-Botnet-V50-4-TCP-Established-HTTP-Ad-24', 26),\n",
       " ('flow=From-Botnet-V50-2-TCP-Established-HTTP-Ad-1', 26),\n",
       " ('flow=From-Botnet-V50-2-TCP-HTTP-Google-Net-Established-6', 26),\n",
       " ('flow=From-Botnet-V50-5-TCP-CC1-HTTP-Not-Encrypted', 26),\n",
       " ('flow=From-Botnet-V50-2-TCP-Established-HTTP-Ad-15', 26),\n",
       " ('flow=From-Botnet-V50-6-TCP-Established-HTTP-Ad-1', 26),\n",
       " ('flow=From-Botnet-V50-6-TCP-Established-HTTP-Ad-15', 26),\n",
       " ('flow=From-Botnet-V50-10-TCP-Established-HTTP-Ad-yieldmanager-9', 26),\n",
       " ('flow=From-Botnet-V50-3-TCP-Established-HTTP-Ad-15', 25),\n",
       " ('flow=From-Botnet-V50-2-TCP-Established-HTTP-Ad-16', 25),\n",
       " ('flow=From-Botnet-V50-6-TCP-Established-HTTP-Ad-25', 25),\n",
       " ('flow=From-Botnet-V50-7-TCP-Established-HTTP-Ad-15', 25),\n",
       " ('flow=From-Botnet-V50-6-TCP-Established-SSL-To-Microsoft-3', 25),\n",
       " ('flow=From-Botnet-V50-2-TCP-Established-HTTP-Ad-61', 25),\n",
       " ('flow=From-Botnet-V50-9-TCP-Established-HTTP-Ad-22', 24),\n",
       " ('flow=From-Botnet-V50-3-TCP-Established-HTTP-Ad-yieldmanager-9', 24),\n",
       " ('flow=From-Botnet-V50-1-TCP-Established-HTTP-Ad-62', 24),\n",
       " ('flow=From-Botnet-V50-1-TCP-Established-HTTP-Ad-37', 24),\n",
       " ('flow=From-Botnet-V50-5-TCP-Established-HTTP-Ad-yieldmanager-9', 24),\n",
       " ('flow=From-Botnet-V50-6-TCP-Established-SSL-To-Microsoft-5', 24),\n",
       " ('flow=From-Botnet-V50-4-TCP-Established-HTTP-Ad-3', 24),\n",
       " ('flow=From-Botnet-V50-6-TCP-CC1-HTTP-Not-Encrypted', 24),\n",
       " ('flow=From-Botnet-V50-9-TCP-Established-HTTP-Ad-18', 24),\n",
       " ('flow=From-Botnet-V50-5-TCP-Established-HTTP-Ad-45', 23),\n",
       " ('flow=From-Botnet-V50-3-TCP-Established-HTTP-Ad-24', 23),\n",
       " ('flow=From-Botnet-V50-2-TCP-Established-SPAM', 23),\n",
       " ('flow=From-Botnet-V50-3-TCP-Established-HTTP-Ad-10', 23),\n",
       " ('flow=From-Botnet-V50-1-TCP-HTTP-Google-Net-Established-6', 23),\n",
       " ('flow=From-Botnet-V50-2-TCP-CC1-HTTP-Not-Encrypted', 23),\n",
       " ('flow=From-Botnet-V50-4-TCP-Established-HTTP-Ad-25', 23),\n",
       " ('flow=From-Botnet-V50-4-TCP-Established-HTTP-Ad-41', 23),\n",
       " ('flow=From-Botnet-V50-1-TCP-Established-HTTP-Ad-yieldmanager-9', 23),\n",
       " ('flow=From-Botnet-V50-1-TCP-Established-HTTP-Ad-3', 23),\n",
       " ('flow=From-Botnet-V50-10-TCP-Established-HTTP-Ad-30', 22),\n",
       " ('flow=From-Botnet-V50-7-TCP-Established-HTTP-Ad-62', 22),\n",
       " ('flow=From-Botnet-V50-10-TCP-Established-HTTP-Ad-24', 22),\n",
       " ('flow=From-Botnet-V50-4-TCP-Established-HTTP-Ad-1', 22),\n",
       " ('flow=From-Botnet-V50-1-TCP-Established-HTTP-Ad-yieldmanager-8', 22),\n",
       " ('flow=From-Botnet-V50-4-TCP-Established-HTTP-Ad-15', 22),\n",
       " ('flow=From-Botnet-V50-7-TCP-Established-HTTP-Ad-1', 22),\n",
       " ('flow=From-Botnet-V50-10-TCP-Established-HTTP-Ad-32', 22),\n",
       " ('flow=From-Botnet-V50-3-TCP-Established-HTTP-Ad-3', 22),\n",
       " ('flow=From-Botnet-V50-10-TCP-Established-HTTP-Ad-15', 22),\n",
       " ('flow=From-Botnet-V50-6-TCP-Established-SSL-To-Microsoft-4', 22),\n",
       " ('flow=From-Botnet-V50-10-TCP-Established-HTTP-Ad-1', 22),\n",
       " ('flow=From-Botnet-V50-10-TCP-Established-HTTP-Ad-41', 21),\n",
       " ('flow=From-Botnet-V50-5-TCP-Established-HTTP-Ad-1', 21),\n",
       " ('flow=From-Botnet-V50-5-TCP-Established-HTTP-Ad-15', 21),\n",
       " ('flow=From-Botnet-V50-6-TCP-Established-SPAM', 21),\n",
       " ('flow=From-Botnet-V50-6-TCP-Established-HTTP-Ad-18', 21),\n",
       " ('flow=From-Botnet-V50-8-TCP-Established-HTTP-Ad-48', 21),\n",
       " ('flow=From-Botnet-V50-7-TCP-Established-SPAM', 21),\n",
       " ('flow=From-Botnet-V50-3-TCP-Established-HTTP-Ad-30', 21),\n",
       " ('flow=From-Botnet-V50-9-TCP-Established-HTTP-Ad-61', 21),\n",
       " ('flow=From-Botnet-V50-4-TCP-Established-HTTP-Ad-55', 21),\n",
       " ('flow=From-Botnet-V50-9-TCP-Established-HTTP-Ad-34', 21),\n",
       " ('flow=From-Botnet-V50-4-TCP-CC1-HTTP-Not-Encrypted', 21),\n",
       " ('flow=From-Botnet-V50-3-TCP-CC1-HTTP-Not-Encrypted', 21),\n",
       " ('flow=From-Botnet-V50-4-TCP-Established-SPAM', 21),\n",
       " ('flow=From-Botnet-V50-2-TCP-Established-HTTP-Ad-55', 21),\n",
       " ('flow=From-Botnet-V50-10-TCP-Established-SSL-To-Microsoft-6', 21),\n",
       " ('flow=From-Botnet-V50-1-TCP-Established-SSL-To-Microsoft-2', 21),\n",
       " ('flow=From-Botnet-V50-6-TCP-Established-HTTP-Ad-21', 21),\n",
       " ('flow=From-Botnet-V50-9-TCP-HTTP-Google-Net-Established-6', 20),\n",
       " ('flow=From-Botnet-V50-1-TCP-Established-HTTP-Ad-58', 20),\n",
       " ('flow=From-Botnet-V50-3-TCP-Established-SPAM', 20),\n",
       " ('flow=From-Botnet-V50-6-TCP-Established-HTTP-Ad-48', 20),\n",
       " ('flow=From-Botnet-V50-1-TCP-Established-HTTP-Ad-23', 20),\n",
       " ('flow=From-Botnet-V50-1-TCP-Established-SSL-To-Microsoft-3', 20),\n",
       " ('flow=From-Botnet-V50-7-TCP-Established-HTTP-Ad-yieldmanager-9', 20),\n",
       " ('flow=From-Botnet-V50-9-TCP-CC1-HTTP-Not-Encrypted', 20),\n",
       " ('flow=From-Botnet-V50-10-TCP-Established-HTTP-Ad-45', 20),\n",
       " ('flow=From-Botnet-V50-2-TCP-Established-HTTP-Ad-10', 20),\n",
       " ('flow=From-Botnet-V50-4-TCP-Established-HTTP-Ad-10', 20),\n",
       " ('flow=From-Botnet-V50-5-TCP-Established-HTTP-Ad-20', 20),\n",
       " ('flow=From-Botnet-V50-8-TCP-Established-HTTP-Ad-61', 20),\n",
       " ('flow=From-Botnet-V50-6-TCP-Established-HTTP-Ad-61', 20),\n",
       " ('flow=From-Botnet-V50-10-TCP-Established-HTTP-Ad-61', 20),\n",
       " ('flow=From-Botnet-V50-8-TCP-Established-HTTP-Ad-15', 20),\n",
       " ('flow=From-Botnet-V50-5-TCP-Established-Custom-Encryption-1', 20),\n",
       " ('flow=From-Botnet-V50-6-TCP-Established-HTTP-Adobe-4', 20),\n",
       " ('flow=From-Botnet-V50-8-TCP-Established-HTTP-Ad-1', 20),\n",
       " ('flow=From-Botnet-V50-6-TCP-Established-HTTP-Ad-62', 20),\n",
       " ('flow=From-Botnet-V50-2-TCP-Established-HTTP-Ad-45', 20),\n",
       " ('flow=From-Botnet-V50-8-TCP-Established-SPAM', 19),\n",
       " ('flow=From-Botnet-V50-6-TCP-Established-HTTP-Ad-33', 19),\n",
       " ('flow=From-Botnet-V50-1-TCP-Established-HTTP-Ad-20', 19),\n",
       " ('flow=From-Botnet-V50-9-TCP-Established-HTTP-Ad-44', 19),\n",
       " ('flow=From-Botnet-V50-9-TCP-Established-HTTP-Ad-15', 19),\n",
       " ('flow=From-Botnet-V50-2-TCP-Established-HTTP-Ad-3', 19),\n",
       " ('flow=From-Botnet-V50-10-TCP-Established-HTTP-Ad-33', 19),\n",
       " ('flow=From-Botnet-V50-1-TCP-Established-HTTP-Ad-55', 19),\n",
       " ('flow=From-Botnet-V50-5-TCP-Established-SPAM', 19),\n",
       " ('flow=From-Botnet-V50-6-TCP-Established-HTTP-Ad-16', 19),\n",
       " ('flow=From-Botnet-V50-2-TCP-Established-HTTP-Ad-yieldmanager-8', 19),\n",
       " ('flow=From-Botnet-V50-6-TCP-Established-HTTP-Ad-yieldmanager-8', 18),\n",
       " ('flow=From-Botnet-V50-6-TCP-Established-HTTP-Ad-32', 18),\n",
       " ('flow=From-Botnet-V50-4-TCP-Established-SSL-To-Microsoft-4', 18),\n",
       " ('flow=From-Botnet-V50-5-TCP-Established-HTTP-Ad-18', 18),\n",
       " ('flow=From-Botnet-V50-2-TCP-Established-HTTP-Ad-24', 18),\n",
       " ('flow=From-Botnet-V50-1-TCP-Established-HTTP-Ad-12', 18),\n",
       " ('flow=From-Botnet-V50-1-TCP-Established-HTTP-Ad-18', 18),\n",
       " ('flow=From-Botnet-V50-4-TCP-Established-HTTP-Adobe-4', 18),\n",
       " ('flow=From-Botnet-V50-5-TCP-Established-HTTP-Ad-61', 18),\n",
       " ('flow=From-Botnet-V50-9-TCP-Established-HTTP-Ad-16', 18),\n",
       " ('flow=From-Botnet-V50-8-TCP-Established-HTTP-Ad-12', 17),\n",
       " ('flow=From-Botnet-V50-9-TCP-Established-SSL-To-Microsoft-1', 17),\n",
       " ('flow=From-Botnet-V50-9-TCP-Established-HTTP-Ad-1', 17),\n",
       " ('flow=From-Botnet-V50-8-TCP-Established-SSL-To-Microsoft-4', 17),\n",
       " ('flow=From-Botnet-V50-1-TCP-Established-HTTP-Ad-17', 17),\n",
       " ('flow=From-Botnet-V50-5-TCP-Established-HTTP-Ad-12', 17),\n",
       " ('flow=From-Botnet-V50-6-TCP-Established-HTTP-Ad-34', 17),\n",
       " ('flow=From-Botnet-V50-10-TCP-Established-HTTP-Ad-12', 17),\n",
       " ('flow=From-Botnet-V50-3-TCP-Established-SSL-To-Microsoft-2', 17),\n",
       " ('flow=From-Botnet-V50-8-TCP-Established-SSL-To-Microsoft-6', 17),\n",
       " ('flow=From-Botnet-V50-1-TCP-Established-SSL-To-Microsoft-4', 17),\n",
       " ('flow=From-Botnet-V50-9-TCP-Established-SSL-To-Microsoft-4', 17),\n",
       " ('flow=From-Botnet-V50-4-TCP-Established-HTTP-Ad-yieldmanager-8', 17),\n",
       " ('flow=From-Botnet-V50-8-TCP-Established-HTTP-Ad-yieldmanager-9', 17),\n",
       " ('flow=From-Botnet-V50-8-TCP-Established-SSL-To-Microsoft-2', 16),\n",
       " ('flow=From-Botnet-V50-4-TCP-Established-Custom-Encryption-1', 16),\n",
       " ('flow=From-Botnet-V50-3-TCP-Established-HTTP-Ad-32', 16),\n",
       " ('flow=From-Botnet-V50-2-TCP-Established-Custom-Encryption-1', 16),\n",
       " ('flow=From-Botnet-V50-5-TCP-Established-HTTP-Ad-41', 16),\n",
       " ('flow=From-Botnet-V50-9-UDP-Attempt-DNS', 16),\n",
       " ('flow=From-Botnet-V50-3-TCP-Established-HTTP-Ad-61', 16),\n",
       " ('flow=From-Botnet-V50-9-TCP-Established-HTTP-Ad-48', 16),\n",
       " ('flow=From-Botnet-V50-6-TCP-Established-Custom-Encryption-7', 16),\n",
       " ('flow=From-Botnet-V50-9-TCP-Established-HTTP-Ad-20', 16),\n",
       " ('flow=From-Botnet-V50-1-TCP-Established-HTTP-Ad-40', 16),\n",
       " ('flow=From-Botnet-V50-6-TCP-Established-HTTP-Ad-10', 16),\n",
       " ('flow=From-Botnet-V50-1-TCP-Established-HTTP-Ad-61', 16),\n",
       " ('flow=From-Botnet-V50-10-TCP-Established-HTTP-Ad-47', 16),\n",
       " ('flow=From-Botnet-V50-1-TCP-Established-HTTP-Ad-32', 16),\n",
       " ('flow=From-Botnet-V50-1-TCP-Established-SSL-To-Microsoft-1', 16),\n",
       " ('flow=From-Botnet-V50-5-TCP-Established-SSL-To-Microsoft-5', 16),\n",
       " ('flow=From-Botnet-V50-8-TCP-Established-HTTP-Ad-yieldmanager-8', 16),\n",
       " ('flow=From-Botnet-V50-2-TCP-Established-SSL-To-Microsoft-2', 16),\n",
       " ('flow=From-Botnet-V50-7-TCP-HTTP-Google-Net-Established-6', 16),\n",
       " ('flow=From-Botnet-V50-5-TCP-Established-HTTP-Ad-24', 15),\n",
       " ('flow=From-Botnet-V50-5-TCP-Established-HTTP-Ad-10', 15),\n",
       " ('flow=From-Botnet-V50-7-TCP-Established-HTTP-Ad-25', 15),\n",
       " ('flow=From-Botnet-V50-3-TCP-Established-HTTP-Ad-44', 15),\n",
       " ('flow=From-Botnet-V50-4-TCP-Established-HTTP-Ad-30', 15),\n",
       " ('flow=From-Botnet-V50-10-TCP-Established-HTTP-Ad-yieldmanager-8', 15),\n",
       " ('flow=From-Botnet-V50-2-TCP-Established-HTTP-Ad-44', 15),\n",
       " ('flow=From-Botnet-V50-9-TCP-Established-SPAM', 15),\n",
       " ('flow=From-Botnet-V50-1-TCP-Established-HTTP-Ad-41', 15),\n",
       " ('flow=From-Botnet-V50-9-TCP-Established-HTTP-Ad-yieldmanager-9', 15),\n",
       " ('flow=From-Botnet-V50-6-TCP-Established-HTTP-Ad-7', 15),\n",
       " ('flow=From-Botnet-V50-9-TCP-CC6-Plain-HTTP-Encrypted-Data', 14),\n",
       " ('flow=From-Botnet-V50-1-TCP-CC6-Plain-HTTP-Encrypted-Data', 14),\n",
       " ('flow=From-Botnet-V50-8-TCP-CC6-Plain-HTTP-Encrypted-Data', 14),\n",
       " ('flow=From-Botnet-V50-5-TCP-Established-HTTP-Ad-3', 14),\n",
       " ('flow=From-Botnet-V50-5-TCP-Established-HTTP-Ad-yieldmanager-8', 14),\n",
       " ('flow=From-Botnet-V50-3-TCP-Established-SSL-To-Microsoft-4', 14),\n",
       " ('flow=From-Botnet-V50-5-TCP-Established-HTTP-Ad-52', 14),\n",
       " ('flow=From-Botnet-V50-7-TCP-Established-HTTP-Ad-3', 14),\n",
       " ('flow=From-Botnet-V50-5-TCP-CC6-Plain-HTTP-Encrypted-Data', 14),\n",
       " ('flow=From-Botnet-V50-6-TCP-CC6-Plain-HTTP-Encrypted-Data', 14),\n",
       " ('flow=From-Botnet-V50-4-TCP-Established-HTTP-Ad-44', 14),\n",
       " ('flow=From-Botnet-V50-8-TCP-Established-HTTP-Ad-32', 14),\n",
       " ('flow=From-Botnet-V50-7-TCP-CC6-Plain-HTTP-Encrypted-Data', 14),\n",
       " ('flow=From-Botnet-V50-4-TCP-Established-HTTP-Ad-32', 14),\n",
       " ('flow=From-Botnet-V50-2-TCP-CC6-Plain-HTTP-Encrypted-Data', 14),\n",
       " ('flow=From-Botnet-V50-10-TCP-CC6-Plain-HTTP-Encrypted-Data', 14),\n",
       " ('flow=From-Botnet-V50-2-TCP-Established-HTTP-Ad-40', 14),\n",
       " ('flow=From-Botnet-V50-2-TCP-Established-HTTP-Ad-32', 14),\n",
       " ('flow=From-Botnet-V50-4-TCP-CC6-Plain-HTTP-Encrypted-Data', 14),\n",
       " ('flow=From-Botnet-V50-8-TCP-Established-HTTP-Ad-37', 14),\n",
       " ('flow=From-Botnet-V50-3-TCP-CC6-Plain-HTTP-Encrypted-Data', 14),\n",
       " ('flow=From-Botnet-V50-7-TCP-Established-HTTP-Ad-21', 13),\n",
       " ('flow=From-Botnet-V50-7-TCP-Established-HTTP-Ad-61', 13),\n",
       " ('flow=From-Botnet-V50-8-TCP-Established-HTTP-Ad-62', 13),\n",
       " ('flow=From-Botnet-V50-8-TCP-Established-HTTP-Ad-34', 13),\n",
       " ('flow=From-Botnet-V50-5-TCP-Established-HTTP-Ad-32', 13),\n",
       " ('flow=From-Botnet-V50-7-TCP-Established-HTTP-Ad-44', 13),\n",
       " ('flow=From-Botnet-V50-7-TCP-Established-SSL-To-Microsoft-5', 13),\n",
       " ('flow=From-Botnet-V50-2-TCP-Established-HTTP-Ad-33', 13),\n",
       " ('flow=From-Botnet-V50-1-TCP-Established-HTTP-Ad-24', 13),\n",
       " ('flow=From-Botnet-V50-3-TCP-Established-HTTP-Ad-23', 13),\n",
       " ('flow=From-Botnet-V50-2-TCP-Established-HTTP-Ad-23', 13),\n",
       " ('flow=From-Botnet-V50-4-TCP-Established-HTTP-Ad-11', 13),\n",
       " ('flow=From-Botnet-V50-2-TCP-Established-HTTP-Ad-49', 13),\n",
       " ('flow=From-Botnet-V50-9-TCP-Established-HTTP-Ad-62', 13),\n",
       " ('flow=From-Botnet-V50-4-TCP-Established-HTTP-Ad-28', 13),\n",
       " ('flow=From-Botnet-V50-3-TCP-Established-HTTP-Ad-40', 13),\n",
       " ('flow=From-Botnet-V50-7-TCP-Established-HTTP-Ad-48', 13),\n",
       " ('flow=From-Botnet-V50-9-TCP-Established-HTTP-Ad-3', 12),\n",
       " ('flow=From-Botnet-V50-3-UDP-Attempt-DNS', 12),\n",
       " ('flow=From-Botnet-V50-3-TCP-HTTP-Google-Net-Established-6', 12),\n",
       " ('flow=From-Botnet-V50-4-TCP-Established-HTTP-Ad-37', 12),\n",
       " ('flow=From-Botnet-V50-2-TCP-Established-HTTP-Ad-34', 12),\n",
       " ('flow=From-Botnet-V50-8-TCP-Established-HTTP-Ad-17', 12),\n",
       " ('flow=From-Botnet-V50-5-TCP-Established-HTTP-Ad-59', 12),\n",
       " ('flow=From-Botnet-V50-9-TCP-Established-HTTP-Ad-37', 12),\n",
       " ('flow=From-Botnet-V50-7-TCP-Established-HTTP-Ad-28', 12),\n",
       " ('flow=From-Botnet-V50-8-TCP-Established-HTTP-Ad-10', 12),\n",
       " ('flow=From-Botnet-V50-5-TCP-Established-HTTP-Ad-62', 11),\n",
       " ('flow=From-Botnet-V50-1-TCP-Established-HTTP-Ad-7', 11),\n",
       " ('flow=From-Botnet-V50-10-TCP-Established-HTTP-Ad-44', 11),\n",
       " ('flow=From-Botnet-V50-5-TCP-Established-HTTP-Ad-11', 11),\n",
       " ('flow=From-Botnet-V50-7-TCP-Established-HTTP-Ad-24', 11),\n",
       " ('flow=From-Botnet-V50-6-TCP-Established-HTTP-Ad-37', 11),\n",
       " ('flow=From-Botnet-V50-5-TCP-Established-HTTP-Ad-40', 11),\n",
       " ('flow=From-Botnet-V50-9-TCP-Established-HTTP-Ad-54', 11),\n",
       " ('flow=From-Botnet-V50-3-TCP-Established-HTTP-Ad-33', 11),\n",
       " ('flow=From-Botnet-V50-2-TCP-Established-HTTP-Ad-37', 11),\n",
       " ('flow=From-Botnet-V50-6-TCP-Established-HTTP-Ad-45', 11),\n",
       " ('flow=From-Botnet-V50-9-TCP-Established-HTTP-Ad-32', 11),\n",
       " ('flow=From-Botnet-V50-5-TCP-Established-SSL-To-Microsoft-4', 11),\n",
       " ('flow=From-Botnet-V50-1-TCP-Established-Custom-Encryption-7', 11),\n",
       " ('flow=From-Botnet-V50-1-TCP-Established-HTTP-Ad-56', 11),\n",
       " ('flow=From-Botnet-V50-8-TCP-Established-HTTP-Ad-30', 11),\n",
       " ('flow=From-Botnet-V50-1-TCP-Established-HTTP-Ad-54', 11),\n",
       " ('flow=From-Botnet-V50-1-UDP-Attempt-DNS', 11),\n",
       " ('flow=From-Botnet-V50-4-UDP-Attempt-DNS', 11),\n",
       " ('flow=From-Botnet-V50-6-TCP-Established-HTTP-Ad-3', 11),\n",
       " ('flow=From-Botnet-V50-4-TCP-Established-HTTP-Ad-20', 11),\n",
       " ('flow=From-Botnet-V50-7-TCP-Established-SSL-To-Microsoft-3', 11),\n",
       " ('flow=From-Botnet-V50-9-TCP-Established-HTTP-Ad-33', 11),\n",
       " ('flow=From-Botnet-V50-10-TCP-Established-HTTP-Ad-40', 11),\n",
       " ('flow=From-Botnet-V50-4-TCP-Established-HTTP-Ad-60', 10),\n",
       " ('flow=From-Botnet-V50-1-TCP-Established-HTTP-Ad-45', 10),\n",
       " ('flow=From-Botnet-V50-7-TCP-Established-SSL-To-Microsoft-4', 10),\n",
       " ('flow=From-Botnet-V50-7-TCP-Established-HTTP-Ad-37', 10),\n",
       " ('flow=From-Botnet-V50-1-TCP-Established-HTTP-Ad-11', 10),\n",
       " ('flow=From-Botnet-V50-1-TCP-Established-HTTP-Ad-16', 10),\n",
       " ('flow=From-Botnet-V50-5-TCP-Established-HTTP-Ad-44', 10),\n",
       " ('flow=From-Botnet-V50-4-TCP-Established-HTTP-Ad-49', 10),\n",
       " ('flow=From-Botnet-V50-7-TCP-Established-HTTP-Ad-11', 10),\n",
       " ('flow=From-Botnet-V50-2-TCP-Established-HTTP-Ad-11', 10),\n",
       " ('flow=From-Botnet-V50-5-TCP-Established-HTTP-Ad-33', 10),\n",
       " ('flow=From-Botnet-V50-6-TCP-Established-HTTP-Ad-30', 10),\n",
       " ('flow=From-Botnet-V50-3-TCP-Established-HTTP-Ad-16', 10),\n",
       " ('flow=From-Botnet-V50-4-TCP-Established-HTTP-Ad-62', 9),\n",
       " ('flow=From-Botnet-V50-8-TCP-HTTP-Google-Net-Established-6', 9),\n",
       " ('flow=From-Botnet-V50-10-TCP-Established-HTTP-Ad-7', 9),\n",
       " ('flow=From-Botnet-V50-2-TCP-Established-HTTP-Ad-30', 9),\n",
       " ('flow=From-Botnet-V50-4-TCP-Established-HTTP-Ad-59', 9),\n",
       " ('flow=From-Botnet-V50-8-TCP-Established-HTTP-Ad-44', 9),\n",
       " ('flow=From-Botnet-V50-3-TCP-CC5-Plain-HTTP-Encrypted-Data', 9),\n",
       " ('flow=From-Botnet-V50-2-TCP-HTTP-Google-Net-Established-2', 9),\n",
       " ('flow=From-Botnet-V50-1-TCP-CC5-Plain-HTTP-Encrypted-Data', 9),\n",
       " ('flow=From-Botnet-V50-2-TCP-Established-HTTP-Ad-12', 9),\n",
       " ('flow=From-Botnet-V50-10-TCP-CC5-Plain-HTTP-Encrypted-Data', 9),\n",
       " ('flow=From-Botnet-V50-2-TCP-CC5-Plain-HTTP-Encrypted-Data', 9),\n",
       " ('flow=From-Botnet-V50-1-TCP-CC12-HTTP-Not-Encrypted', 9),\n",
       " ('flow=From-Botnet-V50-7-TCP-Established-HTTP-Ad-45', 9),\n",
       " ('flow=From-Botnet-V50-10-TCP-Established-HTTP-Ad-16', 9),\n",
       " ('flow=From-Botnet-V50-7-TCP-CC5-Plain-HTTP-Encrypted-Data', 9),\n",
       " ('flow=From-Botnet-V50-4-TCP-CC5-Plain-HTTP-Encrypted-Data', 9),\n",
       " ('flow=From-Botnet-V50-6-TCP-CC5-Plain-HTTP-Encrypted-Data', 9),\n",
       " ('flow=From-Botnet-V50-5-TCP-Established-SSL-To-Microsoft-2', 9),\n",
       " ('flow=From-Botnet-V50-3-TCP-Established-HTTP-Ad-53', 9),\n",
       " ('flow=From-Botnet-V50-6-TCP-Established-HTTP-Ad-40', 9),\n",
       " ('flow=From-Botnet-V50-7-TCP-Established-HTTP-Ad-20', 9),\n",
       " ('flow=From-Botnet-V50-2-TCP-Established-HTTP-Ad-18', 9),\n",
       " ('flow=From-Botnet-V50-8-TCP-Established-HTTP-Ad-16', 9),\n",
       " ('flow=From-Botnet-V50-1-TCP-Established-HTTP-Ad-25', 9),\n",
       " ('flow=From-Botnet-V50-7-TCP-Established-HTTP-Ad-40', 9),\n",
       " ('flow=From-Botnet-V50-5-TCP-Established-HTTP-Ad-6', 9),\n",
       " ('flow=From-Botnet-V50-8-TCP-CC5-Plain-HTTP-Encrypted-Data', 9),\n",
       " ('flow=From-Botnet-V50-9-TCP-Established-HTTP-Ad-25', 9),\n",
       " ('flow=From-Botnet-V50-5-TCP-CC5-Plain-HTTP-Encrypted-Data', 9),\n",
       " ('flow=From-Botnet-V50-8-TCP-Established-HTTP-Ad-40', 9),\n",
       " ('flow=From-Botnet-V50-7-TCP-Established-HTTP-Ad-yieldmanager-8', 9),\n",
       " ('flow=From-Botnet-V50-1-TCP-Established-HTTP-Ad-51', 9),\n",
       " ('flow=From-Botnet-V50-9-TCP-CC5-Plain-HTTP-Encrypted-Data', 9),\n",
       " ('flow=From-Botnet-V50-10-TCP-HTTP-Google-Net-Established-7', 9),\n",
       " ('flow=From-Botnet-V50-10-TCP-Established-HTTP-Ad-11', 9),\n",
       " ('flow=From-Botnet-V50-4-TCP-Established-HTTP-Ad-6', 9),\n",
       " ('flow=From-Botnet-V50-2-UDP-Attempt-DNS', 9),\n",
       " ('flow=From-Botnet-V50-1-TCP-Established-HTTP-Ad-34', 8),\n",
       " ('flow=From-Botnet-V50-9-TCP-Established-HTTP-Adobe-4', 8),\n",
       " ('flow=From-Botnet-V50-1-TCP-Established-HTTP-Ad-19', 8),\n",
       " ('flow=From-Botnet-V50-7-TCP-Established-HTTP-Ad-12', 8),\n",
       " ('flow=From-Botnet-V50-5-TCP-Established-HTTP-Ad-23', 8),\n",
       " ('flow=From-Botnet-V50-3-TCP-Established-HTTP-Ad-37', 8),\n",
       " ('flow=From-Botnet-V50-3-TCP-Established-HTTP-Ad-6', 8),\n",
       " ('flow=From-Botnet-V50-1-TCP-Established-HTTP-Ad-47', 8),\n",
       " ('flow=From-Botnet-V50-1-TCP-Established-HTTP-Ad-53', 8),\n",
       " ('flow=From-Botnet-V50-9-TCP-Established-HTTP-Ad-yieldmanager-8', 8),\n",
       " ('flow=From-Botnet-V50-9-TCP-Established-HTTP-Ad-40', 8),\n",
       " ('flow=From-Botnet-V50-2-TCP-Established-HTTP-Ad-54', 8),\n",
       " ('flow=From-Botnet-V50-10-TCP-Established-HTTP-Ad-57', 8),\n",
       " ('flow=From-Botnet-V50-5-TCP-Established-HTTP-Ad-16', 8),\n",
       " ('flow=From-Botnet-V50-4-TCP-Established-HTTP-Ad-16', 8),\n",
       " ('flow=From-Botnet-V50-7-TCP-Established-HTTP-Ad-18', 8),\n",
       " ('flow=From-Botnet-V50-8-TCP-Established-HTTP-Ad-45', 8),\n",
       " ('flow=From-Botnet-V50-9-TCP-Established-HTTP-Ad-12', 8),\n",
       " ('flow=From-Botnet-V50-6-TCP-Established-HTTP-Ad-60', 7),\n",
       " ('flow=From-Botnet-V50-4-TCP-Established-HTTP-Ad-52', 7),\n",
       " ('flow=From-Botnet-V50-2-TCP-HTTP-Google-Net-Established-7', 7),\n",
       " ('flow=From-Botnet-V50-4-TCP-Established-HTTP-Ad-54', 7),\n",
       " ('flow=From-Botnet-V50-10-TCP-Established-HTTP-Ad-25', 7),\n",
       " ('flow=From-Botnet-V50-7-TCP-Established', 7),\n",
       " ('flow=From-Botnet-V50-4-TCP-Established-HTTP-Ad-40', 7),\n",
       " ('flow=From-Botnet-V50-3-TCP-Established-HTTP-Ad-48', 7),\n",
       " ('flow=From-Botnet-V50-6-TCP-Established', 7),\n",
       " ('flow=From-Botnet-V50-3-TCP-Established-HTTP-Ad-47', 7),\n",
       " ('flow=From-Botnet-V50-8-TCP-Established-HTTP-To-Microsoft-1', 7),\n",
       " ('flow=From-Botnet-V50-2-TCP-Established-HTTP-Ad-42', 7),\n",
       " ('flow=From-Botnet-V50-1-TCP-Established-To-AVG-1', 7),\n",
       " ('flow=From-Botnet-V50-6-TCP-Established-HTTP-Ad-54', 7),\n",
       " ('flow=From-Botnet-V50-5-TCP-Established-HTTP-Ad-37', 7),\n",
       " ('flow=From-Botnet-V50-4-TCP-Established-HTTP-Ad-34', 7),\n",
       " ('flow=From-Botnet-V50-9-TCP-Established-HTTP-Ad-10', 7),\n",
       " ('flow=From-Botnet-V50-3-TCP-Established-HTTP-Ad-11', 7),\n",
       " ('flow=From-Botnet-V50-5-TCP-Established-HTTP-Ad-53', 7),\n",
       " ('flow=From-Botnet-V50-10-TCP-Established-HTTP-Ad-23', 7),\n",
       " ('flow=From-Botnet-V50-10-TCP-Established-HTTP-Ad-6', 7),\n",
       " ('flow=From-Botnet-V50-6-TCP-Established-HTTP-Ad-6', 7),\n",
       " ('flow=From-Botnet-V50-1-TCP-Established-HTTP-Ad-59', 7),\n",
       " ('flow=From-Botnet-V50-1-TCP-Established-HTTP-Ad-50', 7),\n",
       " ('flow=From-Botnet-V50-2-TCP-Established-SSL-To-Microsoft-7', 7),\n",
       " ('flow=From-Botnet-V50-9-TCP-Established-HTTP-Ad-41', 6),\n",
       " ('flow=From-Botnet-V50-3-TCP-Established-HTTP-Ad-52', 6),\n",
       " ('flow=From-Botnet-V50-6-TCP-Established-HTTP-Ad-55', 6),\n",
       " ('flow=From-Botnet-V50-1-TCP-Established-HTTP-Ad-49', 6),\n",
       " ('flow=From-Botnet-V50-1-TCP-Established-HTTP-To-Microsoft-1', 6),\n",
       " ('flow=From-Botnet-V50-1-TCP-Established-HTTP-To-Microsoft-2', 6),\n",
       " ('flow=From-Botnet-V50-5-TCP-Established-HTTP-Ad-7', 6),\n",
       " ('flow=From-Botnet-V50-8-TCP-HTTP-Google-Net-Established-2', 6),\n",
       " ('flow=From-Botnet-V50-10-TCP-Established-HTTP-Ad-53', 6),\n",
       " ('flow=From-Botnet-V50-7-UDP-Attempt-DNS', 6),\n",
       " ('flow=From-Botnet-V50-8-TCP-Established-HTTP-Ad-18', 6),\n",
       " ('flow=From-Botnet-V50-5-UDP-Attempt-DNS', 6),\n",
       " ('flow=From-Botnet-V50-4-TCP-Established-HTTP-Ad-53', 6),\n",
       " ('flow=From-Botnet-V50-3-TCP-Established-HTTP-Ad-42', 6),\n",
       " ('flow=From-Botnet-V50-2-TCP-Established-HTTP-Adobe-4', 6),\n",
       " ('flow=From-Botnet-V50-5-TCP-Established-HTTP-Ad-47', 6),\n",
       " ('flow=From-Botnet-V50-9-TCP-HTTP-Google-Net-Established-7', 6),\n",
       " ('flow=From-Botnet-V50-5-TCP-Established-HTTP-Ad-60', 6),\n",
       " ('flow=From-Botnet-V50-2-TCP-Established-HTTP-Ad-51', 6),\n",
       " ('flow=From-Botnet-V50-6-TCP-HTTP-Google-Net-Established-7', 6),\n",
       " ('flow=From-Botnet-V50-7-TCP-Established-HTTP-Ad-64', 6),\n",
       " ('flow=From-Botnet-V50-7-TCP-CC12-HTTP-Not-Encrypted', 6),\n",
       " ('flow=From-Botnet-V50-10-TCP-Established-HTTP-Ad-18', 6),\n",
       " ('flow=From-Botnet-V50-7-TCP-Established-HTTP-Ad-41', 6),\n",
       " ('flow=From-Botnet-V50-10-TCP-Established-HTTP-Ad-48', 5),\n",
       " ('flow=From-Botnet-V50-6-TCP-Established-HTTP-Ad-11', 5),\n",
       " ('flow=From-Botnet-V50-6-TCP-Established-HTTP-Ad-24', 5),\n",
       " ('flow=From-Botnet-V50-6-TCP-Established-HTTP-Ad-4', 5),\n",
       " ('flow=From-Botnet-V50-9-TCP-Established-HTTP-Binary-Download-3', 5),\n",
       " ('flow=From-Botnet-V50-8-TCP-Established-HTTP-Binary-Download-3', 5),\n",
       " ('flow=From-Botnet-V50-4-TCP-Established-HTTP-Binary-Download-3', 5),\n",
       " ('flow=From-Botnet-V50-4-TCP-CC107-Plain-HTTP-Encrypted-Data', 5),\n",
       " ('flow=From-Botnet-V50-7-TCP-Established-HTTP-Ad-32', 5),\n",
       " ('flow=From-Botnet-V50-7-TCP-Established-HTTP-Ad-57', 5),\n",
       " ('flow=From-Botnet-V50-1-TCP-Established-HTTP-Ad-60', 5),\n",
       " ('flow=From-Botnet-V50-3-TCP-Established-HTTP-Ad-41', 5),\n",
       " ('flow=From-Botnet-V50-10-TCP-Established-HTTP-Ad-60', 5),\n",
       " ('flow=From-Botnet-V50-4-TCP-Established-HTTP-Ad-5', 5),\n",
       " ('flow=From-Botnet-V50-10-TCP-Established-HTTP-Binary-Download-3', 5),\n",
       " ('flow=From-Botnet-V50-1-TCP-Established-HTTP-Binary-Download-3', 5),\n",
       " ('flow=From-Botnet-V50-2-TCP-Established-HTTP-Ad-50', 5),\n",
       " ('flow=From-Botnet-V50-2-TCP-Established-HTTP-Binary-Download-3', 5),\n",
       " ('flow=From-Botnet-V50-1-TCP-Established-HTTP-Ad-28', 5),\n",
       " ('flow=From-Botnet-V50-3-TCP-Established-HTTP-Ad-51', 5),\n",
       " ('flow=From-Botnet-V50-3-TCP-Established-HTTP-Binary-Download-3', 5),\n",
       " ('flow=From-Botnet-V50-2-TCP-Established-HTTP-Ad-25', 5),\n",
       " ('flow=From-Botnet-V50-2-TCP-Established-HTTP-Ad-60', 5),\n",
       " ('flow=From-Botnet-V50-6-TCP-Established-HTTP-To-Microsoft-1', 5),\n",
       " ('flow=From-Botnet-V50-9-TCP-Established', 5),\n",
       " ('flow=From-Botnet-V50-5-TCP-Established-HTTP-Ad-49', 5),\n",
       " ('flow=From-Botnet-V50-9-TCP-Established-SSL-To-Microsoft-7', 5),\n",
       " ('flow=From-Botnet-V50-7-TCP-HTTP-Google-Net-Established-7', 5),\n",
       " ('flow=From-Botnet-V50-7-TCP-Established-HTTP-To-Microsoft-2', 5),\n",
       " ('flow=From-Botnet-V50-6-TCP-Established-HTTP-To-Microsoft-2', 5),\n",
       " ('flow=From-Botnet-V50-1-TCP-Established-HTTP-Ad-6', 5),\n",
       " ('flow=From-Botnet-V50-1-ICMP', 5),\n",
       " ('flow=From-Botnet-V50-1-TCP-Established-HTTP-Ad-42', 5),\n",
       " ('flow=From-Botnet-V50-6-TCP-Established-HTTP-Binary-Download-3', 5),\n",
       " ('flow=From-Botnet-V50-7-TCP-Established-HTTP-Binary-Download-3', 5),\n",
       " ('flow=From-Botnet-V50-5-TCP-Established-HTTP-Binary-Download-3', 5),\n",
       " ('flow=From-Botnet-V50-9-TCP-Established-HTTP-Ad-42', 4),\n",
       " ('flow=From-Botnet-V50-10-TCP-Established-HTTP-Ad-37', 4),\n",
       " ('flow=From-Botnet-V50-10-TCP-Established-HTTP-Ad-20', 4),\n",
       " ('flow=From-Botnet-V50-10-TCP-Established-HTTP-Ad-42', 4),\n",
       " ('flow=From-Botnet-V50-10-TCP-Established-HTTP-Ad-51', 4),\n",
       " ('flow=From-Botnet-V50-2-TCP-Established-HTTP-Ad-47', 4),\n",
       " ('flow=From-Botnet-V50-7-TCP-Established-HTTP-Ad-10', 4),\n",
       " ('flow=From-Botnet-V50-2-TCP-CC107-Plain-HTTP-Encrypted-Data', 4),\n",
       " ('flow=From-Botnet-V50-3-TCP-Established-HTTP-Ad-19', 4),\n",
       " ('flow=From-Botnet-V50-8-TCP-HTTP-Google-Net-Established-7', 4),\n",
       " ('flow=From-Botnet-V50-7-TCP-Established-HTTP-Ad-52', 4),\n",
       " ('flow=From-Botnet-V50-5-TCP-Established-HTTP-Ad-48', 4),\n",
       " ('flow=From-Botnet-V50-7-TCP-Established-HTTP-Ad-23', 4),\n",
       " ('flow=From-Botnet-V50-10-TCP-Established-HTTP-Ad-50', 4),\n",
       " ('flow=From-Botnet-V50-6-TCP-Established-HTTP-Ad-57', 4),\n",
       " ('flow=From-Botnet-V50-2-TCP-Established-HTTP-Ad-7', 4),\n",
       " ('flow=From-Botnet-V50-3-TCP-Established', 4),\n",
       " ('flow=From-Botnet-V50-2-TCP-Established', 4),\n",
       " ('flow=From-Botnet-V50-9-TCP-Established-HTTP-Ad-49', 4),\n",
       " ('flow=From-Botnet-V50-8-TCP-Established-HTTP-Ad-52', 4),\n",
       " ('flow=From-Botnet-V50-2-ICMP', 4),\n",
       " ('flow=From-Botnet-V50-8-TCP-Established-HTTP-Ad-51', 4),\n",
       " ('flow=From-Botnet-V50-10-TCP-Established-HTTP-Ad-49', 4),\n",
       " ('flow=From-Botnet-V50-3-TCP-Established-HTTP-Ad-28', 4),\n",
       " ('flow=From-Botnet-V50-8-TCP-Established-HTTP-Ad-49', 4),\n",
       " ('flow=From-Botnet-V50-3-TCP-Established-HTTP-Ad-7', 4),\n",
       " ('flow=From-Botnet-V50-9-TCP-Established-HTTP-Ad-45', 4),\n",
       " ('flow=From-Botnet-V50-7-TCP-Established-HTTP-Adobe-4', 4),\n",
       " ('flow=From-Botnet-V50-8-TCP-Established-HTTP-Ad-53', 4),\n",
       " ('flow=From-Botnet-V50-8-TCP-Established-HTTP-Ad-6', 4),\n",
       " ('flow=From-Botnet-V50-3-TCP-Established-HTTP-Ad-57', 4),\n",
       " ('flow=From-Botnet-V50-7-TCP-Established-HTTP-Ad-47', 4),\n",
       " ('flow=From-Botnet-V50-6-TCP-Established-HTTP-Ad-51', 4),\n",
       " ('flow=From-Botnet-V50-7-TCP-Established-HTTP-To-Microsoft-1', 4),\n",
       " ('flow=From-Botnet-V50-9-TCP-Established-HTTP-Ad-30', 4),\n",
       " ('flow=From-Botnet-V50-10-TCP-Established-HTTP-Ad-5', 4),\n",
       " ('flow=From-Botnet-V50-1-TCP-Established-HTTP-Ad-48', 4),\n",
       " ('flow=From-Botnet-V50-6-UDP-Attempt-DNS', 4),\n",
       " ('flow=From-Botnet-V50-4-TCP-HTTP-Google-Net-Established-2', 4),\n",
       " ('flow=From-Botnet-V50-6-TCP-Established-HTTP-Ad-50', 4),\n",
       " ('flow=From-Botnet-V50-4-TCP-Established-HTTP-Ad-7', 4),\n",
       " ('flow=From-Botnet-V50-3-TCP-Established-HTTP-Ad-59', 4),\n",
       " ('flow=From-Botnet-V50-5-TCP-Established-HTTP-Ad-54', 4),\n",
       " ('flow=From-Botnet-V50-7-TCP-Established-HTTP-Ad-51', 4),\n",
       " ('flow=From-Botnet-V50-7-TCP-Established-HTTP-Ad-50', 4),\n",
       " ('flow=From-Botnet-V50-6-TCP-Established-HTTP-Ad-49', 4),\n",
       " ('flow=From-Botnet-V50-6-TCP-Established-HTTP-Ad-28', 4),\n",
       " ('flow=From-Botnet-V50-4-TCP-Established-HTTP-Ad-43', 4),\n",
       " ('flow=From-Botnet-V50-3-TCP-Established-HTTP-Ad-18', 4),\n",
       " ('flow=From-Botnet-V50-1-TCP-Established-HTTP-Ad-52', 4),\n",
       " ('flow=From-Botnet-V50-1-TCP-Established-HTTP-Ad-10', 4),\n",
       " ('flow=From-Botnet-V50-7-UDP-Attempt', 3),\n",
       " ('flow=From-Botnet-V50-4-UDP-Attempt', 3),\n",
       " ('flow=From-Botnet-V50-4-TCP-Established-HTTP-Ad-47', 3),\n",
       " ('flow=From-Botnet-V50-2-UDP-Attempt', 3),\n",
       " ('flow=From-Botnet-V50-9-ICMP', 3),\n",
       " ('flow=From-Botnet-V50-9-TCP-Established-HTTP-To-Microsoft-1', 3),\n",
       " ('flow=From-Botnet-V50-9-TCP-Established-HTTP-To-Microsoft-2', 3),\n",
       " ('flow=From-Botnet-V50-10-UDP-Attempt-DNS', 3),\n",
       " ('flow=From-Botnet-V50-7-TCP-Established-HTTP-Ad-53', 3),\n",
       " ('flow=From-Botnet-V50-2-TCP-HTTP-Not-Encrypted-Down-1', 3),\n",
       " ('flow=From-Botnet-V50-5-TCP-Established-Custom-Encryption-4', 3),\n",
       " ('flow=From-Botnet-V50-3-UDP-Attempt', 3),\n",
       " ('flow=From-Botnet-V50-9-TCP-Established-HTTP-Ad-50', 3),\n",
       " ('flow=From-Botnet-V50-7-TCP-Established-HTTP-Ad-42', 3),\n",
       " ('flow=From-Botnet-V50-5-TCP-Established-HTTP-Ad-57', 3),\n",
       " ('flow=From-Botnet-V50-5-UDP-Attempt', 3),\n",
       " ('flow=From-Botnet-V50-10-UDP-Attempt', 3),\n",
       " ('flow=From-Botnet-V50-9-TCP-Established-HTTP-Ad-28', 3),\n",
       " ('flow=From-Botnet-V50-2-TCP-HTTP-Not-Encrypted-Down-3', 3),\n",
       " ('flow=From-Botnet-V50-1-TCP-Established-SSL-To-Microsoft-7', 3),\n",
       " ('flow=From-Botnet-V50-1-TCP-HTTP-Not-Encrypted-Down-1', 3),\n",
       " ('flow=From-Botnet-V50-10-TCP-Established-HTTP-Ad-28', 3),\n",
       " ('flow=From-Botnet-V50-4-TCP-Established-HTTP-Ad-48', 3),\n",
       " ('flow=From-Botnet-V50-6-TCP-Established-HTTP-Binary-Download-2', 3),\n",
       " ('flow=From-Botnet-V50-6-TCP-HTTP-Google-Net-Established-2', 3),\n",
       " ('flow=From-Botnet-V50-6-UDP-Attempt', 3),\n",
       " ('flow=From-Botnet-V50-1-UDP-Attempt', 3),\n",
       " ('flow=From-Botnet-V50-5-TCP-Established-HTTP-Ad-43', 3),\n",
       " ('flow=From-Botnet-V50-8-TCP-Established-HTTP-Ad-42', 3),\n",
       " ('flow=From-Botnet-V50-10-TCP-Established-HTTP-Adobe-4', 3),\n",
       " ('flow=From-Botnet-V50-2-TCP-Established-HTTP-Ad-57', 3),\n",
       " ('flow=From-Botnet-V50-3-TCP-Established-HTTP-Ad-49', 3),\n",
       " ('flow=From-Botnet-V50-2-TCP-Established-HTTP-Ad-48', 3),\n",
       " ('flow=From-Botnet-V50-10-TCP-Established', 3),\n",
       " ('flow=From-Botnet-V50-10-TCP-Established-HTTP-Ad-59', 3),\n",
       " ('flow=From-Botnet-V50-4-TCP-Established-HTTP-Ad-50', 3),\n",
       " ('flow=From-Botnet-V50-7-TCP-Established-Custom-Encryption-7', 3),\n",
       " ('flow=From-Botnet-V50-6-TCP-Established-HTTP-Ad-53', 3),\n",
       " ('flow=From-Botnet-V50-6-TCP-Established-HTTP-Ad-5', 3),\n",
       " ('flow=From-Botnet-V50-7-TCP-Established-HTTP-Binary-Download-2', 3),\n",
       " ('flow=From-Botnet-V50-2-TCP-Established-HTTP-Ad-5', 3),\n",
       " ('flow=From-Botnet-V50-2-TCP-Established-HTTP-Ad-6', 3),\n",
       " ('flow=From-Botnet-V50-1-TCP-Established-HTTP-Ad-57', 3),\n",
       " ('flow=From-Botnet-V50-8-TCP-Established-HTTP-Ad-54', 3),\n",
       " ('flow=From-Botnet-V50-6-TCP-Established-HTTP-Ad-42', 3),\n",
       " ('flow=From-Botnet-V50-1-TCP-Established-Custom-Encryption-4', 3),\n",
       " ('flow=From-Botnet-V50-1-TCP-Established-HTTP-Binary-Download-2', 3),\n",
       " ('flow=From-Botnet-V50-5-TCP-Established-HTTP-Ad-28', 3),\n",
       " ('flow=From-Botnet-V50-4-TCP-Established-Custom-Encryption-4', 3),\n",
       " ('flow=From-Botnet-V50-4-TCP-Established-HTTP-Ad-33', 3),\n",
       " ('flow=From-Botnet-V50-1-TCP-Established-HTTP-Ad-33', 3),\n",
       " ('flow=From-Botnet-V50-8-TCP-Established-HTTP-Ad-25', 3),\n",
       " ('flow=From-Botnet-V50-5-TCP-Established-HTTP-To-Microsoft-2', 3),\n",
       " ('flow=From-Botnet-V50-5-TCP-Established-HTTP-To-Microsoft-1', 3),\n",
       " ('flow=From-Botnet-V50-2-TCP-Established-HTTP-Ad-28', 3),\n",
       " ('flow=From-Botnet-V50-8-UDP-Attempt-DNS', 3),\n",
       " ('flow=From-Botnet-V50-2-TCP-Established-HTTP-Ad-20', 3),\n",
       " ('flow=From-Botnet-V50-8-TCP-CC107-Plain-HTTP-Encrypted-Data', 3),\n",
       " ('flow=From-Botnet-V50-8-TCP-Established', 3),\n",
       " ('flow=From-Botnet-V50-7-TCP-Established-HTTP-Ad-59', 3),\n",
       " ('flow=From-Botnet-V50-3-TCP-Established-HTTP-Ad-5', 3),\n",
       " ('flow=From-Botnet-V50-9-TCP-Established-HTTP-Ad-47', 2),\n",
       " ('flow=From-Botnet-V50-3-TCP-Established-HTTP-Ad-50', 2),\n",
       " ('flow=From-Botnet-V50-9-TCP-Established-HTTP-Ad-57', 2),\n",
       " ('flow=From-Botnet-V50-4-TCP-Established-HTTP-Ad-42', 2),\n",
       " ('flow=From-Botnet-V50-7-TCP-Established-HTTP-Ad-34', 2),\n",
       " ('flow=From-Botnet-V50-9-TCP-Established-HTTP-Ad-6', 2),\n",
       " ('flow=From-Botnet-V50-5-TCP-Established-HTTP-Binary-Download-Custom-Port-4',\n",
       "  2),\n",
       " ('flow=From-Botnet-V50-5-TCP-Established-HTTP-Binary-Download-Custom-Port-6',\n",
       "  2),\n",
       " ('flow=From-Botnet-V50-5-TCP-Established-HTTP-Binary-Download-9', 2),\n",
       " ('flow=From-Botnet-V50-1-TCP-Established', 2),\n",
       " ('flow=From-Botnet-V50-7-TCP-Established-HTTP-Ad-54', 2),\n",
       " ('flow=From-Botnet-V50-8-TCP-Established-HTTP-Binary-Download-9', 2),\n",
       " ('flow=From-Botnet-V50-8-UDP-Custom-Encryption-1', 2),\n",
       " ('flow=From-Botnet-V50-9-TCP-Established-HTTP-Binary-Download-Custom-Port-4',\n",
       "  2),\n",
       " ('flow=From-Botnet-V50-9-TCP-Established-HTTP-Binary-Download-Custom-Port-6',\n",
       "  2),\n",
       " ('flow=From-Botnet-V50-7-TCP-Established-SSL-To-Microsoft-7', 2),\n",
       " ('flow=From-Botnet-V50-1-TCP-Established-HTTP-Binary-Download-Custom-Port-4',\n",
       "  2),\n",
       " ('flow=From-Botnet-V50-1-TCP-Established-HTTP-Binary-Download-Custom-Port-6',\n",
       "  2),\n",
       " ('flow=From-Botnet-V50-1-TCP-Established-HTTP-Binary-Download-9', 2),\n",
       " ('flow=From-Botnet-V50-3-TCP-Established-SSL-To-Microsoft-1', 2),\n",
       " ('flow=From-Botnet-V50-7-TCP-Established-HTTP-Ad-55', 2),\n",
       " ('flow=From-Botnet-V50-10-TCP-Established-SSL-To-Microsoft-7', 2),\n",
       " ('flow=From-Botnet-V50-6-TCP-Established-HTTP-Binary-Download-Custom-Port-6',\n",
       "  2),\n",
       " ('flow=From-Botnet-V50-8-TCP-Established-HTTP-Ad-41', 2),\n",
       " ('flow=From-Botnet-V50-6-TCP-Established-HTTP-Ad-43', 2),\n",
       " ('flow=From-Botnet-V50-9-TCP-Established-HTTP-Ad-60', 2),\n",
       " ('flow=From-Botnet-V50-7-TCP-Established-HTTP-Ad-7', 2),\n",
       " ('flow=From-Botnet-V50-9-TCP-Established-HTTP-Ad-59', 2),\n",
       " ('flow=From-Botnet-V50-6-TCP-Established-HTTP-Binary-Download-9', 2),\n",
       " ('flow=From-Botnet-V50-7-TCP-Established-HTTP-Binary-Download-Custom-Port-4',\n",
       "  2),\n",
       " ('flow=From-Botnet-V50-6-TCP-Established-HTTP-Ad-47', 2),\n",
       " ('flow=From-Botnet-V50-3-TCP-Established-HTTP-Ad-20', 2),\n",
       " ('flow=From-Botnet-V50-3-TCP-Established-HTTP-Binary-Download-Custom-Port-4',\n",
       "  2),\n",
       " ('flow=From-Botnet-V50-3-TCP-Established-HTTP-Ad-63', 2),\n",
       " ('flow=From-Botnet-V50-3-TCP-Established-HTTP-Binary-Download-Custom-Port-6',\n",
       "  2),\n",
       " ('flow=From-Botnet-V50-10-TCP-HTTP-Google-Net-Established-2', 2),\n",
       " ('flow=From-Botnet-V50-3-TCP-HTTP-Not-Encrypted-Down-3', 2),\n",
       " ('flow=From-Botnet-V50-10-TCP-Established-HTTP-Binary-Download-Custom-Port-4',\n",
       "  2),\n",
       " ('flow=From-Botnet-V50-10-TCP-Established-HTTP-Binary-Download-Custom-Port-6',\n",
       "  2),\n",
       " ('flow=From-Botnet-V50-10-TCP-Established-HTTP-Binary-Download-9', 2),\n",
       " ('flow=From-Botnet-V50-8-TCP-Established-HTTP-To-Microsoft-2', 2),\n",
       " ('flow=From-Botnet-V50-9-TCP-Established-HTTP-Binary-Download-9', 2),\n",
       " ('flow=From-Botnet-V50-9-UDP-Custom-Encryption-1', 2),\n",
       " ('flow=From-Botnet-V50-1-TCP-Established-HTTP-Ad-5', 2),\n",
       " ('flow=From-Botnet-V50-1-TCP-Established-HTTP-Adobe-4', 2),\n",
       " ('flow=From-Botnet-V50-3-TCP-Established-HTTP-Binary-Download-9', 2),\n",
       " ('flow=From-Botnet-V50-4-TCP-Established-HTTP-Ad-57', 2),\n",
       " ('flow=From-Botnet-V50-8-TCP-Established-HTTP-Adobe-4', 2),\n",
       " ('flow=From-Botnet-V50-10-TCP-HTTP-Not-Encrypted-Down-1', 2),\n",
       " ('flow=From-Botnet-V50-7-TCP-Established-HTTP-Binary-Download-9', 2),\n",
       " ('flow=From-Botnet-V50-5-TCP-Established-HTTP-Ad-5', 2),\n",
       " ('flow=From-Botnet-V50-8-TCP-Established-HTTP-Binary-Download-Custom-Port-6',\n",
       "  2),\n",
       " ('flow=From-Botnet-V50-2-TCP-Established-HTTP-To-Microsoft-2', 2),\n",
       " ('flow=From-Botnet-V50-2-TCP-Established-HTTP-Ad-52', 2),\n",
       " ('flow=From-Botnet-V50-5-TCP-Established-HTTP-Ad-30', 2),\n",
       " ('flow=From-Botnet-V50-6-TCP-HTTP-Not-Encrypted-Down-1', 2),\n",
       " ('flow=From-Botnet-V50-6-TCP-Established-HTTP-Binary-Download-Custom-Port-4',\n",
       "  2),\n",
       " ('flow=From-Botnet-V50-7-TCP-Established-HTTP-Binary-Download-Custom-Port-6',\n",
       "  2),\n",
       " ('flow=From-Botnet-V50-8-TCP-Established-HTTP-Binary-Download-Custom-Port-4',\n",
       "  2),\n",
       " ('flow=From-Botnet-V50-4-TCP-HTTP-Not-Encrypted-Down-3', 2),\n",
       " ('flow=From-Botnet-V50-7-TCP-Established-HTTP-Ad-33', 2),\n",
       " ('flow=From-Botnet-V50-5-TCP-Established-HTTP-Ad-42', 2),\n",
       " ('flow=From-Botnet-V50-2-TCP-Established-HTTP-Binary-Download-Custom-Port-4',\n",
       "  2),\n",
       " ('flow=From-Botnet-V50-2-TCP-Established-HTTP-Ad-64', 2),\n",
       " ('flow=From-Botnet-V50-3-TCP-Established-HTTP-Ad-12', 2),\n",
       " ('flow=From-Botnet-V50-4-TCP-Established-HTTP-Binary-Download-Custom-Port-4',\n",
       "  2),\n",
       " ('flow=From-Botnet-V50-4-TCP-Established-HTTP-Binary-Download-Custom-Port-6',\n",
       "  2),\n",
       " ('flow=From-Botnet-V50-4-TCP-Established-HTTP-Binary-Download-9', 2),\n",
       " ('flow=From-Botnet-V50-2-TCP-Established-HTTP-Binary-Download-Custom-Port-6',\n",
       "  2),\n",
       " ('flow=From-Botnet-V50-7-TCP-Established-HTTP-Ad-5', 2),\n",
       " ('flow=From-Botnet-V50-8-TCP-Established-HTTP-Ad-59', 2),\n",
       " ('flow=From-Botnet-V50-8-TCP-Established-HTTP-Ad-57', 2),\n",
       " ('flow=From-Botnet-V50-7-TCP-HTTP-Not-Encrypted-Down-3', 2),\n",
       " ('flow=From-Botnet-V50-6-ICMP', 2),\n",
       " ('flow=From-Botnet-V50-9-UDP-Attempt', 2),\n",
       " ('flow=From-Botnet-V50-8-TCP-Established-HTTP-Ad-33', 2),\n",
       " ('flow=From-Botnet-V50-4-TCP-HTTP-Google-Net-Established-7', 1),\n",
       " ('flow=From-Botnet-V50-5-TCP-CC7-Custom-Encryption', 1),\n",
       " ('flow=From-Botnet-V50-8-UDP-Established', 1),\n",
       " ('flow=From-Botnet-V50-7-TCP-HTTP-Not-Encrypted-Down-2', 1),\n",
       " ('flow=From-Botnet-V50-8-TCP-Established-HTTP-Ad-28', 1),\n",
       " ('flow=From-Botnet-V50-6-TCP-Established-HTTP-Ad-59', 1),\n",
       " ('flow=From-Botnet-V50-7-TCP-Established-HTTP-Ad-6', 1),\n",
       " ('flow=From-Botnet-V50-6-TCP-HTTP-Not-Encrypted-Down-3', 1),\n",
       " ('flow=From-Botnet-V50-9-TCP-Established-HTTP-Ad-7', 1),\n",
       " ('flow=From-Botnet-V50-5-TCP-Established-HTTP-Ad-51', 1),\n",
       " ('flow=From-Botnet-V50-2-TCP-HTTP-Not-Encrypted-Down-2', 1),\n",
       " ('flow=From-Botnet-V50-2-UDP-Custom-Encryption-1', 1),\n",
       " ('flow=From-Botnet-V50-8-TCP-Established-HTTP-Ad-29', 1),\n",
       " ('flow=From-Botnet-V50-8-TCP-Established-HTTP-Ad-5', 1),\n",
       " ('flow=From-Botnet-V50-9-TCP-Established-HTTP-Binary-Download-Custom-Port-5',\n",
       "  1),\n",
       " ('flow=From-Botnet-V50-3-TCP-Established-HTTP-Binary-Download-Custom-Port-5',\n",
       "  1),\n",
       " ('flow=From-Botnet-V50-4-TCP-Established-HTTP-Binary-Download-1', 1),\n",
       " ('flow=From-Botnet-V50-4-TCP-Established-HTTP-Binary-Download-Custom-Port-7',\n",
       "  1),\n",
       " ('flow=From-Botnet-V50-4-TCP-Established-HTTP-Ad-63', 1),\n",
       " ('flow=From-Botnet-V50-6-TCP-Established-HTTP-Binary-Download-Custom-Port-7',\n",
       "  1),\n",
       " ('flow=From-Botnet-V50-9-TCP-Established-HTTP-Ad-63', 1),\n",
       " ('flow=From-Botnet-V50-2-TCP-Established-HTTP-Binary-Download-1', 1),\n",
       " ('flow=From-Botnet-V50-2-TCP-Established-HTTP-Binary-Download-Custom-Port-7',\n",
       "  1),\n",
       " ('flow=From-Botnet-V50-6-TCP-Established-HTTP-Ad-63', 1),\n",
       " ('flow=From-Botnet-V50-7-TCP-CC7-Custom-Encryption', 1),\n",
       " ('flow=From-Botnet-V50-8-TCP-Established-HTTP-Binary-Download-1', 1),\n",
       " ('flow=From-Botnet-V50-8-TCP-Established-HTTP-Binary-Download-Custom-Port-7',\n",
       "  1),\n",
       " ('flow=From-Botnet-V50-7-UDP-Custom-Encryption-1', 1),\n",
       " ('flow=From-Botnet-V50-2-TCP-Established-HTTP-To-Microsoft-1', 1),\n",
       " ('flow=From-Botnet-V50-10-TCP-Established-HTTP-Binary-Download-Custom-Port-5',\n",
       "  1),\n",
       " ('flow=From-Botnet-V50-8-TCP-Established-HTTP-Ad-7', 1),\n",
       " ('flow=From-Botnet-V50-5-TCP-Established-HTTP-Ad-4', 1),\n",
       " ('flow=From-Botnet-V50-5-TCP-Established-HTTP-Binary-Download-Custom-Port-5',\n",
       "  1),\n",
       " ('flow=From-Botnet-V50-8-TCP-Established-HTTP-Ad-63', 1),\n",
       " ('flow=From-Botnet-V50-8-TCP-Established-HTTP-Ad-23', 1),\n",
       " ('flow=From-Botnet-V50-1-TCP-Established-HTTP-Binary-Download-10', 1),\n",
       " ('flow=From-Botnet-V50-2-TCP-Established-HTTP-Binary-Download-9', 1),\n",
       " ('flow=From-Botnet-V50-3-TCP-CC7-Custom-Encryption', 1),\n",
       " ('flow=From-Botnet-V50-10-TCP-CC7-Custom-Encryption', 1),\n",
       " ('flow=From-Botnet-V50-10-UDP-Custom-Encryption-1', 1),\n",
       " ('flow=From-Botnet-V50-5-TCP-Established-HTTP-Ad-63', 1),\n",
       " ('flow=From-Botnet-V50-1-TCP-Established-HTTP-Binary-Download-Custom-Port-5',\n",
       "  1),\n",
       " ('flow=From-Botnet-V50-1-TCP-Established-HTTP-Ad-13', 1),\n",
       " ('flow=From-Botnet-V50-1-TCP-Established-HTTP-Ad-63', 1),\n",
       " ('flow=From-Botnet-V50-3-TCP-HTTP-Not-Encrypted-Down-2', 1),\n",
       " ('flow=From-Botnet-V50-6-TCP-Established-HTTP-Binary-Download-1', 1),\n",
       " ('flow=From-Botnet-V50-2-TCP-Established-SSL-To-Microsoft-1', 1),\n",
       " ('flow=From-Botnet-V50-7-TCP-Established-HTTP-Binary-Download-Custom-Port-5',\n",
       "  1),\n",
       " ('flow=From-Botnet-V50-8-TCP-Established-HTTP-Binary-Download-Custom-Port-5',\n",
       "  1),\n",
       " ('flow=From-Botnet-V50-3-TCP-Established-SSL-To-Microsoft-7', 1),\n",
       " ('flow=From-Botnet-V50-9-TCP-HTTP-Google-Net-Established-2', 1),\n",
       " ('flow=From-Botnet-V50-10-TCP-Established-HTTP-Binary-Download-1', 1),\n",
       " ('flow=From-Botnet-V50-10-TCP-Established-HTTP-Binary-Download-Custom-Port-7',\n",
       "  1),\n",
       " ('flow=From-Botnet-V50-2-TCP-Established-HTTP-Ad-4', 1),\n",
       " ('flow=From-Botnet-V50-4-TCP-Established-HTTP-Ad-4', 1),\n",
       " ('flow=From-Botnet-V50-10-TCP-Established-HTTP-Ad-64', 1),\n",
       " ('flow=From-Botnet-V50-2-TCP-Established-HTTP-Ad-53', 1),\n",
       " ('flow=From-Botnet-V50-3-TCP-Established-HTTP-Ad-64', 1),\n",
       " ('flow=From-Botnet-V50-4-TCP-Established-SSL-To-Microsoft-7', 1),\n",
       " ('flow=From-Botnet-V50-10-TCP-Established-HTTP-Ad-63', 1),\n",
       " ('flow=From-Botnet-V50-10-TCP-Established-HTTP-Ad-4', 1),\n",
       " ('flow=From-Botnet-V50-1-TCP-Established-HTTP-Ad-4', 1),\n",
       " ('flow=From-Botnet-V50-1-TCP-Established-HTTP-Binary-Download-8', 1),\n",
       " ('flow=From-Botnet-V50-3-TCP-Established-HTTP-Binary-Download-1', 1),\n",
       " ('flow=From-Botnet-V50-3-TCP-Established-HTTP-Binary-Download-Custom-Port-7',\n",
       "  1),\n",
       " ('flow=From-Botnet-V50-2-TCP-Established-HTTP-Binary-Download-Custom-Port-5',\n",
       "  1),\n",
       " ('flow=From-Botnet-V50-2-TCP-Established-HTTP-Ad-63', 1),\n",
       " ('flow=From-Botnet-V50-6-TCP-Established-HTTP-Binary-Download-Custom-Port-5',\n",
       "  1),\n",
       " ('flow=From-Botnet-V50-9-TCP-CC7-Custom-Encryption', 1),\n",
       " ('flow=From-Botnet-V50-3-UDP-Custom-Encryption-1', 1),\n",
       " ('flow=From-Botnet-V50-3-TCP-Established-HTTP-Ad-4', 1),\n",
       " ('flow=From-Botnet-V50-3-TCP-Established-HTTP-To-Microsoft-1', 1),\n",
       " ('flow=From-Botnet-V50-3-TCP-Established-HTTP-To-Microsoft-2', 1),\n",
       " ('flow=From-Botnet-V50-3-TCP-Established-HTTP-Adobe-4', 1),\n",
       " ('flow=From-Botnet-V50-6-TCP-CC7-Custom-Encryption', 1),\n",
       " ('flow=From-Botnet-V50-6-UDP-Custom-Encryption-1', 1),\n",
       " ('flow=From-Botnet-V50-5-TCP-Established-Custom-Encryption-8', 1),\n",
       " ('flow=From-Botnet-V50-7-TCP-Established-HTTP-Binary-Download-1', 1),\n",
       " ('flow=From-Botnet-V50-4-TCP-Established-HTTP-Binary-Download-Custom-Port-5',\n",
       "  1),\n",
       " ('flow=From-Botnet-V50-7-TCP-Established-HTTP-Binary-Download-Custom-Port-7',\n",
       "  1),\n",
       " ('flow=From-Botnet-V50-1-TCP-HTTP-Not-Encrypted-Down-2', 1),\n",
       " ('flow=From-Botnet-V50-3-TCP-Established-Custom-Encryption-8', 1),\n",
       " ('flow=From-Botnet-V50-9-TCP-Established-HTTP-Ad-11', 1),\n",
       " ('flow=From-Botnet-V50-10-TCP-HTTP-Not-Encrypted-Down-3', 1),\n",
       " ('flow=From-Botnet-V50-1-TCP-Established-HTTP-Ad-30', 1),\n",
       " ('flow=From-Botnet-V50-9-TCP-Established-HTTP-Ad-5', 1),\n",
       " ('flow=From-Botnet-V50-7-TCP-Established-HTTP-Ad-4', 1),\n",
       " ('flow=From-Botnet-V50-8-TCP-HTTP-Not-Encrypted-Down-2', 1),\n",
       " ('flow=From-Botnet-V50-9-TCP-Established-HTTP-Ad-52', 1),\n",
       " ('flow=From-Botnet-V50-8-TCP-Established-SSL-To-Microsoft-7', 1),\n",
       " ('flow=From-Botnet-V50-7-TCP-HTTP-Google-Net-Established-2', 1),\n",
       " ('flow=From-Botnet-V50-1-TCP-CC13-Custom-Encryption', 1),\n",
       " ('flow=From-Botnet-V50-4-TCP-Established-HTTP-Ad-51', 1),\n",
       " ('flow=From-Botnet-V50-4-TCP-Established-HTTP-Ad-23', 1),\n",
       " ('flow=From-Botnet-V50-8-UDP-Attempt', 1),\n",
       " ('flow=From-Botnet-V50-1-TCP-Established-HTTP-Binary-Download-1', 1),\n",
       " ('flow=From-Botnet-V50-1-TCP-Established-HTTP-Binary-Download-Custom-Port-7',\n",
       "  1),\n",
       " ('flow=From-Botnet-V50-1-TCP-Established-HTTP-Ad-64', 1),\n",
       " ('flow=From-Botnet-V50-1-UDP-Custom-Encryption-1', 1),\n",
       " ('flow=From-Botnet-V50-9-TCP-Established-HTTP-Binary-Download-1', 1),\n",
       " ('flow=From-Botnet-V50-9-TCP-Established-HTTP-Binary-Download-Custom-Port-7',\n",
       "  1),\n",
       " ('flow=From-Botnet-V50-9-TCP-Established-HTTP-Ad-64', 1),\n",
       " ('flow=From-Botnet-V50-9-TCP-Established-HTTP-Ad-51', 1),\n",
       " ('flow=From-Botnet-V50-5-TCP-Established-SSL-To-Microsoft-7', 1),\n",
       " ('flow=From-Botnet-V50-9-TCP-HTTP-Not-Encrypted-Down-1', 1),\n",
       " ('flow=From-Botnet-V50-8-TCP-Established-HTTP-To-Microsoft-5', 1),\n",
       " ('flow=From-Botnet-V50-6-TCP-Established-HTTP-To-Microsoft-Live-2', 1),\n",
       " ('flow=From-Botnet-V50-4-TCP-HTTP-Not-Encrypted-Down-2', 1),\n",
       " ('flow=From-Botnet-V50-4-UDP-Custom-Encryption-1', 1),\n",
       " ('flow=From-Botnet-V50-5-TCP-Established-HTTP-Binary-Download-1', 1),\n",
       " ('flow=From-Botnet-V50-5-TCP-Established-HTTP-Binary-Download-Custom-Port-7',\n",
       "  1),\n",
       " ('flow=From-Botnet-V50-5-TCP-Established-HTTP-Ad-64', 1),\n",
       " ('flow=From-Botnet-V50-7-TCP-Established-HTTP-Ad-63', 1),\n",
       " ('flow=From-Botnet-V50-5-UDP-Custom-Encryption-1', 1),\n",
       " ('flow=From-Botnet-V50-4-TCP-Established', 1),\n",
       " ('flow=From-Botnet-V50-7-TCP-Established-HTTP-Ad-60', 1),\n",
       " ('flow=From-Botnet-V50-2-TCP-Established-HTTP-To-Microsoft-Live-2', 1),\n",
       " ('flow=From-Botnet-V50-8-TCP-Established-HTTP-To-Microsoft-Live-2', 1),\n",
       " ('flow=From-Botnet-V50-6-TCP-Established-HTTP-Ad-52', 1),\n",
       " ('flow=From-Botnet-V50-7-ICMP', 1),\n",
       " ('flow=From-Botnet-V50-10-TCP-Established-HTTP-Ad-52', 1),\n",
       " ('flow=From-Botnet-V50-6-TCP-HTTP-Not-Encrypted-Down-2', 1),\n",
       " ('flow=From-Botnet-V50-1-TCP-HTTP-Not-Encrypted-Down-3', 1),\n",
       " ('flow=From-Botnet-V50-2-TCP-Established-HTTP-Ad-59', 1),\n",
       " ('flow=From-Botnet-V50-3-TCP-HTTP-Not-Encrypted-Down-1', 1),\n",
       " ('flow=From-Botnet-V50-6-TCP-Established-SSL-To-Microsoft-1', 1),\n",
       " ('flow=From-Botnet-V50-5-TCP-Established', 1),\n",
       " ('flow=From-Botnet-V50-9-TCP-HTTP-Not-Encrypted-Down-2', 1)]"
      ]
     },
     "execution_count": 145,
     "metadata": {},
     "output_type": "execute_result"
    }
   ],
   "source": [
    "list(zip(neris3[neris3[\"Label\"].str.contains(\"Botnet\")][\"Label\"].value_counts().index.tolist(), neris3[neris3[\"Label\"].str.contains(\"Botnet\")][\"Label\"].value_counts().values.tolist()))"
   ]
  },
  {
   "cell_type": "code",
   "execution_count": 146,
   "metadata": {},
   "outputs": [
    {
     "data": {
      "text/plain": [
       "864"
      ]
     },
     "execution_count": 146,
     "metadata": {},
     "output_type": "execute_result"
    }
   ],
   "source": [
    "len(list(zip(neris3[neris3[\"Label\"].str.contains(\"Botnet\")][\"Label\"].value_counts().index.tolist(), neris3[neris3[\"Label\"].str.contains(\"Botnet\")][\"Label\"].value_counts().values.tolist())))"
   ]
  },
  {
   "cell_type": "code",
   "execution_count": 3,
   "metadata": {},
   "outputs": [],
   "source": [
    "neris3[\"Category\"] = \"Other\""
   ]
  },
  {
   "cell_type": "code",
   "execution_count": 4,
   "metadata": {},
   "outputs": [],
   "source": [
    "neris3.loc[neris3[(neris3[\"Label\"] == \"flow=From-Normal-V50-Stribrek\") | (neris3[\"Label\"] == \"flow=From-Normal-V50-Grill\") | (neris3[\"Label\"] == \"flow=From-Normal-V50-Jist\")].index, \"Category\"] = \"Normal_Host_Traffic\""
   ]
  },
  {
   "cell_type": "markdown",
   "metadata": {},
   "source": [
    "## UDP FLOOD"
   ]
  },
  {
   "cell_type": "code",
   "execution_count": 5,
   "metadata": {},
   "outputs": [],
   "source": [
    "neris3.loc[neris3[(neris3[\"Label\"].str.contains(\"UDP-DNS\")) & (neris3[\"Label\"].str.contains(\"Botnet\"))].index, \"Category\"] = \"MAL_UDP_FLOOD\""
   ]
  },
  {
   "cell_type": "code",
   "execution_count": 6,
   "metadata": {},
   "outputs": [],
   "source": [
    "neris3.loc[neris3[(neris3[\"Label\"].str.contains(\"Background\")) & (neris3[\"Label\"].str.contains(\"UDP-CVUT-DNS-Server\"))].index, \"Category\"] = \"BG_UDP_DNS\""
   ]
  },
  {
   "cell_type": "code",
   "execution_count": 7,
   "metadata": {},
   "outputs": [
    {
     "data": {
      "text/plain": [
       "Category\n",
       "Other                  1168744\n",
       "BG_UDP_DNS              781402\n",
       "MAL_UDP_FLOOD           107705\n",
       "Normal_Host_Traffic      29657\n",
       "Name: count, dtype: int64"
      ]
     },
     "execution_count": 7,
     "metadata": {},
     "output_type": "execute_result"
    }
   ],
   "source": [
    "neris3[\"Category\"].value_counts()"
   ]
  },
  {
   "cell_type": "markdown",
   "metadata": {},
   "source": [
    "## TCP Attempts"
   ]
  },
  {
   "cell_type": "code",
   "execution_count": 8,
   "metadata": {},
   "outputs": [],
   "source": [
    "neris3.loc[neris3[(neris3[\"Label\"].str.contains(\"TCP-Attempt\")) & (neris3[\"Label\"].str.contains(\"Botnet\"))].index, \"Category\"] = \"MAL_TCP_ATTEMPT\""
   ]
  },
  {
   "cell_type": "code",
   "execution_count": 9,
   "metadata": {},
   "outputs": [],
   "source": [
    "neris3.loc[neris3[(neris3[\"Label\"].str.contains(\"Background\")) & (neris3[\"Label\"].str.contains(\"TCP-Attempt\"))].index, \"Category\"] = \"BG_TCP_ATTEMPT\""
   ]
  },
  {
   "cell_type": "markdown",
   "metadata": {},
   "source": [
    "## SMTP"
   ]
  },
  {
   "cell_type": "code",
   "execution_count": 10,
   "metadata": {},
   "outputs": [],
   "source": [
    "neris3.loc[neris3[(neris3[\"Label\"].str.contains(\"SMTP\")) & (neris3[\"Label\"].str.contains(\"Botnet\"))].index, \"Category\"] = \"MAL_SMTP\""
   ]
  },
  {
   "cell_type": "markdown",
   "metadata": {},
   "source": [
    "## TCP Established"
   ]
  },
  {
   "cell_type": "code",
   "execution_count": 11,
   "metadata": {},
   "outputs": [],
   "source": [
    "neris3.loc[neris3[~(neris3[\"Label\"].str.contains(\"UDP\")) & (neris3[\"Label\"].str.contains(\"Established\")) & (neris3[\"Label\"].str.contains(\"Botnet\"))].index, \"Category\"] = \"MAL_TCP_ESTABLISHED\""
   ]
  },
  {
   "cell_type": "code",
   "execution_count": 12,
   "metadata": {},
   "outputs": [],
   "source": [
    "neris3.loc[neris3[(neris3[\"Label\"] == \"flow=Background-TCP-Established\")].index, \"Category\"] = \"BG_TCP_ESTABLISHED\""
   ]
  },
  {
   "cell_type": "markdown",
   "metadata": {},
   "source": [
    "## CC"
   ]
  },
  {
   "cell_type": "code",
   "execution_count": 13,
   "metadata": {},
   "outputs": [],
   "source": [
    "neris3.loc[neris3[(neris3[\"Label\"].str.contains(\"CC\")) & (neris3[\"Label\"].str.contains(\"Botnet\"))].index, \"Category\"] = \"MAL_CC\""
   ]
  },
  {
   "cell_type": "code",
   "execution_count": 14,
   "metadata": {},
   "outputs": [
    {
     "data": {
      "text/plain": [
       "Category\n",
       "MAL_UDP_FLOOD          107705\n",
       "MAL_TCP_ATTEMPT         57141\n",
       "MAL_TCP_ESTABLISHED     12913\n",
       "MAL_SMTP                 4087\n",
       "MAL_CC                   2973\n",
       "Name: count, dtype: int64"
      ]
     },
     "execution_count": 14,
     "metadata": {},
     "output_type": "execute_result"
    }
   ],
   "source": [
    "neris3[neris3[\"Category\"].str.contains(\"MAL\")][\"Category\"].value_counts()"
   ]
  },
  {
   "cell_type": "code",
   "execution_count": null,
   "metadata": {},
   "outputs": [],
   "source": [
    "neris3.to_csv(root_path + \"/9/neris3_labelled.csv\", index=False)"
   ]
  }
 ],
 "metadata": {
  "interpreter": {
   "hash": "c3f05cff548d27ba543faa078c5eb2301136486ed3656c5f899e784307e6258e"
  },
  "kernelspec": {
   "display_name": "Python 3.9.9 64-bit ('data-science': venv)",
   "language": "python",
   "name": "python3"
  },
  "language_info": {
   "codemirror_mode": {
    "name": "ipython",
    "version": 3
   },
   "file_extension": ".py",
   "mimetype": "text/x-python",
   "name": "python",
   "nbconvert_exporter": "python",
   "pygments_lexer": "ipython3",
   "version": "3.9.9"
  },
  "orig_nbformat": 4
 },
 "nbformat": 4,
 "nbformat_minor": 2
}
