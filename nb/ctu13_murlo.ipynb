{
 "cells": [
  {
   "cell_type": "code",
   "execution_count": 1,
   "metadata": {},
   "outputs": [],
   "source": [
    "import pandas as pd"
   ]
  },
  {
   "cell_type": "markdown",
   "metadata": {},
   "source": [
    "# Murlo 1 (Scenario 8)"
   ]
  },
  {
   "cell_type": "code",
   "execution_count": 2,
   "metadata": {},
   "outputs": [],
   "source": [
    "root_path = \"\" # Root to CTU-13 dataset"
   ]
  },
  {
   "cell_type": "code",
   "execution_count": 3,
   "metadata": {},
   "outputs": [],
   "source": [
    "murlo = pd.read_csv(root_path + \"/8/capture20110816-3.binetflow\")"
   ]
  },
  {
   "cell_type": "code",
   "execution_count": 4,
   "metadata": {},
   "outputs": [
    {
     "data": {
      "text/plain": [
       "Label\n",
       "flow=To-Background-UDP-CVUT-DNS-Server    1331472\n",
       "flow=Background-UDP-Established            875967\n",
       "flow=Background-TCP-Established            316366\n",
       "flow=Background-Established-cmpgw-CVUT     106864\n",
       "flow=Background-UDP-Attempt                 70708\n",
       "flow=Background                             60003\n",
       "flow=Background-TCP-Attempt                 56007\n",
       "flow=To-Background-CVUT-Proxy               23886\n",
       "flow=Background-Attempt-cmpgw-CVUT           8030\n",
       "flow=To-Background-CVUT-WebServer            7235\n",
       "Name: count, dtype: int64"
      ]
     },
     "execution_count": 4,
     "metadata": {},
     "output_type": "execute_result"
    }
   ],
   "source": [
    "murlo[murlo[\"Label\"].str.contains(\"Background\")][\"Label\"].value_counts().head(10)"
   ]
  },
  {
   "cell_type": "code",
   "execution_count": 5,
   "metadata": {},
   "outputs": [
    {
     "data": {
      "text/plain": [
       "Label\n",
       "flow=From-Normal-V49-Stribrek               48588\n",
       "flow=From-Normal-V49-Grill                  18164\n",
       "flow=From-Normal-V49-Jist                    5463\n",
       "flow=From-Normal-V49-CVUT-WebServer           359\n",
       "flow=To-Normal-V49-UDP-NTP-server             182\n",
       "flow=From-Normal-V49-UDP-CVUT-DNS-Server       46\n",
       "flow=From-Normal-V49-MatLab-Server             19\n",
       "flow=Normal-V49-HTTP-windowsupdate              1\n",
       "Name: count, dtype: int64"
      ]
     },
     "execution_count": 5,
     "metadata": {},
     "output_type": "execute_result"
    }
   ],
   "source": [
    "murlo[murlo[\"Label\"].str.contains(\"Normal\")][\"Label\"].value_counts().head(10)"
   ]
  },
  {
   "cell_type": "code",
   "execution_count": 6,
   "metadata": {},
   "outputs": [
    {
     "data": {
      "text/plain": [
       "Label\n",
       "flow=From-Botnet-V49-TCP-Attempt                                                4710\n",
       "flow=From-Botnet-V49-TCP-CC74-HTTP-Custom-Port-Not-Encrypted                    1057\n",
       "flow=From-Botnet-V49-UDP-Established-Custom-Encryption-1                         127\n",
       "flow=From-Botnet-V49-UDP-Established-Custom-Encryption-2                          94\n",
       "flow=From-Botnet-V49-UDP-DNS                                                      69\n",
       "flow=From-Botnet-V49-TCP-WEB-Established                                          22\n",
       "flow=From-Botnet-V49-UDP-Established                                              19\n",
       "flow=From-Botnet-V49-TCP-CC75-HTTP-Custom-Port-Not-Encrypted-Non-Periodic         16\n",
       "flow=From-Botnet-V49-TCP-Established-HTTP-Ad-40                                    3\n",
       "flow=From-Botnet-V49-UDP-Attempt                                                   3\n",
       "flow=From-Botnet-V49-TCP-Established-HTTP-Binary-Download-11                       2\n",
       "flow=From-Botnet-V49-TCP-HTTP-Google-Net-Established-6                             1\n",
       "flow=From-Botnet-V49-TCP-Established                                               1\n",
       "flow=From-Botnet-V49-TCP-CC76-HTTP-Custom-Port-Not-Encrypted-Binary-Download       1\n",
       "flow=From-Botnet-V49-TCP-Established-HTTP-Ad-62                                    1\n",
       "flow=From-Botnet-V49-ICMP                                                          1\n",
       "Name: count, dtype: int64"
      ]
     },
     "execution_count": 6,
     "metadata": {},
     "output_type": "execute_result"
    }
   ],
   "source": [
    "murlo[murlo[\"Label\"].str.contains(\"Botnet\")][\"Label\"].value_counts().head(50)"
   ]
  },
  {
   "cell_type": "code",
   "execution_count": 7,
   "metadata": {},
   "outputs": [],
   "source": [
    "murlo[\"Category\"] = \"Other\""
   ]
  },
  {
   "cell_type": "code",
   "execution_count": 8,
   "metadata": {},
   "outputs": [],
   "source": [
    "murlo.loc[murlo[(murlo[\"Label\"] == \"flow=From-Normal-V49-Stribrek\") | (murlo[\"Label\"] == \"flow=From-Normal-V49-Grill\") | (murlo[\"Label\"] == \"flow=From-Normal-V49-Jist\") | (murlo[\"Label\"] == \"flow=From-Normal-V49-CVUT-WebServer\")].index, \"Category\"] = \"Normal_Host_Traffic\""
   ]
  },
  {
   "cell_type": "markdown",
   "metadata": {},
   "source": [
    "### TCP Attempt"
   ]
  },
  {
   "cell_type": "code",
   "execution_count": 9,
   "metadata": {},
   "outputs": [],
   "source": [
    "murlo.loc[murlo[murlo[\"Label\"] == \"flow=From-Botnet-V49-TCP-Attempt\"].index, \"Category\"] = \"MAL_TCP_ATTEMPT\""
   ]
  },
  {
   "cell_type": "code",
   "execution_count": 10,
   "metadata": {},
   "outputs": [],
   "source": [
    "murlo.loc[murlo[murlo[\"Label\"] == \"flow=Background-TCP-Attempt\"].index, \"Category\"] = \"BG_TCP_ATTEMPT\""
   ]
  },
  {
   "cell_type": "markdown",
   "metadata": {},
   "source": [
    "### CC"
   ]
  },
  {
   "cell_type": "code",
   "execution_count": 11,
   "metadata": {},
   "outputs": [],
   "source": [
    "murlo.loc[murlo[murlo[\"Label\"].str.contains(\"CC\")].index, \"Category\"] = \"MAL_CC\""
   ]
  },
  {
   "cell_type": "markdown",
   "metadata": {},
   "source": [
    "### UDP"
   ]
  },
  {
   "cell_type": "code",
   "execution_count": 12,
   "metadata": {},
   "outputs": [],
   "source": [
    "murlo.loc[murlo[(murlo[\"Label\"].str.contains(\"Botnet\")) & (murlo[\"Label\"].str.contains(\"UDP\"))].index, \"Category\"] = \"MAL_UDP_ESTABLISHED\""
   ]
  },
  {
   "cell_type": "code",
   "execution_count": 13,
   "metadata": {},
   "outputs": [],
   "source": [
    "murlo.loc[murlo[(murlo[\"Label\"].str.contains(\"flow=Background-UDP-Established\"))].index, \"Category\"] = \"BG_UDP_ESTABLISHED\""
   ]
  },
  {
   "cell_type": "code",
   "execution_count": 14,
   "metadata": {},
   "outputs": [
    {
     "data": {
      "text/plain": [
       "Category\n",
       "MAL_TCP_ATTEMPT        4710\n",
       "MAL_CC                 1074\n",
       "MAL_UDP_ESTABLISHED     312\n",
       "Other                    31\n",
       "Name: count, dtype: int64"
      ]
     },
     "execution_count": 14,
     "metadata": {},
     "output_type": "execute_result"
    }
   ],
   "source": [
    "murlo[murlo[\"Label\"].str.contains(\"Botnet\")][\"Category\"].value_counts()"
   ]
  },
  {
   "cell_type": "code",
   "execution_count": 18,
   "metadata": {},
   "outputs": [
    {
     "data": {
      "text/plain": [
       "TotBytes\n",
       "272    107\n",
       "331     21\n",
       "390     10\n",
       "326      6\n",
       "458      3\n",
       "Name: count, dtype: int64"
      ]
     },
     "execution_count": 18,
     "metadata": {},
     "output_type": "execute_result"
    }
   ],
   "source": [
    "murlo[murlo[\"Category\"] == \"MAL_UDP_ESTABLISHED\"][\"TotBytes\"].value_counts().head()"
   ]
  },
  {
   "cell_type": "code",
   "execution_count": 20,
   "metadata": {},
   "outputs": [
    {
     "data": {
      "text/plain": [
       "TotBytes\n",
       "134    33622\n",
       "135    28810\n",
       "133    28791\n",
       "128    27094\n",
       "136    21180\n",
       "268    19672\n",
       "266    18218\n",
       "132    16805\n",
       "270    15237\n",
       "137    14292\n",
       "264    10848\n",
       "272    10450\n",
       "138     8595\n",
       "274     6131\n",
       "514     5906\n",
       "Name: count, dtype: int64"
      ]
     },
     "execution_count": 20,
     "metadata": {},
     "output_type": "execute_result"
    }
   ],
   "source": [
    "murlo[murlo[\"Category\"] == \"BG_UDP_ESTABLISHED\"][\"TotBytes\"].value_counts().head(15)"
   ]
  },
  {
   "cell_type": "code",
   "execution_count": 39,
   "metadata": {},
   "outputs": [],
   "source": [
    "murlo.to_csv(root_path + \"/8/murlo1_labelled.csv\", index=False)"
   ]
  }
 ],
 "metadata": {
  "interpreter": {
   "hash": "c3f05cff548d27ba543faa078c5eb2301136486ed3656c5f899e784307e6258e"
  },
  "kernelspec": {
   "display_name": "Python 3.9.9 64-bit ('data-science': venv)",
   "language": "python",
   "name": "python3"
  },
  "language_info": {
   "codemirror_mode": {
    "name": "ipython",
    "version": 3
   },
   "file_extension": ".py",
   "mimetype": "text/x-python",
   "name": "python",
   "nbconvert_exporter": "python",
   "pygments_lexer": "ipython3",
   "version": "3.9.9"
  },
  "orig_nbformat": 4
 },
 "nbformat": 4,
 "nbformat_minor": 2
}
