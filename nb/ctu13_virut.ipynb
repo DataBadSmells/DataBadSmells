{
 "cells": [
  {
   "cell_type": "code",
   "execution_count": 1,
   "metadata": {},
   "outputs": [],
   "source": [
    "import pandas as pd"
   ]
  },
  {
   "cell_type": "markdown",
   "metadata": {},
   "source": [
    "# Virut"
   ]
  },
  {
   "cell_type": "code",
   "execution_count": 2,
   "metadata": {},
   "outputs": [],
   "source": [
    "root_path = \"\" # Root to CTU-13 dataset"
   ]
  },
  {
   "cell_type": "markdown",
   "metadata": {},
   "source": [
    "## Virut 1 (Scenario 5)"
   ]
  },
  {
   "cell_type": "code",
   "execution_count": 3,
   "metadata": {},
   "outputs": [],
   "source": [
    "virut1 = pd.read_csv(root_path + \"/5/capture20110815-2.binetflow\")"
   ]
  },
  {
   "cell_type": "code",
   "execution_count": 4,
   "metadata": {},
   "outputs": [
    {
     "data": {
      "text/plain": [
       "Label\n",
       "flow=To-Background-UDP-CVUT-DNS-Server    50817\n",
       "flow=Background-UDP-Established           37203\n",
       "flow=Background-TCP-Established           15156\n",
       "flow=Background-Established-cmpgw-CVUT     9331\n",
       "flow=Background                            3426\n",
       "flow=Background-UDP-Attempt                2893\n",
       "flow=Background-TCP-Attempt                1847\n",
       "flow=To-Background-CVUT-Proxy              1340\n",
       "flow=Background-Attempt-cmpgw-CVUT          470\n",
       "flow=Background-UDP-NTP-Established-1       317\n",
       "Name: count, dtype: int64"
      ]
     },
     "execution_count": 4,
     "metadata": {},
     "output_type": "execute_result"
    }
   ],
   "source": [
    "virut1[virut1[\"Label\"].str.contains(\"Background\")][\"Label\"].value_counts().head(10)"
   ]
  },
  {
   "cell_type": "code",
   "execution_count": 5,
   "metadata": {},
   "outputs": [
    {
     "data": {
      "text/plain": [
       "Label\n",
       "flow=From-Normal-V46-Stribrek               1810\n",
       "flow=From-Normal-V46-Grill                  1722\n",
       "flow=From-Normal-V46-Jist                   1107\n",
       "flow=From-Normal-V46-CVUT-WebServer           14\n",
       "flow=To-Normal-V46-UDP-NTP-server             11\n",
       "flow=Normal-V46-HTTP-windowsupdate             8\n",
       "flow=From-Normal-V46-UDP-CVUT-DNS-Server       5\n",
       "flow=From-Normal-V46-MatLab-Server             2\n",
       "Name: count, dtype: int64"
      ]
     },
     "execution_count": 5,
     "metadata": {},
     "output_type": "execute_result"
    }
   ],
   "source": [
    "virut1[virut1[\"Label\"].str.contains(\"Normal\")][\"Label\"].value_counts().head(10)"
   ]
  },
  {
   "cell_type": "code",
   "execution_count": 6,
   "metadata": {},
   "outputs": [
    {
     "data": {
      "text/plain": [
       "Label\n",
       "flow=From-Botnet-V46-TCP-Attempt                                 422\n",
       "flow=From-Botnet-V46-TCP-Not-Encrypted-SMTP-Private-Proxy-1      181\n",
       "flow=From-Botnet-V46-UDP-DNS                                      49\n",
       "flow=From-Botnet-V46-TCP-Established-HTTP-To-Microsoft-6          21\n",
       "flow=From-Botnet-V46-TCP-Attempt-SPAM                             19\n",
       "flow=From-Botnet-V46-TCP-Established-SPAM                         19\n",
       "flow=From-Botnet-V46-TCP-Established-Custom-Encryption-1          17\n",
       "flow=From-Botnet-V46-TCP-HTTP-Google-Net-Established-2            17\n",
       "flow=From-Botnet-V46-TCP-Established-SSL-To-Microsoft-6           16\n",
       "flow=From-Botnet-V46-TCP-Established-SSL-To-Microsoft-7           13\n",
       "flow=From-Botnet-V46-TCP-Established-HTTP-Ad-46                   13\n",
       "flow=From-Botnet-V46-TCP-CC12-HTTP-Not-Encrypted                  11\n",
       "flow=From-Botnet-V46-TCP-Established-HTTP-To-Microsoft-7          10\n",
       "flow=From-Botnet-V46-TCP-WEB-Established-SSL                      10\n",
       "flow=From-Botnet-V46-TCP-Established-HTTP-To-Microsoft-5           9\n",
       "flow=From-Botnet-V46-TCP-Established-HTTP-To-Microsoft-4           9\n",
       "flow=From-Botnet-V46-TCP-CC5-Plain-HTTP-Encrypted-Data             7\n",
       "flow=From-Botnet-V46-TCP-Established-HTTP-To-Microsoft-Live-1      7\n",
       "flow=From-Botnet-V46-TCP-Established-HTTP-To-Microsoft-Live-3      7\n",
       "flow=From-Botnet-V46-TCP-Established-HTTP-To-Microsoft-Live-2      6\n",
       "Name: count, dtype: int64"
      ]
     },
     "execution_count": 6,
     "metadata": {},
     "output_type": "execute_result"
    }
   ],
   "source": [
    "virut1[virut1[\"Label\"].str.contains(\"Botnet\")][\"Label\"].value_counts().head(20)"
   ]
  },
  {
   "cell_type": "code",
   "execution_count": 7,
   "metadata": {},
   "outputs": [],
   "source": [
    "virut1[\"Category\"] = \"Other\"\n",
    "virut1.loc[virut1[(virut1[\"Label\"] == \"flow=From-Normal-V46-Stribrek\") | (virut1[\"Label\"] == \"flow=From-Normal-V46-Grill\") | (virut1[\"Label\"] == \"flow=From-Normal-V46-Jist\") | (virut1[\"Label\"] == \"flow=From-Normal-V46-CVUT-WebServer\")].index, \"Category\"] = \"Normal_Host_Traffic\""
   ]
  },
  {
   "cell_type": "markdown",
   "metadata": {},
   "source": [
    "### TCP Attempt"
   ]
  },
  {
   "cell_type": "code",
   "execution_count": 8,
   "metadata": {},
   "outputs": [],
   "source": [
    "virut1.loc[virut1[(virut1[\"Label\"].str.contains(\"TCP-Attempt\")) & (virut1[\"Label\"].str.contains(\"Botnet\"))].index, \"Category\"] = \"MAL_TCP_ATTEMPT\""
   ]
  },
  {
   "cell_type": "code",
   "execution_count": 9,
   "metadata": {},
   "outputs": [],
   "source": [
    "virut1.loc[virut1[virut1[\"Label\"] == \"flow=Background-TCP-Attempt\"].index, \"Category\"] = \"BG_TCP_ATTEMPT\""
   ]
  },
  {
   "cell_type": "markdown",
   "metadata": {},
   "source": [
    "### SMTP"
   ]
  },
  {
   "cell_type": "code",
   "execution_count": 10,
   "metadata": {},
   "outputs": [],
   "source": [
    "virut1.loc[virut1[virut1[\"Label\"] == \"flow=From-Botnet-V46-TCP-Not-Encrypted-SMTP-Private-Proxy-1\"].index, \"Category\"] = \"MAL_SMTP\" # flow=From-Botnet-V46-TCP-Not-Encrypted-SMTP-Private-Proxy-1"
   ]
  },
  {
   "cell_type": "markdown",
   "metadata": {},
   "source": [
    "### TCP Established"
   ]
  },
  {
   "cell_type": "code",
   "execution_count": 11,
   "metadata": {},
   "outputs": [],
   "source": [
    "virut1.loc[virut1[(virut1[\"Label\"].str.contains(\"TCP\")) & (virut1[\"Label\"].str.contains(\"Botnet\")) & (virut1[\"Label\"].str.contains(\"Established\"))].index, \"Category\"] = \"MAL_TCP_ESTABLISHED\""
   ]
  },
  {
   "cell_type": "code",
   "execution_count": 12,
   "metadata": {},
   "outputs": [],
   "source": [
    "virut1.loc[virut1[virut1[\"Label\"] == \"flow=Background-TCP-Established\"].index, \"Category\"] = \"BG_TCP_ESTABLISHED\""
   ]
  },
  {
   "cell_type": "markdown",
   "metadata": {},
   "source": [
    "### CC"
   ]
  },
  {
   "cell_type": "code",
   "execution_count": 13,
   "metadata": {},
   "outputs": [],
   "source": [
    "virut1.loc[virut1[(virut1[\"Label\"].str.contains(\"CC\")) & (virut1[\"Label\"].str.contains(\"Botnet\"))].index, \"Category\"] = \"MAL_CC\""
   ]
  },
  {
   "cell_type": "code",
   "execution_count": 14,
   "metadata": {},
   "outputs": [
    {
     "data": {
      "text/plain": [
       "Category           \n",
       "MAL_TCP_ATTEMPT        441\n",
       "MAL_TCP_ESTABLISHED    203\n",
       "MAL_SMTP               181\n",
       "Other                   52\n",
       "MAL_CC                  24\n",
       "Name: count, dtype: int64"
      ]
     },
     "execution_count": 14,
     "metadata": {},
     "output_type": "execute_result"
    }
   ],
   "source": [
    "virut1[(virut1[\"Label\"].str.contains(\"Botnet\"))][[\"Category\"]].value_counts()"
   ]
  },
  {
   "cell_type": "code",
   "execution_count": 15,
   "metadata": {},
   "outputs": [],
   "source": [
    "virut1.to_csv(root_path + \"/5/virut1_labelled.csv\", index=False)"
   ]
  },
  {
   "cell_type": "markdown",
   "metadata": {},
   "source": [
    "## Virut 2 (Scenario 13)"
   ]
  },
  {
   "cell_type": "code",
   "execution_count": 16,
   "metadata": {},
   "outputs": [],
   "source": [
    "virut2 = pd.read_csv(root_path + \"/13/capture20110815-3.binetflow\")"
   ]
  },
  {
   "cell_type": "code",
   "execution_count": 17,
   "metadata": {},
   "outputs": [
    {
     "data": {
      "text/plain": [
       "Label\n",
       "flow=To-Background-UDP-CVUT-DNS-Server    756280\n",
       "flow=Background-UDP-Established           676312\n",
       "flow=Background-TCP-Established           218726\n",
       "flow=Background                            46357\n",
       "flow=Background-Established-cmpgw-CVUT     43440\n",
       "flow=Background-UDP-Attempt                42431\n",
       "flow=Background-TCP-Attempt                39183\n",
       "flow=To-Background-CVUT-Proxy               8041\n",
       "flow=To-Background-CVUT-WebServer           6692\n",
       "flow=Background-UDP-NTP-Established-1       5822\n",
       "Name: count, dtype: int64"
      ]
     },
     "execution_count": 17,
     "metadata": {},
     "output_type": "execute_result"
    }
   ],
   "source": [
    "virut2[virut2[\"Label\"].str.contains(\"Background\")][\"Label\"].value_counts().head(10)"
   ]
  },
  {
   "cell_type": "code",
   "execution_count": 18,
   "metadata": {},
   "outputs": [
    {
     "data": {
      "text/plain": [
       "Label\n",
       "flow=From-Normal-V54-Stribrek               26846\n",
       "flow=From-Normal-V54-Grill                   3539\n",
       "flow=From-Normal-V54-Jist                     948\n",
       "flow=From-Normal-V54-CVUT-WebServer           422\n",
       "flow=To-Normal-V54-UDP-NTP-server             152\n",
       "flow=From-Normal-V54-MatLab-Server             18\n",
       "flow=Normal-V54-HTTP-windowsupdate              8\n",
       "flow=From-Normal-V54-UDP-CVUT-DNS-Server        6\n",
       "Name: count, dtype: int64"
      ]
     },
     "execution_count": 18,
     "metadata": {},
     "output_type": "execute_result"
    }
   ],
   "source": [
    "virut2[virut2[\"Label\"].str.contains(\"Normal\")][\"Label\"].value_counts().head(10)"
   ]
  },
  {
   "cell_type": "code",
   "execution_count": 19,
   "metadata": {},
   "outputs": [
    {
     "data": {
      "text/plain": [
       "Label\n",
       "flow=From-Botnet-V54-TCP-Attempt                               22463\n",
       "flow=From-Botnet-V54-UDP-DNS                                    7523\n",
       "flow=From-Botnet-V54-TCP-Attempt-SPAM                           6617\n",
       "flow=From-Botnet-V54-TCP-Not-Encrypted-SMTP-Private-Proxy-1      665\n",
       "flow=From-Botnet-V54-TCP-WEB-Established                         528\n",
       "flow=From-Botnet-V54-TCP-CC16-HTTP-Not-Encrypted                 391\n",
       "flow=From-Botnet-V54-TCP-Established-HTTP-Ad-30                  281\n",
       "flow=From-Botnet-V54-TCP-WEB-Established-SSL                     239\n",
       "flow=From-Botnet-V54-TCP-Established-HTTP-Ad-1                   160\n",
       "flow=From-Botnet-V54-TCP-Established-SPAM                        140\n",
       "flow=From-Botnet-V54-TCP-Established-HTTP-Ad-37                   91\n",
       "flow=From-Botnet-V54-TCP-Established-HTTP-Ad-10                   64\n",
       "flow=From-Botnet-V54-TCP-Established-HTTP-Ad-yieldmanager-9       59\n",
       "flow=From-Botnet-V54-TCP-Established-HTTP-Ad-40                   56\n",
       "flow=From-Botnet-V54-TCP-Established-HTTP-Ad-32                   53\n",
       "flow=From-Botnet-V54-TCP-CC12-HTTP-Not-Encrypted                  50\n",
       "flow=From-Botnet-V54-TCP-CC1-HTTP-Not-Encrypted                   47\n",
       "flow=From-Botnet-V54-TCP-Established-HTTP-Ad-21                   46\n",
       "flow=From-Botnet-V54-TCP-Established-HTTP-Ad-25                   36\n",
       "flow=From-Botnet-V54-TCP-Established-HTTP-Ad-55                   35\n",
       "Name: count, dtype: int64"
      ]
     },
     "execution_count": 19,
     "metadata": {},
     "output_type": "execute_result"
    }
   ],
   "source": [
    "virut2[virut2[\"Label\"].str.contains(\"Botnet\")][\"Label\"].value_counts().head(20)"
   ]
  },
  {
   "cell_type": "code",
   "execution_count": 20,
   "metadata": {},
   "outputs": [],
   "source": [
    "virut2[\"Category\"] = \"Other\"\n",
    "virut2.loc[virut2[(virut2[\"Label\"] == \"flow=From-Normal-V54-Stribrek\") | (virut2[\"Label\"] == \"flow=From-Normal-V54-Grill\") | (virut2[\"Label\"] == \"flow=From-Normal-V54-Jist\") | (virut2[\"Label\"] == \"flow=From-Normal-V54-CVUT-WebServer\")].index, \"Category\"] = \"Normal_Host_Traffic\""
   ]
  },
  {
   "cell_type": "markdown",
   "metadata": {},
   "source": [
    "### TCP Attempt"
   ]
  },
  {
   "cell_type": "code",
   "execution_count": 21,
   "metadata": {},
   "outputs": [],
   "source": [
    "virut2.loc[virut2[(virut2[\"Label\"].str.contains(\"TCP-Attempt\")) & (virut2[\"Label\"].str.contains(\"Botnet\"))].index, \"Category\"] = \"MAL_TCP_ATTEMPT\""
   ]
  },
  {
   "cell_type": "code",
   "execution_count": 22,
   "metadata": {},
   "outputs": [],
   "source": [
    "virut2.loc[virut2[virut2[\"Label\"] == \"flow=Background-TCP-Attempt\"].index, \"Category\"] = \"BG_TCP_ATTEMPT\""
   ]
  },
  {
   "cell_type": "markdown",
   "metadata": {},
   "source": [
    "### SMTP"
   ]
  },
  {
   "cell_type": "code",
   "execution_count": 23,
   "metadata": {},
   "outputs": [],
   "source": [
    "virut2.loc[virut2[virut2[\"Label\"] == \"flow=From-Botnet-V54-TCP-Not-Encrypted-SMTP-Private-Proxy-1\"].index, \"Category\"] = \"MAL_SMTP\" # flow=From-Botnet-V46-TCP-Not-Encrypted-SMTP-Private-Proxy-1"
   ]
  },
  {
   "cell_type": "markdown",
   "metadata": {},
   "source": [
    "### TCP Established"
   ]
  },
  {
   "cell_type": "code",
   "execution_count": 24,
   "metadata": {},
   "outputs": [],
   "source": [
    "virut2.loc[virut2[(virut2[\"Label\"].str.contains(\"TCP\")) & (virut2[\"Label\"].str.contains(\"Botnet\")) & (virut2[\"Label\"].str.contains(\"Established\"))].index, \"Category\"] = \"MAL_TCP_ESTABLISHED\""
   ]
  },
  {
   "cell_type": "code",
   "execution_count": 25,
   "metadata": {},
   "outputs": [],
   "source": [
    "virut2.loc[virut2[virut2[\"Label\"] == \"flow=Background-TCP-Established\"].index, \"Category\"] = \"BG_TCP_ESTABLISHED\""
   ]
  },
  {
   "cell_type": "markdown",
   "metadata": {},
   "source": [
    "### CC"
   ]
  },
  {
   "cell_type": "code",
   "execution_count": 26,
   "metadata": {},
   "outputs": [],
   "source": [
    "virut2.loc[virut2[(virut2[\"Label\"].str.contains(\"CC\")) & (virut2[\"Label\"].str.contains(\"Botnet\"))].index, \"Category\"] = \"MAL_CC\""
   ]
  },
  {
   "cell_type": "markdown",
   "metadata": {},
   "source": [
    "### UDP DNS"
   ]
  },
  {
   "cell_type": "code",
   "execution_count": 27,
   "metadata": {},
   "outputs": [],
   "source": [
    "virut2.loc[virut2[virut2[\"Label\"] == \"flow=From-Botnet-V54-UDP-DNS\"].index, \"Category\"] = \"MAL_UDP_DNS\""
   ]
  },
  {
   "cell_type": "code",
   "execution_count": 28,
   "metadata": {},
   "outputs": [],
   "source": [
    "virut2.loc[virut2[virut2[\"Label\"] == \"flow=To-Background-UDP-CVUT-DNS-Server\"].index, \"Category\"] = \"BG_UDP_DNS\" # flow=To-Background-UDP-CVUT-DNS-Server"
   ]
  },
  {
   "cell_type": "code",
   "execution_count": 29,
   "metadata": {},
   "outputs": [
    {
     "data": {
      "text/plain": [
       "Category           \n",
       "MAL_TCP_ATTEMPT        29080\n",
       "MAL_UDP_DNS             7523\n",
       "MAL_TCP_ESTABLISHED     2189\n",
       "MAL_SMTP                 665\n",
       "MAL_CC                   536\n",
       "Other                     10\n",
       "Name: count, dtype: int64"
      ]
     },
     "execution_count": 29,
     "metadata": {},
     "output_type": "execute_result"
    }
   ],
   "source": [
    "virut2[(virut2[\"Label\"].str.contains(\"Botnet\"))][[\"Category\"]].value_counts().head(20)"
   ]
  },
  {
   "cell_type": "code",
   "execution_count": 30,
   "metadata": {},
   "outputs": [],
   "source": [
    "virut2.to_csv(root_path + \"/13/virut2_labelled.csv\", index=False)"
   ]
  },
  {
   "cell_type": "code",
   "execution_count": null,
   "metadata": {},
   "outputs": [],
   "source": []
  },
  {
   "cell_type": "code",
   "execution_count": null,
   "metadata": {},
   "outputs": [],
   "source": []
  }
 ],
 "metadata": {
  "interpreter": {
   "hash": "c3f05cff548d27ba543faa078c5eb2301136486ed3656c5f899e784307e6258e"
  },
  "kernelspec": {
   "display_name": "Python 3.9.9 64-bit ('data-science': venv)",
   "language": "python",
   "name": "python3"
  },
  "language_info": {
   "codemirror_mode": {
    "name": "ipython",
    "version": 3
   },
   "file_extension": ".py",
   "mimetype": "text/x-python",
   "name": "python",
   "nbconvert_exporter": "python",
   "pygments_lexer": "ipython3",
   "version": "3.9.9"
  },
  "orig_nbformat": 4
 },
 "nbformat": 4,
 "nbformat_minor": 2
}
