{
 "cells": [
  {
   "cell_type": "code",
   "execution_count": 1,
   "metadata": {},
   "outputs": [],
   "source": [
    "import pandas as pd"
   ]
  },
  {
   "cell_type": "markdown",
   "metadata": {},
   "source": [
    "# Donbot 1 (Scenario 6)"
   ]
  },
  {
   "cell_type": "code",
   "execution_count": 2,
   "metadata": {},
   "outputs": [],
   "source": [
    "root_path = \"\" # Root to CTU-13 dataset"
   ]
  },
  {
   "cell_type": "code",
   "execution_count": 3,
   "metadata": {},
   "outputs": [],
   "source": [
    "donbot = pd.read_csv(root_path + \"/6/capture20110816.binetflow\")"
   ]
  },
  {
   "cell_type": "code",
   "execution_count": 4,
   "metadata": {},
   "outputs": [
    {
     "data": {
      "text/plain": [
       "Label\n",
       "flow=To-Background-UDP-CVUT-DNS-Server    261525\n",
       "flow=Background-UDP-Established           128117\n",
       "flow=Background-TCP-Established            66424\n",
       "flow=Background-Established-cmpgw-CVUT     40960\n",
       "flow=Background-UDP-Attempt                14608\n",
       "flow=Background                            11632\n",
       "flow=To-Background-CVUT-Proxy               8444\n",
       "flow=Background-TCP-Attempt                 4179\n",
       "flow=Background-Attempt-cmpgw-CVUT          3616\n",
       "flow=To-Background-CVUT-WebServer           1034\n",
       "Name: count, dtype: int64"
      ]
     },
     "execution_count": 4,
     "metadata": {},
     "output_type": "execute_result"
    }
   ],
   "source": [
    "donbot[donbot[\"Label\"].str.contains(\"Background\")][\"Label\"].value_counts().head(10)"
   ]
  },
  {
   "cell_type": "code",
   "execution_count": 5,
   "metadata": {},
   "outputs": [
    {
     "data": {
      "text/plain": [
       "Label\n",
       "flow=From-Normal-V47-Stribrek               5488\n",
       "flow=From-Normal-V47-Grill                  1245\n",
       "flow=From-Normal-V47-Jist                    682\n",
       "flow=From-Normal-V47-CVUT-WebServer           34\n",
       "flow=To-Normal-V47-UDP-NTP-server             22\n",
       "flow=From-Normal-V47-UDP-CVUT-DNS-Server      20\n",
       "flow=From-Normal-V47-MatLab-Server             2\n",
       "flow=Normal-V47-HTTP-windowsupdate             1\n",
       "Name: count, dtype: int64"
      ]
     },
     "execution_count": 5,
     "metadata": {},
     "output_type": "execute_result"
    }
   ],
   "source": [
    "donbot[donbot[\"Label\"].str.contains(\"Normal\")][\"Label\"].value_counts().head(10)"
   ]
  },
  {
   "cell_type": "code",
   "execution_count": 6,
   "metadata": {},
   "outputs": [
    {
     "data": {
      "text/plain": [
       "Label\n",
       "flow=From-Botnet-V47-TCP-Attempt-SPAM              4398\n",
       "flow=From-Botnet-V47-TCP-CC73-Not-Encrypted         199\n",
       "flow=From-Botnet-V47-UDP-DNS                         29\n",
       "flow=From-Botnet-V47-TCP-Established-HTTP-Ad-4        1\n",
       "flow=From-Botnet-V47-TCP-Established-HTTP-Ad-62       1\n",
       "flow=From-Botnet-V47-TCP-Attempt                      1\n",
       "flow=From-Botnet-V47-UDP-Attempt                      1\n",
       "Name: count, dtype: int64"
      ]
     },
     "execution_count": 6,
     "metadata": {},
     "output_type": "execute_result"
    }
   ],
   "source": [
    "donbot[donbot[\"Label\"].str.contains(\"Botnet\")][\"Label\"].value_counts().head(20)"
   ]
  },
  {
   "cell_type": "code",
   "execution_count": 7,
   "metadata": {},
   "outputs": [],
   "source": [
    "donbot[\"Category\"] = \"Other\""
   ]
  },
  {
   "cell_type": "code",
   "execution_count": 8,
   "metadata": {},
   "outputs": [],
   "source": [
    "donbot.loc[donbot[(donbot[\"Label\"] == \"flow=From-Normal-V47-Stribrek\") | (donbot[\"Label\"] == \"flow=From-Normal-V47-Grill\") | (donbot[\"Label\"] == \"flow=From-Normal-V47-Jist\") | (donbot[\"Label\"] == \"flow=From-Normal-V47-CVUT-WebServer\")].index, \"Category\"] = \"Normal_Host_Traffic\""
   ]
  },
  {
   "cell_type": "markdown",
   "metadata": {},
   "source": [
    "### TCP Attempt"
   ]
  },
  {
   "cell_type": "code",
   "execution_count": 9,
   "metadata": {},
   "outputs": [],
   "source": [
    "donbot.loc[donbot[donbot[\"Label\"] == \"flow=From-Botnet-V47-TCP-Attempt-SPAM\"].index, \"Category\"] = \"MAL_TCP_ATTEMPT\""
   ]
  },
  {
   "cell_type": "code",
   "execution_count": 10,
   "metadata": {},
   "outputs": [],
   "source": [
    "donbot.loc[donbot[donbot[\"Label\"] == \"flow=Background-TCP-Attempt\"].index, \"Category\"] = \"BG_TCP_ATTEMPT\""
   ]
  },
  {
   "cell_type": "markdown",
   "metadata": {},
   "source": [
    "### CC Traffic"
   ]
  },
  {
   "cell_type": "code",
   "execution_count": 11,
   "metadata": {},
   "outputs": [],
   "source": [
    "donbot.loc[donbot[donbot[\"Label\"] == \"flow=From-Botnet-V47-TCP-CC73-Not-Encrypted\"].index, \"Category\"] = \"MAL_CC\""
   ]
  },
  {
   "cell_type": "code",
   "execution_count": 12,
   "metadata": {},
   "outputs": [
    {
     "data": {
      "text/plain": [
       "Category\n",
       "MAL_TCP_ATTEMPT    4398\n",
       "MAL_CC              199\n",
       "Other                33\n",
       "Name: count, dtype: int64"
      ]
     },
     "execution_count": 12,
     "metadata": {},
     "output_type": "execute_result"
    }
   ],
   "source": [
    "donbot[donbot[\"Label\"].str.contains(\"Botnet\")][\"Category\"].value_counts()"
   ]
  },
  {
   "cell_type": "code",
   "execution_count": 55,
   "metadata": {},
   "outputs": [],
   "source": [
    "donbot.to_csv(root_path + \"/6/donbot1_labelled.csv\", index=False)"
   ]
  }
 ],
 "metadata": {
  "interpreter": {
   "hash": "c3f05cff548d27ba543faa078c5eb2301136486ed3656c5f899e784307e6258e"
  },
  "kernelspec": {
   "display_name": "Python 3.9.9 64-bit ('data-science': venv)",
   "language": "python",
   "name": "python3"
  },
  "language_info": {
   "codemirror_mode": {
    "name": "ipython",
    "version": 3
   },
   "file_extension": ".py",
   "mimetype": "text/x-python",
   "name": "python",
   "nbconvert_exporter": "python",
   "pygments_lexer": "ipython3",
   "version": "3.9.9"
  },
  "orig_nbformat": 4
 },
 "nbformat": 4,
 "nbformat_minor": 2
}
