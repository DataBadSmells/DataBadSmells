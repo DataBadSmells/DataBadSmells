{
 "cells": [
  {
   "cell_type": "code",
   "execution_count": 37,
   "metadata": {},
   "outputs": [],
   "source": [
    "import pandas as pd"
   ]
  },
  {
   "cell_type": "markdown",
   "metadata": {},
   "source": [
    "# NSIS 1 (Scenario 12)"
   ]
  },
  {
   "cell_type": "code",
   "execution_count": 38,
   "metadata": {},
   "outputs": [],
   "source": [
    "root_path = \"\" # Root to CTU-13 dataset"
   ]
  },
  {
   "cell_type": "code",
   "execution_count": 39,
   "metadata": {},
   "outputs": [],
   "source": [
    "nsis = pd.read_csv(root_path + \"/12/capture20110819.binetflow\")"
   ]
  },
  {
   "cell_type": "code",
   "execution_count": 40,
   "metadata": {},
   "outputs": [
    {
     "data": {
      "text/plain": [
       "Label\n",
       "flow=To-Background-UDP-CVUT-DNS-Server    128739\n",
       "flow=Background-UDP-Established            83642\n",
       "flow=Background-TCP-Established            40199\n",
       "flow=Background-Established-cmpgw-CVUT     25653\n",
       "flow=Background-Attempt-cmpgw-CVUT         15376\n",
       "flow=Background-UDP-Attempt                 6481\n",
       "flow=Background                             6458\n",
       "flow=To-Background-CVUT-Proxy               4517\n",
       "flow=Background-TCP-Attempt                 2670\n",
       "flow=To-Background-CVUT-WebServer            773\n",
       "Name: count, dtype: int64"
      ]
     },
     "execution_count": 40,
     "metadata": {},
     "output_type": "execute_result"
    }
   ],
   "source": [
    "nsis[nsis[\"Label\"].str.contains(\"Background\")][\"Label\"].value_counts().head(10)"
   ]
  },
  {
   "cell_type": "code",
   "execution_count": 41,
   "metadata": {},
   "outputs": [
    {
     "data": {
      "text/plain": [
       "Label\n",
       "flow=From-Normal-V53-Stribrek               4359\n",
       "flow=From-Normal-V53-Jist                   2145\n",
       "flow=From-Normal-V53-Grill                  1075\n",
       "flow=From-Normal-V53-CVUT-WebServer           32\n",
       "flow=To-Normal-V53-UDP-NTP-server             13\n",
       "flow=From-Normal-V53-UDP-CVUT-DNS-Server       3\n",
       "flow=From-Normal-V53-MatLab-Server             1\n",
       "Name: count, dtype: int64"
      ]
     },
     "execution_count": 41,
     "metadata": {},
     "output_type": "execute_result"
    }
   ],
   "source": [
    "nsis[nsis[\"Label\"].str.contains(\"Normal\")][\"Label\"].value_counts().head(10)"
   ]
  },
  {
   "cell_type": "code",
   "execution_count": 42,
   "metadata": {},
   "outputs": [
    {
     "data": {
      "text/plain": [
       "Label\n",
       "flow=From-Botnet-V51-1-UDP-Established                              362\n",
       "flow=From-Botnet-V51-2-UDP-Attempt                                  292\n",
       "flow=From-Botnet-V51-2-UDP-Established                              277\n",
       "flow=From-Botnet-V51-1-UDP-Attempt                                  249\n",
       "flow=From-Botnet-V51-3-UDP-Established                              194\n",
       "flow=From-Botnet-V51-3-UDP-Attempt                                  182\n",
       "flow=From-Botnet-V51-2-TCP-WEB-Established                          118\n",
       "flow=From-Botnet-V51-3-TCP-WEB-Established                          115\n",
       "flow=From-Botnet-V51-1-TCP-WEB-Established                          105\n",
       "flow=From-Botnet-V51-2-UDP-DNS                                       70\n",
       "flow=From-Botnet-V51-3-UDP-DNS                                       70\n",
       "flow=From-Botnet-V51-1-UDP-DNS                                       67\n",
       "flow=From-Botnet-V51-1-UDP-CC108-Established-P2P-Not-Encrypted-1     17\n",
       "flow=From-Botnet-V51-1-ICMP                                          16\n",
       "flow=From-Botnet-V51-3-UDP-CC108-Established-P2P-Not-Encrypted-1      4\n",
       "flow=From-Botnet-V51-2-UDP-CC108-Established-P2P-Not-Encrypted-1      4\n",
       "flow=From-Botnet-V51-1-TCP-HTTP-Google-Net-Established-6              3\n",
       "flow=From-Botnet-V51-2-TCP-Attempt                                    3\n",
       "flow=From-Botnet-V51-2-TCP-HTTP-Google-Net-Established-6              3\n",
       "flow=From-Botnet-V51-3-TCP-HTTP-Google-Net-Established-6              3\n",
       "flow=From-Botnet-V51-3-TCP-Attempt                                    2\n",
       "flow=From-Botnet-V51-3-TCP-Established-HTTP-Ad-62                     2\n",
       "flow=From-Botnet-V51-1-TCP-Established-HTTP-Ad-48                     1\n",
       "flow=From-Botnet-V51-1-UDP-Attempt-DNS                                1\n",
       "flow=From-Botnet-V51-1-TCP-Attempt                                    1\n",
       "flow=From-Botnet-V51-1-TCP-Established                                1\n",
       "flow=From-Botnet-V51-2-UDP-Attempt-DNS                                1\n",
       "flow=From-Botnet-V51-2-TCP-Established                                1\n",
       "flow=From-Botnet-V51-3-UDP-Attempt-DNS                                1\n",
       "flow=From-Botnet-V51-3-TCP-Established                                1\n",
       "flow=From-Botnet-V51-2-TCP-Established-HTTP-Ad-62                     1\n",
       "flow=From-Botnet-V51-1-TCP-Established-HTTP-Ad-62                     1\n",
       "Name: count, dtype: int64"
      ]
     },
     "execution_count": 42,
     "metadata": {},
     "output_type": "execute_result"
    }
   ],
   "source": [
    "nsis[nsis[\"Label\"].str.contains(\"Botnet\")][\"Label\"].value_counts().head(40)"
   ]
  },
  {
   "cell_type": "code",
   "execution_count": 43,
   "metadata": {},
   "outputs": [],
   "source": [
    "nsis[\"Category\"] = \"Other\""
   ]
  },
  {
   "cell_type": "code",
   "execution_count": 44,
   "metadata": {},
   "outputs": [],
   "source": [
    "nsis.loc[nsis[(nsis[\"Label\"] == \"flow=From-Normal-V53-Stribrek\") | (nsis[\"Label\"] == \"flow=From-Normal-V53-Grill\") | (nsis[\"Label\"] == \"flow=From-Normal-V53-Jist\") | (nsis[\"Label\"] == \"flow=From-Normal-V53-CVUT-WebServer\")].index, \"Category\"] = \"Normal_Host_Traffic\""
   ]
  },
  {
   "cell_type": "markdown",
   "metadata": {},
   "source": [
    "### UDP ESTABLISHED"
   ]
  },
  {
   "cell_type": "code",
   "execution_count": 45,
   "metadata": {},
   "outputs": [],
   "source": [
    "nsis.loc[nsis[(nsis[\"Label\"].str.contains(\"Botnet\")) & (nsis[\"Label\"].str.contains(\"UDP\")) & (nsis[\"Label\"].str.contains(\"Established\"))].index, \"Category\"] = \"MAL_UDP_ESTABLISHED\""
   ]
  },
  {
   "cell_type": "code",
   "execution_count": 46,
   "metadata": {},
   "outputs": [],
   "source": [
    "nsis.loc[nsis[(nsis[\"Label\"].str.contains(\"Background\")) & (nsis[\"Label\"].str.contains(\"UDP-Established\"))].index, \"Category\"] = \"BG_UDP_ESTABLISHED\""
   ]
  },
  {
   "cell_type": "markdown",
   "metadata": {},
   "source": [
    "### UDP Attempt"
   ]
  },
  {
   "cell_type": "code",
   "execution_count": 47,
   "metadata": {},
   "outputs": [],
   "source": [
    "nsis.loc[nsis[(nsis[\"Label\"].str.contains(\"Botnet\")) & (nsis[\"Label\"].str.contains(\"UDP-Attempt\"))].index, \"Category\"] = \"MAL_UDP_ATTEMPT\""
   ]
  },
  {
   "cell_type": "code",
   "execution_count": 48,
   "metadata": {},
   "outputs": [],
   "source": [
    "nsis.loc[nsis[(nsis[\"Label\"].str.contains(\"Background\")) & (nsis[\"Label\"].str.contains(\"UDP-Attempt\"))].index, \"Category\"] = \"BG_UDP_ATTEMPT\""
   ]
  },
  {
   "cell_type": "markdown",
   "metadata": {},
   "source": [
    "### TCP Web Established"
   ]
  },
  {
   "cell_type": "code",
   "execution_count": 49,
   "metadata": {},
   "outputs": [],
   "source": [
    "nsis.loc[nsis[(nsis[\"Label\"].str.contains(\"Botnet\")) & (nsis[\"Label\"].str.contains(\"TCP-WEB-Established\"))].index, \"Category\"] = \"MAL_TCP_ESTABLISHED\""
   ]
  },
  {
   "cell_type": "code",
   "execution_count": 50,
   "metadata": {},
   "outputs": [],
   "source": [
    "nsis.loc[nsis[(nsis[\"Label\"].str.contains(\"flow=Background-TCP-Established\"))].index, \"Category\"] = \"BG_TCP_ESTABLISHED\""
   ]
  },
  {
   "cell_type": "markdown",
   "metadata": {},
   "source": [
    "### UDP DNS"
   ]
  },
  {
   "cell_type": "code",
   "execution_count": 51,
   "metadata": {},
   "outputs": [],
   "source": [
    "nsis.loc[nsis[(nsis[\"Label\"].str.contains(\"Botnet\")) & (nsis[\"Label\"].str.contains(\"UDP-DNS\"))].index, \"Category\"] = \"MAL_UDP_DNS\""
   ]
  },
  {
   "cell_type": "code",
   "execution_count": 52,
   "metadata": {},
   "outputs": [],
   "source": [
    "nsis.loc[nsis[nsis[\"Label\"] == \"flow=To-Background-UDP-CVUT-DNS-Server\"].index, \"Category\"] = \"BG_UDP_DNS\" # flow=To-Background-UDP-CVUT-DNS-Server"
   ]
  },
  {
   "cell_type": "code",
   "execution_count": 53,
   "metadata": {},
   "outputs": [
    {
     "data": {
      "text/plain": [
       "Category\n",
       "MAL_UDP_ESTABLISHED    858\n",
       "MAL_UDP_ATTEMPT        726\n",
       "MAL_TCP_ESTABLISHED    338\n",
       "MAL_UDP_DNS            207\n",
       "Other                   39\n",
       "Name: count, dtype: int64"
      ]
     },
     "execution_count": 53,
     "metadata": {},
     "output_type": "execute_result"
    }
   ],
   "source": [
    "nsis[nsis[\"Label\"].str.contains(\"Botnet\")][\"Category\"].value_counts()"
   ]
  },
  {
   "cell_type": "code",
   "execution_count": 54,
   "metadata": {},
   "outputs": [],
   "source": [
    "nsis.to_csv(root_path + \"/12/nsis1_labelled.csv\", index=False)"
   ]
  }
 ],
 "metadata": {
  "interpreter": {
   "hash": "c3f05cff548d27ba543faa078c5eb2301136486ed3656c5f899e784307e6258e"
  },
  "kernelspec": {
   "display_name": "Python 3.9.9 64-bit ('data-science': venv)",
   "language": "python",
   "name": "python3"
  },
  "language_info": {
   "codemirror_mode": {
    "name": "ipython",
    "version": 3
   },
   "file_extension": ".py",
   "mimetype": "text/x-python",
   "name": "python",
   "nbconvert_exporter": "python",
   "pygments_lexer": "ipython3",
   "version": "3.9.9"
  },
  "orig_nbformat": 4
 },
 "nbformat": 4,
 "nbformat_minor": 2
}
