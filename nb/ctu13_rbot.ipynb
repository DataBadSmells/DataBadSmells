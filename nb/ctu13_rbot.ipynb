{
 "cells": [
  {
   "cell_type": "code",
   "execution_count": 111,
   "metadata": {},
   "outputs": [],
   "source": [
    "import pandas as pd"
   ]
  },
  {
   "cell_type": "markdown",
   "metadata": {},
   "source": [
    "# rbot"
   ]
  },
  {
   "cell_type": "code",
   "execution_count": 112,
   "metadata": {},
   "outputs": [],
   "source": [
    "root_path = \"\" # Root to CTU-13 dataset"
   ]
  },
  {
   "cell_type": "markdown",
   "metadata": {},
   "source": [
    "## rbot Scenario 1"
   ]
  },
  {
   "cell_type": "code",
   "execution_count": 113,
   "metadata": {},
   "outputs": [],
   "source": [
    "rbot1 = pd.read_csv(root_path + \"/3/capture20110812.binetflow\")"
   ]
  },
  {
   "cell_type": "code",
   "execution_count": 114,
   "metadata": {},
   "outputs": [
    {
     "data": {
      "text/plain": [
       "Label\n",
       "flow=To-Background-UDP-CVUT-DNS-Server    2169040\n",
       "flow=Background-UDP-Established            806119\n",
       "flow=Background-TCP-Established            729048\n",
       "flow=Background-TCP-Attempt                408887\n",
       "flow=Background                            156122\n",
       "flow=Background-UDP-Attempt                104089\n",
       "flow=Background-Established-cmpgw-CVUT      85383\n",
       "flow=To-Background-CVUT-WebServer           24271\n",
       "flow=Background-UDP-NTP-Established-1       22345\n",
       "flow=To-Background-CVUT-Proxy               22009\n",
       "Name: count, dtype: int64"
      ]
     },
     "execution_count": 114,
     "metadata": {},
     "output_type": "execute_result"
    }
   ],
   "source": [
    "rbot1[rbot1[\"Label\"].str.contains(\"Background\")][\"Label\"].value_counts().head(10)"
   ]
  },
  {
   "cell_type": "code",
   "execution_count": 115,
   "metadata": {},
   "outputs": [
    {
     "data": {
      "text/plain": [
       "Label\n",
       "flow=From-Normal-V44-Stribrek               108807\n",
       "flow=From-Normal-V44-Grill                    4580\n",
       "flow=From-Normal-V44-CVUT-WebServer           1843\n",
       "flow=From-Normal-V44-Jist                      967\n",
       "flow=To-Normal-V44-UDP-NTP-server              562\n",
       "flow=From-Normal-V44-MatLab-Server              92\n",
       "flow=Normal-V44-HTTP-windowsupdate              22\n",
       "flow=From-Normal-V44-UDP-CVUT-DNS-Server        14\n",
       "Name: count, dtype: int64"
      ]
     },
     "execution_count": 115,
     "metadata": {},
     "output_type": "execute_result"
    }
   ],
   "source": [
    "rbot1[rbot1[\"Label\"].str.contains(\"Normal\")][\"Label\"].value_counts().head(10)"
   ]
  },
  {
   "cell_type": "code",
   "execution_count": 116,
   "metadata": {},
   "outputs": [
    {
     "data": {
      "text/plain": [
       "Label\n",
       "flow=From-Botnet-V44-TCP-Attempt                    26234\n",
       "flow=From-Botnet-V44-TCP-Established                  491\n",
       "flow=From-Botnet-V44-TCP-CC107-IRC-Not-Encrypted       63\n",
       "flow=From-Botnet-V44-ICMP                              21\n",
       "flow=From-Botnet-V44-UDP-DNS                            6\n",
       "flow=From-Botnet-V44-TCP-WEB-Established                4\n",
       "flow=From-Botnet-V44-UDP-Attempt                        3\n",
       "Name: count, dtype: int64"
      ]
     },
     "execution_count": 116,
     "metadata": {},
     "output_type": "execute_result"
    }
   ],
   "source": [
    "rbot1[rbot1[\"Label\"].str.contains(\"Botnet\")][\"Label\"].value_counts()"
   ]
  },
  {
   "cell_type": "code",
   "execution_count": 117,
   "metadata": {},
   "outputs": [],
   "source": [
    "rbot1[\"Category\"] = \"Other\""
   ]
  },
  {
   "cell_type": "code",
   "execution_count": 118,
   "metadata": {},
   "outputs": [],
   "source": [
    "rbot1.loc[rbot1[(rbot1[\"Label\"] == \"flow=From-Normal-V44-Stribrek\") | (rbot1[\"Label\"] == \"flow=From-Normal-V44-Grill\") | (rbot1[\"Label\"] == \"flow=From-Normal-V44-Jist\") | (rbot1[\"Label\"] == \"flow=From-Normal-V44-CVUT-WebServer\")].index, \"Category\"] = \"Normal_Host_Traffic\""
   ]
  },
  {
   "cell_type": "markdown",
   "metadata": {},
   "source": [
    "### NMAP Scan"
   ]
  },
  {
   "cell_type": "code",
   "execution_count": 119,
   "metadata": {},
   "outputs": [],
   "source": [
    "rbot1.loc[rbot1[(rbot1[\"Label\"].str.contains(\"Botnet\")) & (rbot1[\"Label\"].str.contains(\"TCP\")) & ((rbot1[\"Label\"].str.contains(\"Attempt\")) | (rbot1[\"Label\"].str.contains(\"Established\")))].index, \"Category\"] = \"MAL_NMAP\""
   ]
  },
  {
   "cell_type": "code",
   "execution_count": 120,
   "metadata": {},
   "outputs": [
    {
     "data": {
      "text/html": [
       "<div>\n",
       "<style scoped>\n",
       "    .dataframe tbody tr th:only-of-type {\n",
       "        vertical-align: middle;\n",
       "    }\n",
       "\n",
       "    .dataframe tbody tr th {\n",
       "        vertical-align: top;\n",
       "    }\n",
       "\n",
       "    .dataframe thead th {\n",
       "        text-align: right;\n",
       "    }\n",
       "</style>\n",
       "<table border=\"1\" class=\"dataframe\">\n",
       "  <thead>\n",
       "    <tr style=\"text-align: right;\">\n",
       "      <th></th>\n",
       "      <th>StartTime</th>\n",
       "      <th>Dur</th>\n",
       "      <th>Proto</th>\n",
       "      <th>SrcAddr</th>\n",
       "      <th>Sport</th>\n",
       "      <th>Dir</th>\n",
       "      <th>DstAddr</th>\n",
       "      <th>Dport</th>\n",
       "      <th>State</th>\n",
       "      <th>sTos</th>\n",
       "      <th>dTos</th>\n",
       "      <th>TotPkts</th>\n",
       "      <th>TotBytes</th>\n",
       "      <th>SrcBytes</th>\n",
       "      <th>Label</th>\n",
       "      <th>Category</th>\n",
       "    </tr>\n",
       "  </thead>\n",
       "  <tbody>\n",
       "    <tr>\n",
       "      <th>181710</th>\n",
       "      <td>2011/08/12 16:59:13.581498</td>\n",
       "      <td>10.362481</td>\n",
       "      <td>tcp</td>\n",
       "      <td>147.32.84.165</td>\n",
       "      <td>1046</td>\n",
       "      <td>-&gt;</td>\n",
       "      <td>74.207.254.18</td>\n",
       "      <td>80</td>\n",
       "      <td>SPA_FSPA</td>\n",
       "      <td>0.0</td>\n",
       "      <td>0.0</td>\n",
       "      <td>9</td>\n",
       "      <td>1118</td>\n",
       "      <td>385</td>\n",
       "      <td>flow=From-Botnet-V44-TCP-WEB-Established</td>\n",
       "      <td>MAL_NMAP</td>\n",
       "    </tr>\n",
       "    <tr>\n",
       "      <th>181717</th>\n",
       "      <td>2011/08/12 16:59:14.036630</td>\n",
       "      <td>0.525087</td>\n",
       "      <td>tcp</td>\n",
       "      <td>147.32.84.165</td>\n",
       "      <td>1047</td>\n",
       "      <td>-&gt;</td>\n",
       "      <td>74.207.254.18</td>\n",
       "      <td>80</td>\n",
       "      <td>SRPA_SPA</td>\n",
       "      <td>0.0</td>\n",
       "      <td>0.0</td>\n",
       "      <td>38</td>\n",
       "      <td>27127</td>\n",
       "      <td>1185</td>\n",
       "      <td>flow=From-Botnet-V44-TCP-WEB-Established</td>\n",
       "      <td>MAL_NMAP</td>\n",
       "    </tr>\n",
       "    <tr>\n",
       "      <th>1415589</th>\n",
       "      <td>2011/08/13 15:04:26.955072</td>\n",
       "      <td>60.003593</td>\n",
       "      <td>tcp</td>\n",
       "      <td>147.32.84.165</td>\n",
       "      <td>1089</td>\n",
       "      <td>-&gt;</td>\n",
       "      <td>95.100.248.24</td>\n",
       "      <td>80</td>\n",
       "      <td>SRPA_SPA</td>\n",
       "      <td>0.0</td>\n",
       "      <td>0.0</td>\n",
       "      <td>8</td>\n",
       "      <td>1687</td>\n",
       "      <td>500</td>\n",
       "      <td>flow=From-Botnet-V44-TCP-WEB-Established</td>\n",
       "      <td>MAL_NMAP</td>\n",
       "    </tr>\n",
       "    <tr>\n",
       "      <th>1750045</th>\n",
       "      <td>2011/08/13 21:57:31.700855</td>\n",
       "      <td>6.009782</td>\n",
       "      <td>tcp</td>\n",
       "      <td>147.32.84.165</td>\n",
       "      <td>2198</td>\n",
       "      <td>-&gt;</td>\n",
       "      <td>124.146.227.237</td>\n",
       "      <td>22</td>\n",
       "      <td>S_R</td>\n",
       "      <td>0.0</td>\n",
       "      <td>0.0</td>\n",
       "      <td>3</td>\n",
       "      <td>184</td>\n",
       "      <td>124</td>\n",
       "      <td>flow=From-Botnet-V44-TCP-Attempt</td>\n",
       "      <td>MAL_NMAP</td>\n",
       "    </tr>\n",
       "    <tr>\n",
       "      <th>1771627</th>\n",
       "      <td>2011/08/13 21:26:57.704069</td>\n",
       "      <td>8.857798</td>\n",
       "      <td>tcp</td>\n",
       "      <td>147.32.84.165</td>\n",
       "      <td>1102</td>\n",
       "      <td>-&gt;</td>\n",
       "      <td>124.146.223.165</td>\n",
       "      <td>22</td>\n",
       "      <td>S_</td>\n",
       "      <td>0.0</td>\n",
       "      <td>NaN</td>\n",
       "      <td>3</td>\n",
       "      <td>186</td>\n",
       "      <td>186</td>\n",
       "      <td>flow=From-Botnet-V44-TCP-Attempt</td>\n",
       "      <td>MAL_NMAP</td>\n",
       "    </tr>\n",
       "  </tbody>\n",
       "</table>\n",
       "</div>"
      ],
      "text/plain": [
       "                          StartTime        Dur Proto        SrcAddr Sport  \\\n",
       "181710   2011/08/12 16:59:13.581498  10.362481   tcp  147.32.84.165  1046   \n",
       "181717   2011/08/12 16:59:14.036630   0.525087   tcp  147.32.84.165  1047   \n",
       "1415589  2011/08/13 15:04:26.955072  60.003593   tcp  147.32.84.165  1089   \n",
       "1750045  2011/08/13 21:57:31.700855   6.009782   tcp  147.32.84.165  2198   \n",
       "1771627  2011/08/13 21:26:57.704069   8.857798   tcp  147.32.84.165  1102   \n",
       "\n",
       "           Dir          DstAddr Dport     State  sTos  dTos  TotPkts  \\\n",
       "181710      ->    74.207.254.18    80  SPA_FSPA   0.0   0.0        9   \n",
       "181717      ->    74.207.254.18    80  SRPA_SPA   0.0   0.0       38   \n",
       "1415589     ->    95.100.248.24    80  SRPA_SPA   0.0   0.0        8   \n",
       "1750045     ->  124.146.227.237    22       S_R   0.0   0.0        3   \n",
       "1771627     ->  124.146.223.165    22        S_   0.0   NaN        3   \n",
       "\n",
       "         TotBytes  SrcBytes                                     Label  \\\n",
       "181710       1118       385  flow=From-Botnet-V44-TCP-WEB-Established   \n",
       "181717      27127      1185  flow=From-Botnet-V44-TCP-WEB-Established   \n",
       "1415589      1687       500  flow=From-Botnet-V44-TCP-WEB-Established   \n",
       "1750045       184       124          flow=From-Botnet-V44-TCP-Attempt   \n",
       "1771627       186       186          flow=From-Botnet-V44-TCP-Attempt   \n",
       "\n",
       "         Category  \n",
       "181710   MAL_NMAP  \n",
       "181717   MAL_NMAP  \n",
       "1415589  MAL_NMAP  \n",
       "1750045  MAL_NMAP  \n",
       "1771627  MAL_NMAP  "
      ]
     },
     "execution_count": 120,
     "metadata": {},
     "output_type": "execute_result"
    }
   ],
   "source": [
    "rbot1[rbot1[\"Category\"] == \"MAL_NMAP\"].head(5)"
   ]
  },
  {
   "cell_type": "code",
   "execution_count": 121,
   "metadata": {},
   "outputs": [],
   "source": [
    "rbot1.loc[rbot1[(rbot1[\"Label\"] == \"flow=Background-TCP-Attempt\") & (rbot1[\"Dur\"] > 8) & (rbot1[\"Dur\"] < 10) & (rbot1[\"TotBytes\"] == 186)].index, \"Category\"] = \"BG_MAYBE_NMAP\""
   ]
  },
  {
   "cell_type": "code",
   "execution_count": 123,
   "metadata": {},
   "outputs": [],
   "source": [
    "rbot1.to_csv(root_path + \"/3/rbot1_labelled.csv\", index=False)"
   ]
  },
  {
   "cell_type": "markdown",
   "metadata": {},
   "source": [
    "## rbot Scenario 2"
   ]
  },
  {
   "cell_type": "code",
   "execution_count": 74,
   "metadata": {},
   "outputs": [],
   "source": [
    "rbot2 = pd.read_csv(root_path + \"/4/capture20110815.binetflow\")"
   ]
  },
  {
   "cell_type": "code",
   "execution_count": 75,
   "metadata": {},
   "outputs": [
    {
     "data": {
      "text/plain": [
       "Label\n",
       "flow=To-Background-UDP-CVUT-DNS-Server    483307\n",
       "flow=Background-UDP-Established           246234\n",
       "flow=Background-TCP-Established           138727\n",
       "flow=Background-Established-cmpgw-CVUT     99088\n",
       "flow=Background-UDP-Attempt                38313\n",
       "flow=Background                            33200\n",
       "flow=Background-TCP-Attempt                26449\n",
       "flow=To-Background-CVUT-Proxy              10791\n",
       "flow=Background-Attempt-cmpgw-CVUT          4144\n",
       "flow=To-Background-CVUT-WebServer           1714\n",
       "Name: count, dtype: int64"
      ]
     },
     "execution_count": 75,
     "metadata": {},
     "output_type": "execute_result"
    }
   ],
   "source": [
    "rbot2[rbot2[\"Label\"].str.contains(\"Background\")][\"Label\"].value_counts().head(10)"
   ]
  },
  {
   "cell_type": "code",
   "execution_count": 76,
   "metadata": {},
   "outputs": [
    {
     "data": {
      "text/plain": [
       "Label\n",
       "flow=From-Normal-V45-Stribrek               12133\n",
       "flow=From-Normal-V45-Jist                   10482\n",
       "flow=From-Normal-V45-Grill                   2474\n",
       "flow=From-Normal-V45-CVUT-WebServer            89\n",
       "flow=To-Normal-V45-UDP-NTP-server              49\n",
       "flow=Normal-V45-HTTP-windowsupdate             24\n",
       "flow=From-Normal-V45-UDP-CVUT-DNS-Server       13\n",
       "flow=From-Normal-V45-MatLab-Server              4\n",
       "Name: count, dtype: int64"
      ]
     },
     "execution_count": 76,
     "metadata": {},
     "output_type": "execute_result"
    }
   ],
   "source": [
    "rbot2[rbot2[\"Label\"].str.contains(\"Normal\")][\"Label\"].value_counts().head(10)"
   ]
  },
  {
   "cell_type": "code",
   "execution_count": 77,
   "metadata": {},
   "outputs": [
    {
     "data": {
      "text/plain": [
       "Label\n",
       "flow=From-Botnet-V45-TCP-Attempt-SPAM                     1127\n",
       "flow=From-Botnet-V45-ICMP                                  812\n",
       "flow=From-Botnet-V45-UDP-Attempt                           501\n",
       "flow=From-Botnet-V45-UDP-DNS                                70\n",
       "flow=From-Botnet-V45-TCP-CC73-Not-Encrypted                 47\n",
       "flow=From-Botnet-V45-TCP-HTTP-Google-Net-Established-6       5\n",
       "flow=From-Botnet-V45-TCP-CC106-IRC-Not-Encrypted             5\n",
       "flow=From-Botnet-V45-TCP-Attempt                             3\n",
       "flow=From-Botnet-V45-TCP-Established-HTTP-Ad-40              3\n",
       "flow=From-Botnet-V45-TCP-Established-HTTP-Ad-62              2\n",
       "Name: count, dtype: int64"
      ]
     },
     "execution_count": 77,
     "metadata": {},
     "output_type": "execute_result"
    }
   ],
   "source": [
    "rbot2[rbot2[\"Label\"].str.contains(\"Botnet\")][\"Label\"].value_counts().head(10)"
   ]
  },
  {
   "cell_type": "code",
   "execution_count": 78,
   "metadata": {},
   "outputs": [],
   "source": [
    "rbot2[\"Category\"] = \"Other\""
   ]
  },
  {
   "cell_type": "code",
   "execution_count": 79,
   "metadata": {},
   "outputs": [],
   "source": [
    "rbot2.loc[rbot2[(rbot2[\"Label\"] == \"flow=From-Normal-V45-Stribrek\") | (rbot2[\"Label\"] == \"flow=From-Normal-V45-Grill\") | (rbot2[\"Label\"] == \"flow=From-Normal-V45-Jist\") | (rbot2[\"Label\"] == \"flow=From-Normal-V45-CVUT-WebServer\")].index, \"Category\"] = \"Normal_Host_Traffic\""
   ]
  },
  {
   "cell_type": "markdown",
   "metadata": {},
   "source": [
    "### TCP ATTEMPT SPAM"
   ]
  },
  {
   "cell_type": "code",
   "execution_count": 80,
   "metadata": {},
   "outputs": [],
   "source": [
    "rbot2.loc[rbot2[rbot2[\"Label\"] == \"flow=From-Botnet-V45-TCP-Attempt-SPAM\"].index, \"Category\"] = \"MAL_TCP_ATTEMPT\""
   ]
  },
  {
   "cell_type": "code",
   "execution_count": 81,
   "metadata": {},
   "outputs": [],
   "source": [
    "rbot2.loc[rbot2[(rbot2[\"Label\"].str.contains(\"Background\")) & (rbot2[\"Label\"].str.contains(\"TCP-Attempt\"))].index, \"Category\"] = \"BG_TCP_ATTEMPT\""
   ]
  },
  {
   "cell_type": "code",
   "execution_count": 82,
   "metadata": {},
   "outputs": [
    {
     "data": {
      "text/plain": [
       "Category\n",
       "Other                  1068322\n",
       "BG_TCP_ATTEMPT           26449\n",
       "Normal_Host_Traffic      25178\n",
       "MAL_TCP_ATTEMPT           1127\n",
       "Name: count, dtype: int64"
      ]
     },
     "execution_count": 82,
     "metadata": {},
     "output_type": "execute_result"
    }
   ],
   "source": [
    "rbot2[\"Category\"].value_counts()"
   ]
  },
  {
   "cell_type": "markdown",
   "metadata": {},
   "source": [
    "### ICMP"
   ]
  },
  {
   "cell_type": "code",
   "execution_count": 83,
   "metadata": {},
   "outputs": [],
   "source": [
    "rbot2.loc[rbot2[rbot2[\"Label\"] == \"flow=From-Botnet-V45-ICMP\"].index, \"Category\"] = \"MAL_ICMP\""
   ]
  },
  {
   "cell_type": "markdown",
   "metadata": {},
   "source": [
    "### UDP"
   ]
  },
  {
   "cell_type": "code",
   "execution_count": 84,
   "metadata": {},
   "outputs": [],
   "source": [
    "rbot2.loc[rbot2[rbot2[\"Label\"] == \"flow=From-Botnet-V45-UDP-Attempt\"].index, \"Category\"] = \"MAL_UDP_ATTEMPT\""
   ]
  },
  {
   "cell_type": "code",
   "execution_count": 85,
   "metadata": {},
   "outputs": [],
   "source": [
    "rbot2.loc[rbot2[rbot2[\"Label\"] == \"flow=Background-UDP-Attempt\"].index, \"Category\"] = \"BG_UDP_ATTEMPT\""
   ]
  },
  {
   "cell_type": "markdown",
   "metadata": {},
   "source": [
    "### CC"
   ]
  },
  {
   "cell_type": "code",
   "execution_count": 86,
   "metadata": {},
   "outputs": [],
   "source": [
    "rbot2.loc[rbot2[rbot2[\"Label\"].str.contains(\"CC\")].index, \"Category\"] = \"MAL_CC\""
   ]
  },
  {
   "cell_type": "code",
   "execution_count": 87,
   "metadata": {},
   "outputs": [
    {
     "data": {
      "text/plain": [
       "Category\n",
       "Other                  1028644\n",
       "BG_UDP_ATTEMPT           38313\n",
       "BG_TCP_ATTEMPT           26449\n",
       "Normal_Host_Traffic      25178\n",
       "MAL_TCP_ATTEMPT           1127\n",
       "MAL_ICMP                   812\n",
       "MAL_UDP_ATTEMPT            501\n",
       "MAL_CC                      52\n",
       "Name: count, dtype: int64"
      ]
     },
     "execution_count": 87,
     "metadata": {},
     "output_type": "execute_result"
    }
   ],
   "source": [
    "rbot2[\"Category\"].value_counts()"
   ]
  },
  {
   "cell_type": "code",
   "execution_count": 88,
   "metadata": {},
   "outputs": [],
   "source": [
    "rbot2.to_csv(root_path + \"/4/rbot2_labelled.csv\", index=False)"
   ]
  },
  {
   "cell_type": "markdown",
   "metadata": {},
   "source": [
    "## rbot Scenario 3"
   ]
  },
  {
   "cell_type": "code",
   "execution_count": 89,
   "metadata": {},
   "outputs": [],
   "source": [
    "rbot3 = pd.read_csv(root_path + \"/10/capture20110818.binetflow\")"
   ]
  },
  {
   "cell_type": "code",
   "execution_count": 90,
   "metadata": {},
   "outputs": [
    {
     "data": {
      "text/plain": [
       "Label\n",
       "flow=To-Background-UDP-CVUT-DNS-Server    478151\n",
       "flow=Background-UDP-Established           303963\n",
       "flow=Background-TCP-Established           170192\n",
       "flow=Background-Established-cmpgw-CVUT     93215\n",
       "flow=Background                            31625\n",
       "flow=Background-UDP-Attempt                27089\n",
       "flow=Background-TCP-Attempt                25043\n",
       "flow=Background-Attempt-cmpgw-CVUT         23145\n",
       "flow=To-Background-CVUT-Proxy              21004\n",
       "flow=To-Background-CVUT-WebServer           2291\n",
       "Name: count, dtype: int64"
      ]
     },
     "execution_count": 90,
     "metadata": {},
     "output_type": "execute_result"
    }
   ],
   "source": [
    "rbot3[rbot3[\"Label\"].str.contains(\"Background\")][\"Label\"].value_counts().head(10)"
   ]
  },
  {
   "cell_type": "code",
   "execution_count": 91,
   "metadata": {},
   "outputs": [],
   "source": [
    "rbot3[\"Category\"] = \"Other\""
   ]
  },
  {
   "cell_type": "code",
   "execution_count": 92,
   "metadata": {},
   "outputs": [
    {
     "data": {
      "text/plain": [
       "Label\n",
       "flow=From-Normal-V51-Stribrek               10216\n",
       "flow=From-Normal-V51-Grill                   3728\n",
       "flow=From-Normal-V51-Jist                    1091\n",
       "flow=From-Normal-V51-UDP-CVUT-DNS-Server      667\n",
       "flow=From-Normal-V51-CVUT-WebServer            99\n",
       "flow=To-Normal-V51-UDP-NTP-server              37\n",
       "flow=Normal-V51-HTTP-windowsupdate              5\n",
       "flow=From-Normal-V51-MatLab-Server              4\n",
       "Name: count, dtype: int64"
      ]
     },
     "execution_count": 92,
     "metadata": {},
     "output_type": "execute_result"
    }
   ],
   "source": [
    "rbot3[rbot3[\"Label\"].str.contains(\"Normal\")][\"Label\"].value_counts().head(10)"
   ]
  },
  {
   "cell_type": "code",
   "execution_count": 93,
   "metadata": {},
   "outputs": [
    {
     "data": {
      "text/plain": [
       "Label\n",
       "flow=From-Botnet-V51-6-ICMP                                  11836\n",
       "flow=From-Botnet-V51-7-ICMP                                  11252\n",
       "flow=From-Botnet-V51-5-ICMP                                  11125\n",
       "flow=From-Botnet-V51-9-ICMP                                  11081\n",
       "flow=From-Botnet-V51-8-ICMP                                  10541\n",
       "flow=From-Botnet-V51-2-ICMP                                  10415\n",
       "flow=From-Botnet-V51-3-ICMP                                  10363\n",
       "flow=From-Botnet-V51-4-ICMP                                   9970\n",
       "flow=From-Botnet-V51-10-ICMP                                  9857\n",
       "flow=From-Botnet-V51-1-ICMP                                   9537\n",
       "flow=From-Botnet-V51-1-UDP-DNS                                  18\n",
       "flow=From-Botnet-V51-2-UDP-DNS                                  17\n",
       "flow=From-Botnet-V51-8-UDP-DNS                                  17\n",
       "flow=From-Botnet-V51-10-UDP-DNS                                 16\n",
       "flow=From-Botnet-V51-9-UDP-Attempt                              16\n",
       "flow=From-Botnet-V51-6-UDP-Attempt                              16\n",
       "flow=From-Botnet-V51-4-UDP-DNS                                  15\n",
       "flow=From-Botnet-V51-8-UDP-Attempt                              15\n",
       "flow=From-Botnet-V51-4-UDP-Attempt                              14\n",
       "flow=From-Botnet-V51-5-UDP-DNS                                  14\n",
       "flow=From-Botnet-V51-6-UDP-DNS                                  14\n",
       "flow=From-Botnet-V51-9-UDP-DNS                                  14\n",
       "flow=From-Botnet-V51-7-UDP-DNS                                  14\n",
       "flow=From-Botnet-V51-1-UDP-Attempt                              14\n",
       "flow=From-Botnet-V51-3-UDP-DNS                                  14\n",
       "flow=From-Botnet-V51-2-UDP-Attempt                              13\n",
       "flow=From-Botnet-V51-10-UDP-Attempt                             13\n",
       "flow=From-Botnet-V51-3-UDP-Attempt                              13\n",
       "flow=From-Botnet-V51-7-UDP-Attempt                              13\n",
       "flow=From-Botnet-V51-5-UDP-Attempt                              13\n",
       "flow=From-Botnet-V51-6-TCP-CC106-IRC-Not-Encrypted               4\n",
       "flow=From-Botnet-V51-2-TCP-HTTP-Google-Net-Established-6         4\n",
       "flow=From-Botnet-V51-7-TCP-CC106-IRC-Not-Encrypted               4\n",
       "flow=From-Botnet-V51-10-TCP-CC106-IRC-Not-Encrypted              4\n",
       "flow=From-Botnet-V51-1-TCP-HTTP-Google-Net-Established-6         4\n",
       "flow=From-Botnet-V51-1-TCP-CC106-IRC-Not-Encrypted               4\n",
       "flow=From-Botnet-V51-7-TCP-HTTP-Google-Net-Established-6         3\n",
       "flow=From-Botnet-V51-5-TCP-HTTP-Google-Net-Established-6         3\n",
       "flow=From-Botnet-V51-4-TCP-HTTP-Google-Net-Established-6         3\n",
       "flow=From-Botnet-V51-10-TCP-HTTP-Google-Net-Established-6        3\n",
       "flow=From-Botnet-V51-4-TCP-CC106-IRC-Not-Encrypted               3\n",
       "flow=From-Botnet-V51-3-TCP-HTTP-Google-Net-Established-6         3\n",
       "flow=From-Botnet-V51-9-TCP-HTTP-Google-Net-Established-6         3\n",
       "flow=From-Botnet-V51-6-TCP-HTTP-Google-Net-Established-6         3\n",
       "flow=From-Botnet-V51-4-TCP-Established                           3\n",
       "flow=From-Botnet-V51-3-TCP-CC106-IRC-Not-Encrypted               3\n",
       "flow=From-Botnet-V51-8-TCP-HTTP-Google-Net-Established-6         3\n",
       "flow=From-Botnet-V51-5-TCP-CC106-IRC-Not-Encrypted               2\n",
       "flow=From-Botnet-V51-2-TCP-Established                           2\n",
       "flow=From-Botnet-V51-2-TCP-CC106-IRC-Not-Encrypted               2\n",
       "flow=From-Botnet-V51-8-TCP-CC106-IRC-Not-Encrypted               2\n",
       "flow=From-Botnet-V51-9-TCP-CC106-IRC-Not-Encrypted               2\n",
       "flow=From-Botnet-V51-8-TCP-Established                           1\n",
       "flow=From-Botnet-V51-5-TCP-CC1-HTTP-Not-Encrypted                1\n",
       "flow=From-Botnet-V51-7-TCP-WEB-Established                       1\n",
       "flow=From-Botnet-V51-1-TCP-WEB-Established                       1\n",
       "flow=From-Botnet-V51-8-TCP-WEB-Established                       1\n",
       "flow=From-Botnet-V51-9-TCP-Established-HTTP-Ad-62                1\n",
       "flow=From-Botnet-V51-10-TCP-WEB-Established                      1\n",
       "flow=From-Botnet-V51-3-TCP-Established-HTTP-Ad-62                1\n",
       "Name: count, dtype: int64"
      ]
     },
     "execution_count": 93,
     "metadata": {},
     "output_type": "execute_result"
    }
   ],
   "source": [
    "rbot3[rbot3[\"Label\"].str.contains(\"Botnet\")][\"Label\"].value_counts().head(60)"
   ]
  },
  {
   "cell_type": "code",
   "execution_count": 94,
   "metadata": {},
   "outputs": [],
   "source": [
    "rbot3.loc[rbot3[(rbot3[\"Label\"] == \"flow=From-Normal-V51-Stribrek\") | (rbot3[\"Label\"] == \"flow=From-Normal-V51-Grill\") | (rbot3[\"Label\"] == \"flow=From-Normal-V51-Jist\") | (rbot3[\"Label\"] == \"flow=From-Normal-V51-CVUT-WebServer\")].index, \"Category\"] = \"Normal_Host_Traffic\""
   ]
  },
  {
   "cell_type": "markdown",
   "metadata": {},
   "source": [
    "### ICMP"
   ]
  },
  {
   "cell_type": "code",
   "execution_count": 95,
   "metadata": {},
   "outputs": [],
   "source": [
    "rbot3.loc[rbot3[(rbot3[\"Label\"].str.contains(\"Botnet\")) & (rbot3[\"Label\"].str.contains(\"ICMP\"))].index, \"Category\"] = \"MAL_ICMP\""
   ]
  },
  {
   "cell_type": "code",
   "execution_count": 96,
   "metadata": {},
   "outputs": [],
   "source": [
    "rbot3.loc[rbot3[(rbot3[\"Label\"].str.contains(\"Background\")) & (rbot3[\"Proto\"] == \"icmp\")].index, \"Category\"] = \"BG_ICMP\""
   ]
  },
  {
   "cell_type": "markdown",
   "metadata": {},
   "source": [
    "### UDP"
   ]
  },
  {
   "cell_type": "code",
   "execution_count": 97,
   "metadata": {},
   "outputs": [],
   "source": [
    "rbot3.loc[rbot3[(rbot3[\"Label\"].str.contains(\"Botnet\")) & (rbot3[\"Label\"].str.contains(\"UDP-Attempt\"))].index, \"Category\"] = \"MAL_UDP_FLOOD\""
   ]
  },
  {
   "cell_type": "code",
   "execution_count": 98,
   "metadata": {},
   "outputs": [],
   "source": [
    "rbot3.loc[rbot3[(rbot3[\"Label\"].str.contains(\"flow=Background-UDP-Attempt\"))].index, \"Category\"] = \"BG_UDP_ATTEMPT\""
   ]
  },
  {
   "cell_type": "code",
   "execution_count": 99,
   "metadata": {},
   "outputs": [
    {
     "data": {
      "text/plain": [
       "Category\n",
       "Other                  1134716\n",
       "MAL_ICMP                105977\n",
       "BG_UDP_ATTEMPT           27089\n",
       "BG_ICMP                  26735\n",
       "Normal_Host_Traffic      15134\n",
       "MAL_UDP_FLOOD              140\n",
       "Name: count, dtype: int64"
      ]
     },
     "execution_count": 99,
     "metadata": {},
     "output_type": "execute_result"
    }
   ],
   "source": [
    "rbot3[\"Category\"].value_counts()"
   ]
  },
  {
   "cell_type": "code",
   "execution_count": 109,
   "metadata": {},
   "outputs": [],
   "source": [
    "rbot3.to_csv(root_path + \"/10/rbot3_labelled.csv\", index=False)"
   ]
  },
  {
   "cell_type": "markdown",
   "metadata": {},
   "source": [
    "## rbot Scenario 4"
   ]
  },
  {
   "cell_type": "code",
   "execution_count": 100,
   "metadata": {},
   "outputs": [],
   "source": [
    "rbot4 = pd.read_csv(root_path + \"/11/capture20110818-2.binetflow\")"
   ]
  },
  {
   "cell_type": "code",
   "execution_count": 101,
   "metadata": {},
   "outputs": [
    {
     "data": {
      "text/plain": [
       "Index(['StartTime', 'Dur', 'Proto', 'SrcAddr', 'Sport', 'Dir', 'DstAddr',\n",
       "       'Dport', 'State', 'sTos', 'dTos', 'TotPkts', 'TotBytes', 'SrcBytes',\n",
       "       'Label'],\n",
       "      dtype='object')"
      ]
     },
     "execution_count": 101,
     "metadata": {},
     "output_type": "execute_result"
    }
   ],
   "source": [
    "rbot4.columns"
   ]
  },
  {
   "cell_type": "code",
   "execution_count": 102,
   "metadata": {},
   "outputs": [
    {
     "data": {
      "text/plain": [
       "Label\n",
       "flow=Background-UDP-Established           37342\n",
       "flow=To-Background-UDP-CVUT-DNS-Server    30568\n",
       "flow=Background-TCP-Established            9363\n",
       "flow=Background-Established-cmpgw-CVUT     6981\n",
       "flow=Background-Attempt-cmpgw-CVUT         3378\n",
       "flow=Background                            3230\n",
       "flow=Background-UDP-Attempt                1951\n",
       "flow=Background-TCP-Attempt                1244\n",
       "flow=To-Background-CVUT-Proxy               661\n",
       "flow=Background-UDP-NTP-Established-1       287\n",
       "Name: count, dtype: int64"
      ]
     },
     "execution_count": 102,
     "metadata": {},
     "output_type": "execute_result"
    }
   ],
   "source": [
    "rbot4[rbot4[\"Label\"].str.contains(\"Background\")][\"Label\"].value_counts().head(10)"
   ]
  },
  {
   "cell_type": "code",
   "execution_count": 103,
   "metadata": {},
   "outputs": [],
   "source": [
    "rbot4[\"Category\"] = \"Other\""
   ]
  },
  {
   "cell_type": "code",
   "execution_count": 104,
   "metadata": {},
   "outputs": [
    {
     "data": {
      "text/plain": [
       "Label\n",
       "flow=From-Normal-V52-Grill                  2113\n",
       "flow=From-Normal-V52-Stribrek                581\n",
       "flow=From-Normal-V52-Jist                     11\n",
       "flow=To-Normal-V52-UDP-NTP-server              8\n",
       "flow=From-Normal-V52-MatLab-Server             2\n",
       "flow=From-Normal-V52-UDP-CVUT-DNS-Server       1\n",
       "flow=Normal-V52-HTTP-windowsupdate             1\n",
       "flow=From-Normal-V52-CVUT-WebServer            1\n",
       "Name: count, dtype: int64"
      ]
     },
     "execution_count": 104,
     "metadata": {},
     "output_type": "execute_result"
    }
   ],
   "source": [
    "rbot4[rbot4[\"Label\"].str.contains(\"Normal\")][\"Label\"].value_counts().head(10)"
   ]
  },
  {
   "cell_type": "code",
   "execution_count": 105,
   "metadata": {},
   "outputs": [
    {
     "data": {
      "text/plain": [
       "Label\n",
       "flow=From-Botnet-V51-1-ICMP                                 4144\n",
       "flow=From-Botnet-V51-2-ICMP                                 3999\n",
       "flow=From-Botnet-V51-3-UDP-DNS                                 4\n",
       "flow=From-Botnet-V51-2-UDP-DNS                                 4\n",
       "flow=From-Botnet-V51-1-UDP-DNS                                 4\n",
       "flow=From-Botnet-V51-1-TCP-HTTP-Google-Net-Established-6       1\n",
       "flow=From-Botnet-V51-2-TCP-HTTP-Google-Net-Established-6       1\n",
       "flow=From-Botnet-V51-1-UDP-Attempt                             1\n",
       "flow=From-Botnet-V51-2-UDP-Attempt                             1\n",
       "flow=From-Botnet-V51-3-TCP-HTTP-Google-Net-Established-6       1\n",
       "flow=From-Botnet-V51-3-TCP-CC106-IRC-Not-Encrypted             1\n",
       "flow=From-Botnet-V51-3-UDP-Attempt                             1\n",
       "flow=From-Botnet-V51-2-TCP-CC106-IRC-Not-Encrypted             1\n",
       "flow=From-Botnet-V51-1-TCP-Established                         1\n",
       "Name: count, dtype: int64"
      ]
     },
     "execution_count": 105,
     "metadata": {},
     "output_type": "execute_result"
    }
   ],
   "source": [
    "rbot4[rbot4[\"Label\"].str.contains(\"Botnet\")][\"Label\"].value_counts().head(60)"
   ]
  },
  {
   "cell_type": "code",
   "execution_count": 106,
   "metadata": {},
   "outputs": [],
   "source": [
    "rbot4.loc[rbot4[(rbot4[\"Label\"] == \"flow=From-Normal-V52-Stribrek\") | (rbot4[\"Label\"] == \"flow=From-Normal-V52-Grill\") | (rbot4[\"Label\"] == \"flow=From-Normal-V52-Jist\") | (rbot4[\"Label\"] == \"flow=From-Normal-V52-CVUT-WebServer\")].index, \"Category\"] = \"Normal_Host_Traffic\""
   ]
  },
  {
   "cell_type": "markdown",
   "metadata": {},
   "source": [
    "### ICMP"
   ]
  },
  {
   "cell_type": "code",
   "execution_count": 107,
   "metadata": {},
   "outputs": [],
   "source": [
    "rbot4.loc[rbot4[(rbot4[\"Label\"].str.contains(\"Botnet\")) & (rbot4[\"Label\"].str.contains(\"ICMP\"))].index, \"Category\"] = \"MAL_ICMP\""
   ]
  },
  {
   "cell_type": "code",
   "execution_count": 108,
   "metadata": {},
   "outputs": [],
   "source": [
    "rbot4.loc[rbot4[(rbot4[\"Label\"].str.contains(\"Background\")) & (rbot4[\"Proto\"] == \"icmp\")].index, \"Category\"] = \"BG_ICMP\""
   ]
  },
  {
   "cell_type": "code",
   "execution_count": 110,
   "metadata": {},
   "outputs": [],
   "source": [
    "rbot4.to_csv(root_path + \"/11/rbot4_labelled.csv\", index=False)"
   ]
  }
 ],
 "metadata": {
  "interpreter": {
   "hash": "c3f05cff548d27ba543faa078c5eb2301136486ed3656c5f899e784307e6258e"
  },
  "kernelspec": {
   "display_name": "Python 3.9.9 64-bit ('data-science': venv)",
   "language": "python",
   "name": "python3"
  },
  "language_info": {
   "codemirror_mode": {
    "name": "ipython",
    "version": 3
   },
   "file_extension": ".py",
   "mimetype": "text/x-python",
   "name": "python",
   "nbconvert_exporter": "python",
   "pygments_lexer": "ipython3",
   "version": "3.9.9"
  },
  "orig_nbformat": 4
 },
 "nbformat": 4,
 "nbformat_minor": 2
}
